{
 "metadata": {
  "name": "",
  "signature": "sha256:ca6e88c2c7ffee45033ad03cac01d0ac18b56abc93ade84cade8ec01c67cb119"
 },
 "nbformat": 3,
 "nbformat_minor": 0,
 "worksheets": [
  {
   "cells": [
    {
     "cell_type": "markdown",
     "metadata": {},
     "source": [
      "Converting JSON file format\n",
      "===========================\n",
      "\n",
      "The .json file we produced in December has the wrong format for topoJSON - it needs an array (list), but we produced our data as a hash (dictionary).  We'll import it to Python, rearrange the data, and re-export it to JSON in the proper form."
     ]
    },
    {
     "cell_type": "code",
     "collapsed": false,
     "input": [
      "!head ../airmaps.json"
     ],
     "language": "python",
     "metadata": {},
     "outputs": [
      {
       "output_type": "stream",
       "stream": "stdout",
       "text": [
        "{\r\n",
        "  \"BOS\": {\r\n",
        "    \"url\": \"http://image.weather.com/web/radar/us_bos_closeradar_large_usen.jpg\",\r\n",
        "    \"coords\": {\r\n",
        "      \"long\": -71.005,\r\n",
        "      \"lat\": 42.36416666666667\r\n",
        "    }\r\n",
        "  },\r\n",
        "  \"BRO\": {\r\n",
        "    \"url\": \"http://image.weather.com/web/radar/us_bro_closeradar_large_usen.jpg\",\r\n"
       ]
      }
     ],
     "prompt_number": 2
    },
    {
     "cell_type": "code",
     "collapsed": false,
     "input": [
      "import json"
     ],
     "language": "python",
     "metadata": {},
     "outputs": [],
     "prompt_number": 3
    },
    {
     "cell_type": "code",
     "collapsed": false,
     "input": [
      "with open('../airmaps.json') as infile:\n",
      "    content = json.load(infile)"
     ],
     "language": "python",
     "metadata": {},
     "outputs": [],
     "prompt_number": 4
    },
    {
     "cell_type": "code",
     "collapsed": false,
     "input": [
      "content"
     ],
     "language": "python",
     "metadata": {},
     "outputs": [
      {
       "metadata": {},
       "output_type": "pyout",
       "prompt_number": 19,
       "text": [
        "{'BTV': {'url': 'http://image.weather.com/web/radar/us_btv_closeradar_large_usen.jpg',\n",
        "  'coords': {'lat': 44.47166666666667, 'long': -73.15305555555557}},\n",
        " 'DFW': {'url': 'http://image.weather.com/web/radar/us_dfw_closeradar_large_usen.jpg',\n",
        "  'coords': {'lat': 32.896388888888886, 'long': -97.0375}},\n",
        " 'PHX': {'url': 'http://image.weather.com/web/radar/us_phx_closeradar_large_usen.jpg',\n",
        "  'coords': {'lat': 33.43416666666666, 'long': -112.00805555555556}},\n",
        " 'TLH': {'url': 'http://image.weather.com/web/radar/us_tlh_closeradar_large_usen.jpg',\n",
        "  'coords': {'lat': 30.39638888888889, 'long': -84.35027777777778}},\n",
        " 'RNO': {'url': 'http://image.weather.com/web/radar/us_rno_closeradar_large_usen.jpg',\n",
        "  'coords': {'lat': 39.498333333333335, 'long': -119.76805555555555}},\n",
        " 'FAT': {'url': 'http://image.weather.com/web/radar/us_fat_closeradar_large_usen.jpg',\n",
        "  'coords': {'lat': 36.77611111111111, 'long': -119.71805555555555}},\n",
        " 'CHS': {'url': 'http://image.weather.com/web/radar/us_chs_closeradar_large_usen.jpg',\n",
        "  'coords': {'lat': 32.89861111111111, 'long': -80.04027777777777}},\n",
        " 'OKC': {'url': 'http://image.weather.com/web/radar/us_okc_closeradar_large_usen.jpg',\n",
        "  'coords': {'lat': 35.393055555555556, 'long': -97.60055555555554}},\n",
        " 'GEG': {'url': 'http://image.weather.com/web/radar/us_geg_closeradar_large_usen.jpg',\n",
        "  'coords': {'lat': 47.61972222222222, 'long': -117.53361111111111}},\n",
        " 'TPA': {'url': 'http://image.weather.com/web/radar/us_tpa_closeradar_large_usen.jpg',\n",
        "  'coords': {'lat': 27.975277777777777, 'long': -82.53305555555555}},\n",
        " 'CLT': {'url': 'http://image.weather.com/web/radar/us_clt_closeradar_large_usen.jpg',\n",
        "  'coords': {'lat': 35.21388888888889, 'long': -80.94305555555556}},\n",
        " 'LIT': {'url': 'http://image.weather.com/web/radar/us_lit_closeradar_large_usen.jpg',\n",
        "  'coords': {'lat': 34.72944444444445, 'long': -92.22416666666666}},\n",
        " 'DSM': {'url': 'http://image.weather.com/web/radar/us_dsm_closeradar_large_usen.jpg',\n",
        "  'coords': {'lat': 41.53388888888889, 'long': -93.66250000000001}},\n",
        " 'DEN': {'url': 'http://image.weather.com/web/radar/us_den_closeradar_large_usen.jpg',\n",
        "  'coords': {'lat': 39.858333333333334, 'long': -104.66694444444445}},\n",
        " 'ATL': {'url': 'http://image.weather.com/web/radar/us_atl_closeradar_large_usen.jpg',\n",
        "  'coords': {'lat': 33.640277777777776, 'long': -84.42694444444444}},\n",
        " 'MSP': {'url': 'http://image.weather.com/web/radar/us_msp_closeradar_large_usen.jpg',\n",
        "  'coords': {'lat': 44.88027777777778, 'long': -93.21666666666667}},\n",
        " 'IND': {'url': 'http://image.weather.com/web/radar/us_ind_closeradar_large_usen.jpg',\n",
        "  'coords': {'lat': 39.717222222222226, 'long': -86.29416666666667}},\n",
        " 'SEA': {'url': 'http://image.weather.com/web/radar/us_sea_closeradar_large_usen.jpg',\n",
        "  'coords': {'lat': 47.44888888888889, 'long': -122.30916666666667}},\n",
        " 'BRO': {'url': 'http://image.weather.com/web/radar/us_bro_closeradar_large_usen.jpg',\n",
        "  'coords': {'lat': 25.906666666666666, 'long': -97.42583333333334}},\n",
        " 'OMA': {'url': 'http://image.weather.com/web/radar/us_oma_closeradar_large_usen.jpg',\n",
        "  'coords': {'lat': 41.302499999999995, 'long': -95.89361111111111}},\n",
        " 'PDX': {'url': 'http://image.weather.com/web/radar/us_pdx_closeradar_large_usen.jpg',\n",
        "  'coords': {'lat': 45.58861111111111, 'long': -122.5975}},\n",
        " 'JAN': {'url': 'http://image.weather.com/web/radar/us_jan_closeradar_large_usen.jpg',\n",
        "  'coords': {'lat': 32.31111111111111, 'long': -90.07583333333334}},\n",
        " 'MAF': {'url': 'http://image.weather.com/web/radar/us_maf_closeradar_large_usen.jpg',\n",
        "  'coords': {'lat': 31.9425, 'long': -102.20166666666667}},\n",
        " 'ABQ': {'url': 'http://image.weather.com/web/radar/us_abq_closeradar_large_usen.jpg',\n",
        "  'coords': {'lat': 35.04, 'long': -106.60916666666667}},\n",
        " 'BOI': {'url': 'http://image.weather.com/web/radar/us_boi_closeradar_large_usen.jpg',\n",
        "  'coords': {'lat': 43.564166666666665, 'long': -116.22277777777778}},\n",
        " 'SHV': {'url': 'http://image.weather.com/web/radar/us_shv_closeradar_large_usen.jpg',\n",
        "  'coords': {'lat': 32.44638888888888, 'long': -93.82555555555555}},\n",
        " 'MIA': {'url': 'http://image.weather.com/web/radar/us_mia_closeradar_large_usen.jpg',\n",
        "  'coords': {'lat': 25.793055555555558, 'long': -80.29055555555556}},\n",
        " 'LAS': {'url': 'http://image.weather.com/web/radar/us_las_closeradar_large_usen.jpg',\n",
        "  'coords': {'lat': 36.08027777777778, 'long': -115.15222222222222}},\n",
        " 'CPR': {'url': 'http://image.weather.com/web/radar/us_cpr_closeradar_large_usen.jpg',\n",
        "  'coords': {'lat': 42.907777777777774, 'long': -106.46416666666667}},\n",
        " 'BOS': {'url': 'http://image.weather.com/web/radar/us_bos_closeradar_large_usen.jpg',\n",
        "  'coords': {'lat': 42.36416666666667, 'long': -71.005}},\n",
        " 'RIC': {'url': 'http://image.weather.com/web/radar/us_ric_closeradar_large_usen.jpg',\n",
        "  'coords': {'lat': 37.505, 'long': -77.31944444444444}},\n",
        " 'ORD': {'url': 'http://image.weather.com/web/radar/us_ord_closeradar_large_usen.jpg',\n",
        "  'coords': {'lat': 41.97944444444445, 'long': -87.90444444444445}},\n",
        " 'DTW': {'url': 'http://image.weather.com/web/radar/us_dtw_closeradar_large_usen.jpg',\n",
        "  'coords': {'lat': 42.21222222222222, 'long': -83.35333333333332}},\n",
        " 'ROC': {'url': 'http://image.weather.com/web/radar/us_roc_closeradar_large_usen.jpg',\n",
        "  'coords': {'lat': 43.118611111111115, 'long': -77.67222222222223}},\n",
        " 'SFO': {'url': 'http://image.weather.com/web/radar/us_sfo_closeradar_large_usen.jpg',\n",
        "  'coords': {'lat': 37.61888888888889, 'long': -122.37472222222222}},\n",
        " 'PIT': {'url': 'http://image.weather.com/web/radar/us_pit_closeradar_large_usen.jpg',\n",
        "  'coords': {'lat': 40.49138888888889, 'long': -80.23277777777778}},\n",
        " 'SLC': {'url': 'http://image.weather.com/web/radar/us_slc_closeradar_large_usen.jpg',\n",
        "  'coords': {'lat': 40.788333333333334, 'long': -111.9775}},\n",
        " 'SJU': {'url': 'http://image.weather.com/web/radar/us_sju_closeradar_large_usen.jpg',\n",
        "  'coords': {'lat': 18.439166666666665, 'long': -66.00166666666667}},\n",
        " 'STL': {'url': 'http://image.weather.com/web/radar/us_stl_closeradar_large_usen.jpg',\n",
        "  'coords': {'lat': 38.7475, 'long': -90.35972222222222}},\n",
        " 'DCA': {'url': 'http://image.weather.com/web/radar/us_dca_closeradar_large_usen.jpg',\n",
        "  'coords': {'lat': 38.85194444444445, 'long': -77.0375}},\n",
        " 'AMA': {'url': 'http://image.weather.com/web/radar/us_ama_closeradar_large_usen.jpg',\n",
        "  'coords': {'lat': 35.219166666666666, 'long': -101.70583333333333}},\n",
        " 'LAX': {'url': 'http://image.weather.com/web/radar/us_lax_closeradar_large_usen.jpg',\n",
        "  'coords': {'lat': 33.942499999999995, 'long': -118.40805555555556}},\n",
        " 'BHM': {'url': 'http://image.weather.com/web/radar/us_bhm_closeradar_large_usen.jpg',\n",
        "  'coords': {'lat': 33.562777777777775, 'long': -86.75333333333333}},\n",
        " 'SAT': {'url': 'http://image.weather.com/web/radar/us_sat_closeradar_large_usen.jpg',\n",
        "  'coords': {'lat': 29.533611111111114, 'long': -98.46972222222223}}}"
       ]
      }
     ],
     "prompt_number": 19
    },
    {
     "cell_type": "markdown",
     "metadata": {},
     "source": [
      "Converting our dictionary to a list - the old-fashioned way"
     ]
    },
    {
     "cell_type": "code",
     "collapsed": false,
     "input": [
      "lst = []\n",
      "for (k, v) in content.items():\n",
      "    lst.append({'code': k, 'url': v['url'], 'coords': v['coords']})"
     ],
     "language": "python",
     "metadata": {},
     "outputs": [],
     "prompt_number": 20
    },
    {
     "cell_type": "markdown",
     "metadata": {},
     "source": [
      "the new \"list comprehension\" way"
     ]
    },
    {
     "cell_type": "code",
     "collapsed": false,
     "input": [
      "lst = [{'code': k, 'url': v['url'], 'coords': v['coords']} for (k, v) in content.items()]"
     ],
     "language": "python",
     "metadata": {},
     "outputs": [],
     "prompt_number": 21
    },
    {
     "cell_type": "code",
     "collapsed": false,
     "input": [
      "lst"
     ],
     "language": "python",
     "metadata": {},
     "outputs": [
      {
       "metadata": {},
       "output_type": "pyout",
       "prompt_number": 22,
       "text": [
        "[{'code': 'BTV',\n",
        "  'url': 'http://image.weather.com/web/radar/us_btv_closeradar_large_usen.jpg',\n",
        "  'coords': {'lat': 44.47166666666667, 'long': -73.15305555555557}},\n",
        " {'code': 'DFW',\n",
        "  'url': 'http://image.weather.com/web/radar/us_dfw_closeradar_large_usen.jpg',\n",
        "  'coords': {'lat': 32.896388888888886, 'long': -97.0375}},\n",
        " {'code': 'PHX',\n",
        "  'url': 'http://image.weather.com/web/radar/us_phx_closeradar_large_usen.jpg',\n",
        "  'coords': {'lat': 33.43416666666666, 'long': -112.00805555555556}},\n",
        " {'code': 'TLH',\n",
        "  'url': 'http://image.weather.com/web/radar/us_tlh_closeradar_large_usen.jpg',\n",
        "  'coords': {'lat': 30.39638888888889, 'long': -84.35027777777778}},\n",
        " {'code': 'RNO',\n",
        "  'url': 'http://image.weather.com/web/radar/us_rno_closeradar_large_usen.jpg',\n",
        "  'coords': {'lat': 39.498333333333335, 'long': -119.76805555555555}},\n",
        " {'code': 'FAT',\n",
        "  'url': 'http://image.weather.com/web/radar/us_fat_closeradar_large_usen.jpg',\n",
        "  'coords': {'lat': 36.77611111111111, 'long': -119.71805555555555}},\n",
        " {'code': 'CHS',\n",
        "  'url': 'http://image.weather.com/web/radar/us_chs_closeradar_large_usen.jpg',\n",
        "  'coords': {'lat': 32.89861111111111, 'long': -80.04027777777777}},\n",
        " {'code': 'OKC',\n",
        "  'url': 'http://image.weather.com/web/radar/us_okc_closeradar_large_usen.jpg',\n",
        "  'coords': {'lat': 35.393055555555556, 'long': -97.60055555555554}},\n",
        " {'code': 'GEG',\n",
        "  'url': 'http://image.weather.com/web/radar/us_geg_closeradar_large_usen.jpg',\n",
        "  'coords': {'lat': 47.61972222222222, 'long': -117.53361111111111}},\n",
        " {'code': 'TPA',\n",
        "  'url': 'http://image.weather.com/web/radar/us_tpa_closeradar_large_usen.jpg',\n",
        "  'coords': {'lat': 27.975277777777777, 'long': -82.53305555555555}},\n",
        " {'code': 'CLT',\n",
        "  'url': 'http://image.weather.com/web/radar/us_clt_closeradar_large_usen.jpg',\n",
        "  'coords': {'lat': 35.21388888888889, 'long': -80.94305555555556}},\n",
        " {'code': 'LIT',\n",
        "  'url': 'http://image.weather.com/web/radar/us_lit_closeradar_large_usen.jpg',\n",
        "  'coords': {'lat': 34.72944444444445, 'long': -92.22416666666666}},\n",
        " {'code': 'DSM',\n",
        "  'url': 'http://image.weather.com/web/radar/us_dsm_closeradar_large_usen.jpg',\n",
        "  'coords': {'lat': 41.53388888888889, 'long': -93.66250000000001}},\n",
        " {'code': 'DEN',\n",
        "  'url': 'http://image.weather.com/web/radar/us_den_closeradar_large_usen.jpg',\n",
        "  'coords': {'lat': 39.858333333333334, 'long': -104.66694444444445}},\n",
        " {'code': 'ATL',\n",
        "  'url': 'http://image.weather.com/web/radar/us_atl_closeradar_large_usen.jpg',\n",
        "  'coords': {'lat': 33.640277777777776, 'long': -84.42694444444444}},\n",
        " {'code': 'MSP',\n",
        "  'url': 'http://image.weather.com/web/radar/us_msp_closeradar_large_usen.jpg',\n",
        "  'coords': {'lat': 44.88027777777778, 'long': -93.21666666666667}},\n",
        " {'code': 'IND',\n",
        "  'url': 'http://image.weather.com/web/radar/us_ind_closeradar_large_usen.jpg',\n",
        "  'coords': {'lat': 39.717222222222226, 'long': -86.29416666666667}},\n",
        " {'code': 'SEA',\n",
        "  'url': 'http://image.weather.com/web/radar/us_sea_closeradar_large_usen.jpg',\n",
        "  'coords': {'lat': 47.44888888888889, 'long': -122.30916666666667}},\n",
        " {'code': 'BRO',\n",
        "  'url': 'http://image.weather.com/web/radar/us_bro_closeradar_large_usen.jpg',\n",
        "  'coords': {'lat': 25.906666666666666, 'long': -97.42583333333334}},\n",
        " {'code': 'OMA',\n",
        "  'url': 'http://image.weather.com/web/radar/us_oma_closeradar_large_usen.jpg',\n",
        "  'coords': {'lat': 41.302499999999995, 'long': -95.89361111111111}},\n",
        " {'code': 'PDX',\n",
        "  'url': 'http://image.weather.com/web/radar/us_pdx_closeradar_large_usen.jpg',\n",
        "  'coords': {'lat': 45.58861111111111, 'long': -122.5975}},\n",
        " {'code': 'JAN',\n",
        "  'url': 'http://image.weather.com/web/radar/us_jan_closeradar_large_usen.jpg',\n",
        "  'coords': {'lat': 32.31111111111111, 'long': -90.07583333333334}},\n",
        " {'code': 'MAF',\n",
        "  'url': 'http://image.weather.com/web/radar/us_maf_closeradar_large_usen.jpg',\n",
        "  'coords': {'lat': 31.9425, 'long': -102.20166666666667}},\n",
        " {'code': 'ABQ',\n",
        "  'url': 'http://image.weather.com/web/radar/us_abq_closeradar_large_usen.jpg',\n",
        "  'coords': {'lat': 35.04, 'long': -106.60916666666667}},\n",
        " {'code': 'BOI',\n",
        "  'url': 'http://image.weather.com/web/radar/us_boi_closeradar_large_usen.jpg',\n",
        "  'coords': {'lat': 43.564166666666665, 'long': -116.22277777777778}},\n",
        " {'code': 'SHV',\n",
        "  'url': 'http://image.weather.com/web/radar/us_shv_closeradar_large_usen.jpg',\n",
        "  'coords': {'lat': 32.44638888888888, 'long': -93.82555555555555}},\n",
        " {'code': 'MIA',\n",
        "  'url': 'http://image.weather.com/web/radar/us_mia_closeradar_large_usen.jpg',\n",
        "  'coords': {'lat': 25.793055555555558, 'long': -80.29055555555556}},\n",
        " {'code': 'LAS',\n",
        "  'url': 'http://image.weather.com/web/radar/us_las_closeradar_large_usen.jpg',\n",
        "  'coords': {'lat': 36.08027777777778, 'long': -115.15222222222222}},\n",
        " {'code': 'CPR',\n",
        "  'url': 'http://image.weather.com/web/radar/us_cpr_closeradar_large_usen.jpg',\n",
        "  'coords': {'lat': 42.907777777777774, 'long': -106.46416666666667}},\n",
        " {'code': 'BOS',\n",
        "  'url': 'http://image.weather.com/web/radar/us_bos_closeradar_large_usen.jpg',\n",
        "  'coords': {'lat': 42.36416666666667, 'long': -71.005}},\n",
        " {'code': 'RIC',\n",
        "  'url': 'http://image.weather.com/web/radar/us_ric_closeradar_large_usen.jpg',\n",
        "  'coords': {'lat': 37.505, 'long': -77.31944444444444}},\n",
        " {'code': 'ORD',\n",
        "  'url': 'http://image.weather.com/web/radar/us_ord_closeradar_large_usen.jpg',\n",
        "  'coords': {'lat': 41.97944444444445, 'long': -87.90444444444445}},\n",
        " {'code': 'DTW',\n",
        "  'url': 'http://image.weather.com/web/radar/us_dtw_closeradar_large_usen.jpg',\n",
        "  'coords': {'lat': 42.21222222222222, 'long': -83.35333333333332}},\n",
        " {'code': 'ROC',\n",
        "  'url': 'http://image.weather.com/web/radar/us_roc_closeradar_large_usen.jpg',\n",
        "  'coords': {'lat': 43.118611111111115, 'long': -77.67222222222223}},\n",
        " {'code': 'SFO',\n",
        "  'url': 'http://image.weather.com/web/radar/us_sfo_closeradar_large_usen.jpg',\n",
        "  'coords': {'lat': 37.61888888888889, 'long': -122.37472222222222}},\n",
        " {'code': 'PIT',\n",
        "  'url': 'http://image.weather.com/web/radar/us_pit_closeradar_large_usen.jpg',\n",
        "  'coords': {'lat': 40.49138888888889, 'long': -80.23277777777778}},\n",
        " {'code': 'SLC',\n",
        "  'url': 'http://image.weather.com/web/radar/us_slc_closeradar_large_usen.jpg',\n",
        "  'coords': {'lat': 40.788333333333334, 'long': -111.9775}},\n",
        " {'code': 'SJU',\n",
        "  'url': 'http://image.weather.com/web/radar/us_sju_closeradar_large_usen.jpg',\n",
        "  'coords': {'lat': 18.439166666666665, 'long': -66.00166666666667}},\n",
        " {'code': 'STL',\n",
        "  'url': 'http://image.weather.com/web/radar/us_stl_closeradar_large_usen.jpg',\n",
        "  'coords': {'lat': 38.7475, 'long': -90.35972222222222}},\n",
        " {'code': 'DCA',\n",
        "  'url': 'http://image.weather.com/web/radar/us_dca_closeradar_large_usen.jpg',\n",
        "  'coords': {'lat': 38.85194444444445, 'long': -77.0375}},\n",
        " {'code': 'AMA',\n",
        "  'url': 'http://image.weather.com/web/radar/us_ama_closeradar_large_usen.jpg',\n",
        "  'coords': {'lat': 35.219166666666666, 'long': -101.70583333333333}},\n",
        " {'code': 'LAX',\n",
        "  'url': 'http://image.weather.com/web/radar/us_lax_closeradar_large_usen.jpg',\n",
        "  'coords': {'lat': 33.942499999999995, 'long': -118.40805555555556}},\n",
        " {'code': 'BHM',\n",
        "  'url': 'http://image.weather.com/web/radar/us_bhm_closeradar_large_usen.jpg',\n",
        "  'coords': {'lat': 33.562777777777775, 'long': -86.75333333333333}},\n",
        " {'code': 'SAT',\n",
        "  'url': 'http://image.weather.com/web/radar/us_sat_closeradar_large_usen.jpg',\n",
        "  'coords': {'lat': 29.533611111111114, 'long': -98.46972222222223}}]"
       ]
      }
     ],
     "prompt_number": 22
    },
    {
     "cell_type": "code",
     "collapsed": false,
     "input": [
      "with open('airmaps_lst.json', 'w') as outfile:\n",
      "    json.dump(lst, outfile)"
     ],
     "language": "python",
     "metadata": {},
     "outputs": [],
     "prompt_number": 23
    },
    {
     "cell_type": "code",
     "collapsed": false,
     "input": [
      "!head airmaps_lst.json"
     ],
     "language": "python",
     "metadata": {},
     "outputs": [
      {
       "output_type": "stream",
       "stream": "stdout",
       "text": [
        "[{\"code\": \"BTV\", \"url\": \"http://image.weather.com/web/radar/us_btv_closeradar_large_usen.jpg\", \"coords\": {\"lat\": 44.47166666666667, \"long\": -73.15305555555557}}, {\"code\": \"DFW\", \"url\": \"http://image.weather.com/web/radar/us_dfw_closeradar_large_usen.jpg\", \"coords\": {\"lat\": 32.896388888888886, \"long\": -97.0375}}, {\"code\": \"PHX\", \"url\": \"http://image.weather.com/web/radar/us_phx_closeradar_large_usen.jpg\", \"coords\": {\"lat\": 33.43416666666666, \"long\": -112.00805555555556}}, {\"code\": \"TLH\", \"url\": \"http://image.weather.com/web/radar/us_tlh_closeradar_large_usen.jpg\", \"coords\": {\"lat\": 30.39638888888889, \"long\": -84.35027777777778}}, {\"code\": \"RNO\", \"url\": \"http://image.weather.com/web/radar/us_rno_closeradar_large_usen.jpg\", \"coords\": {\"lat\": 39.498333333333335, \"long\": -119.76805555555555}}, {\"code\": \"FAT\", \"url\": \"http://image.weather.com/web/radar/us_fat_closeradar_large_usen.jpg\", \"coords\": {\"lat\": 36.77611111111111, \"long\": -119.71805555555555}}, {\"code\": \"CHS\", \"url\": \"http://image.weather.com/web/radar/us_chs_closeradar_large_usen.jpg\", \"coords\": {\"lat\": 32.89861111111111, \"long\": -80.04027777777777}}, {\"code\": \"OKC\", \"url\": \"http://image.weather.com/web/radar/us_okc_closeradar_large_usen.jpg\", \"coords\": {\"lat\": 35.393055555555556, \"long\": -97.60055555555554}}, {\"code\": \"GEG\", \"url\": \"http://image.weather.com/web/radar/us_geg_closeradar_large_usen.jpg\", \"coords\": {\"lat\": 47.61972222222222, \"long\": -117.53361111111111}}, {\"code\": \"TPA\", \"url\": \"http://image.weather.com/web/radar/us_tpa_closeradar_large_usen.jpg\", \"coords\": {\"lat\": 27.975277777777777, \"long\": -82.53305555555555}}, {\"code\": \"CLT\", \"url\": \"http://image.weather.com/web/radar/us_clt_closeradar_large_usen.jpg\", \"coords\": {\"lat\": 35.21388888888889, \"long\": -80.94305555555556}}, {\"code\": \"LIT\", \"url\": \"http://image.weather.com/web/radar/us_lit_closeradar_large_usen.jpg\", \"coords\": {\"lat\": 34.72944444444445, \"long\": -92.22416666666666}}, {\"code\": \"DSM\", \"url\": \"http://image.weather.com/web/radar/us_dsm_closeradar_large_usen.jpg\", \"coords\": {\"lat\": 41.53388888888889, \"long\": -93.66250000000001}}, {\"code\": \"DEN\", \"url\": \"http://image.weather.com/web/radar/us_den_closeradar_large_usen.jpg\", \"coords\": {\"lat\": 39.858333333333334, \"long\": -104.66694444444445}}, {\"code\": \"ATL\", \"url\": \"http://image.weather.com/web/radar/us_atl_closeradar_large_usen.jpg\", \"coords\": {\"lat\": 33.640277777777776, \"long\": -84.42694444444444}}, {\"code\": \"MSP\", \"url\": \"http://image.weather.com/web/radar/us_msp_closeradar_large_usen.jpg\", \"coords\": {\"lat\": 44.88027777777778, \"long\": -93.21666666666667}}, {\"code\": \"IND\", \"url\": \"http://image.weather.com/web/radar/us_ind_closeradar_large_usen.jpg\", \"coords\": {\"lat\": 39.717222222222226, \"long\": -86.29416666666667}}, {\"code\": \"SEA\", \"url\": \"http://image.weather.com/web/radar/us_sea_closeradar_large_usen.jpg\", \"coords\": {\"lat\": 47.44888888888889, \"long\": -122.30916666666667}}, {\"code\": \"BRO\", \"url\": \"http://image.weather.com/web/radar/us_bro_closeradar_large_usen.jpg\", \"coords\": {\"lat\": 25.906666666666666, \"long\": -97.42583333333334}}, {\"code\": \"OMA\", \"url\": \"http://image.weather.com/web/radar/us_oma_closeradar_large_usen.jpg\", \"coords\": {\"lat\": 41.302499999999995, \"long\": -95.89361111111111}}, {\"code\": \"PDX\", \"url\": \"http://image.weather.com/web/radar/us_pdx_closeradar_large_usen.jpg\", \"coords\": {\"lat\": 45.58861111111111, \"long\": -122.5975}}, {\"code\": \"JAN\", \"url\": \"http://image.weather.com/web/radar/us_jan_closeradar_large_usen.jpg\", \"coords\": {\"lat\": 32.31111111111111, \"long\": -90.07583333333334}}, {\"code\": \"MAF\", \"url\": \"http://image.weather.com/web/radar/us_maf_closeradar_large_usen.jpg\", \"coords\": {\"lat\": 31.9425, \"long\": -102.20166666666667}}, {\"code\": \"ABQ\", \"url\": \"http://image.weather.com/web/radar/us_abq_closeradar_large_usen.jpg\", \"coords\": {\"lat\": 35.04, \"long\": -106.60916666666667}}, {\"code\": \"BOI\", \"url\": \"http://image.weather.com/web/radar/us_boi_closeradar_large_usen.jpg\", \"coords\": {\"lat\": 43.564166666666665, \"long\": -116.22277777777778}}, {\"code\": \"SHV\", \"url\": \"http://image.weather.com/web/radar/us_shv_closeradar_large_usen.jpg\", \"coords\": {\"lat\": 32.44638888888888, \"long\": -93.82555555555555}}, {\"code\": \"MIA\", \"url\": \"http://image.weather.com/web/radar/us_mia_closeradar_large_usen.jpg\", \"coords\": {\"lat\": 25.793055555555558, \"long\": -80.29055555555556}}, {\"code\": \"LAS\", \"url\": \"http://image.weather.com/web/radar/us_las_closeradar_large_usen.jpg\", \"coords\": {\"lat\": 36.08027777777778, \"long\": -115.15222222222222}}, {\"code\": \"CPR\", \"url\": \"http://image.weather.com/web/radar/us_cpr_closeradar_large_usen.jpg\", \"coords\": {\"lat\": 42.907777777777774, \"long\": -106.46416666666667}}, {\"code\": \"BOS\", \"url\": \"http://image.weather.com/web/radar/us_bos_closeradar_large_usen.jpg\", \"coords\": {\"lat\": 42.36416666666667, \"long\": -71.005}}, {\"code\": \"RIC\", \"url\": \"http://image.weather.com/web/radar/us_ric_closeradar_large_usen.jpg\", \"coords\": {\"lat\": 37.505, \"long\": -77.31944444444444}}, {\"code\": \"ORD\", \"url\": \"http://image.weather.com/web/radar/us_ord_closeradar_large_usen.jpg\", \"coords\": {\"lat\": 41.97944444444445, \"long\": -87.90444444444445}}, {\"code\": \"DTW\", \"url\": \"http://image.weather.com/web/radar/us_dtw_closeradar_large_usen.jpg\", \"coords\": {\"lat\": 42.21222222222222, \"long\": -83.35333333333332}}, {\"code\": \"ROC\", \"url\": \"http://image.weather.com/web/radar/us_roc_closeradar_large_usen.jpg\", \"coords\": {\"lat\": 43.118611111111115, \"long\": -77.67222222222223}}, {\"code\": \"SFO\", \"url\": \"http://image.weather.com/web/radar/us_sfo_closeradar_large_usen.jpg\", \"coords\": {\"lat\": 37.61888888888889, \"long\": -122.37472222222222}}, {\"code\": \"PIT\", \"url\": \"http://image.weather.com/web/radar/us_pit_closeradar_large_usen.jpg\", \"coords\": {\"lat\": 40.49138888888889, \"long\": -80.23277777777778}}, {\"code\": \"SLC\", \"url\": \"http://image.weather.com/web/radar/us_slc_closeradar_large_usen.jpg\", \"coords\": {\"lat\": 40.788333333333334, \"long\": -111.9775}}, {\"code\": \"SJU\", \"url\": \"http://image.weather.com/web/radar/us_sju_closeradar_large_usen.jpg\", \"coords\": {\"lat\": 18.439166666666665, \"long\": -66.00166666666667}}, {\"code\": \"STL\", \"url\": \"http://image.weather.com/web/radar/us_stl_closeradar_large_usen.jpg\", \"coords\": {\"lat\": 38.7475, \"long\": -90.35972222222222}}, {\"code\": \"DCA\", \"url\": \"http://image.weather.com/web/radar/us_dca_closeradar_large_usen.jpg\", \"coords\": {\"lat\": 38.85194444444445, \"long\": -77.0375}}, {\"code\": \"AMA\", \"url\": \"http://image.weather.com/web/radar/us_ama_closeradar_large_usen.jpg\", \"coords\": {\"lat\": 35.219166666666666, \"long\": -101.70583333333333}}, {\"code\": \"LAX\", \"url\": \"http://image.weather.com/web/radar/us_lax_closeradar_large_usen.jpg\", \"coords\": {\"lat\": 33.942499999999995, \"long\": -118.40805555555556}}, {\"code\": \"BHM\", \"url\": \"http://image.weather.com/web/radar/us_bhm_closeradar_large_usen.jpg\", \"coords\": {\"lat\": 33.562777777777775, \"long\": -86.75333333333333}}, {\"code\": \"SAT\", \"url\": \"http://image.weather.com/web/radar/us_sat_closeradar_large_usen.jpg\", \"coords\": {\"lat\": 29.533611111111114, \"long\": -98.46972222222223}}]"
       ]
      }
     ],
     "prompt_number": 24
    },
    {
     "cell_type": "markdown",
     "metadata": {},
     "source": [
      "Learning D3\n",
      "==========="
     ]
    },
    {
     "cell_type": "markdown",
     "metadata": {},
     "source": [
      "\n",
      "There's an excellent, gentle D3 tutorial at https://github.com/janmilosh/d3js-presentation.  After installing [git]() on your machine,\n",
      "\n",
      "    git clone https://github.com/janmilosh/d3js-presentation\n",
      "    cd d3js-presentation\n",
      "    firefox index.html\n",
      "    \n",
      "View both the page rendered in a web browser and the raw index.html source code."
     ]
    },
    {
     "cell_type": "code",
     "collapsed": false,
     "input": [],
     "language": "python",
     "metadata": {},
     "outputs": []
    }
   ],
   "metadata": {}
  }
 ]
}