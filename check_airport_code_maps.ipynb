{
 "metadata": {
  "name": "",
  "signature": "sha256:743eb71fccae672b67dbcfdc7740187d73f9e7fe96ee6bc5cb05a4b12c76e787"
 },
 "nbformat": 3,
 "nbformat_minor": 0,
 "worksheets": [
  {
   "cells": [
    {
     "cell_type": "markdown",
     "metadata": {},
     "source": [
      "A project to find out which maps are present at http://image.weather.com/web/radar/ (given the absence of a directory listing).  From Dayton Dynamic Languages' Nov. 2014 meeting."
     ]
    },
    {
     "cell_type": "code",
     "collapsed": false,
     "input": [
      "!pip install ddlgenerator"
     ],
     "language": "python",
     "metadata": {},
     "outputs": [
      {
       "output_type": "stream",
       "stream": "stdout",
       "text": [
        "Requirement already satisfied (use --upgrade to upgrade): ddlgenerator in /home/catherine/proj/ddl-generator\r\n",
        "Requirement already satisfied (use --upgrade to upgrade): python-dateutil in /home/catherine/ve/ddl/lib/python3.4/site-packages/python_dateutil-2.2-py3.4.egg (from ddlgenerator)\r\n",
        "Requirement already satisfied (use --upgrade to upgrade): sqlalchemy in /home/catherine/ve/ddl/lib/python3.4/site-packages/SQLAlchemy-0.9.7-py3.4-linux-x86_64.egg (from ddlgenerator)\r\n",
        "Requirement already satisfied (use --upgrade to upgrade): dateutils in /home/catherine/ve/ddl/lib/python3.4/site-packages/dateutils-0.6.6-py3.4.egg (from ddlgenerator)\r\n",
        "Requirement already satisfied (use --upgrade to upgrade): pyyaml in /home/catherine/ve/ddl/lib/python3.4/site-packages/PyYAML-3.11-py3.4-linux-x86_64.egg (from ddlgenerator)\r\n",
        "Requirement already satisfied (use --upgrade to upgrade): beautifulsoup4 in /home/catherine/ve/ddl/lib/python3.4/site-packages (from ddlgenerator)\r\n",
        "Requirement already satisfied (use --upgrade to upgrade): requests in /home/catherine/ve/ddl/lib/python3.4/site-packages (from ddlgenerator)\r\n",
        "Requirement already satisfied (use --upgrade to upgrade): pymongo in /home/catherine/ve/ddl/lib/python3.4/site-packages (from ddlgenerator)\r\n",
        "Requirement already satisfied (use --upgrade to upgrade): data-dispenser>=0.2.4 in /home/catherine/proj/data-dispenser (from ddlgenerator)\r\n",
        "Requirement already satisfied (use --upgrade to upgrade): six in /home/catherine/ve/ddl/lib/python3.4/site-packages/six-1.8.0-py3.4.egg (from python-dateutil->ddlgenerator)\r\n",
        "Requirement already satisfied (use --upgrade to upgrade): argparse in /home/catherine/ve/ddl/lib/python3.4/site-packages/argparse-1.1-py3.4.egg (from dateutils->ddlgenerator)\r\n",
        "Requirement already satisfied (use --upgrade to upgrade): pytz in /home/catherine/ve/ddl/lib/python3.4/site-packages/pytz-2014.7-py3.4.egg (from dateutils->ddlgenerator)\r\n",
        "Cleaning up...\r\n"
       ]
      }
     ],
     "prompt_number": 1
    },
    {
     "cell_type": "code",
     "collapsed": false,
     "input": [
      "!pip install ipython_sql"
     ],
     "language": "python",
     "metadata": {},
     "outputs": [
      {
       "output_type": "stream",
       "stream": "stdout",
       "text": [
        "Requirement already satisfied (use --upgrade to upgrade): ipython-sql in /home/catherine/ve/ddl/lib/python3.4/site-packages\r\n",
        "Requirement already satisfied (use --upgrade to upgrade): prettytable in /home/catherine/ve/ddl/lib/python3.4/site-packages (from ipython-sql)\r\n",
        "Requirement already satisfied (use --upgrade to upgrade): ipython>=1.0 in /home/catherine/ve/ddl/lib/python3.4/site-packages (from ipython-sql)\r\n",
        "Requirement already satisfied (use --upgrade to upgrade): sqlalchemy>=0.6.7 in /home/catherine/ve/ddl/lib/python3.4/site-packages/SQLAlchemy-0.9.7-py3.4-linux-x86_64.egg (from ipython-sql)\r\n",
        "Requirement already satisfied (use --upgrade to upgrade): sqlparse in /home/catherine/ve/ddl/lib/python3.4/site-packages (from ipython-sql)\r\n",
        "Requirement already satisfied (use --upgrade to upgrade): six in /home/catherine/ve/ddl/lib/python3.4/site-packages/six-1.8.0-py3.4.egg (from ipython-sql)\r\n",
        "Cleaning up...\r\n"
       ]
      }
     ],
     "prompt_number": 10
    },
    {
     "cell_type": "code",
     "collapsed": false,
     "input": [
      "!ddlgenerator --inserts sqlite http://en.wikipedia.org/wiki/List_of_airports_in_the_United_States > airports.sql"
     ],
     "language": "python",
     "metadata": {},
     "outputs": [],
     "prompt_number": 2
    },
    {
     "cell_type": "code",
     "collapsed": false,
     "input": [
      "!rm airports.sqlite"
     ],
     "language": "python",
     "metadata": {},
     "outputs": [],
     "prompt_number": 3
    },
    {
     "cell_type": "code",
     "collapsed": false,
     "input": [
      "!sqlite3 airports.sqlite \".read airports.sql\""
     ],
     "language": "python",
     "metadata": {},
     "outputs": [
      {
       "output_type": "stream",
       "stream": "stdout",
       "text": [
        "\r\n"
       ]
      }
     ],
     "prompt_number": 4
    },
    {
     "cell_type": "code",
     "collapsed": false,
     "input": [
      "!sqlite3 airports.sqlite \"alter table list_of_airports_in_the_united_states rename to airports\""
     ],
     "language": "python",
     "metadata": {},
     "outputs": [],
     "prompt_number": 5
    },
    {
     "cell_type": "code",
     "collapsed": false,
     "input": [
      "%load_ext sql"
     ],
     "language": "python",
     "metadata": {},
     "outputs": [],
     "prompt_number": 6
    },
    {
     "cell_type": "code",
     "collapsed": false,
     "input": [
      "%sql sqlite:///airports.sqlite"
     ],
     "language": "python",
     "metadata": {},
     "outputs": [
      {
       "metadata": {},
       "output_type": "pyout",
       "prompt_number": 7,
       "text": [
        "'Connected: None@airports.sqlite'"
       ]
      }
     ],
     "prompt_number": 7
    },
    {
     "cell_type": "code",
     "collapsed": false,
     "input": [
      "%sql select * from airports limit 10"
     ],
     "language": "python",
     "metadata": {},
     "outputs": [
      {
       "output_type": "stream",
       "stream": "stdout",
       "text": [
        "Done.\n"
       ]
      },
      {
       "html": [
        "<table>\n",
        "    <tr>\n",
        "        <th>city</th>\n",
        "        <th>faa</th>\n",
        "        <th>iata</th>\n",
        "        <th>icao</th>\n",
        "        <th>airport</th>\n",
        "        <th>role</th>\n",
        "        <th>enplanements</th>\n",
        "    </tr>\n",
        "    <tr>\n",
        "        <td>ALABAMA</td>\n",
        "        <td>None</td>\n",
        "        <td>None</td>\n",
        "        <td>None</td>\n",
        "        <td>None</td>\n",
        "        <td>None</td>\n",
        "        <td>None</td>\n",
        "    </tr>\n",
        "    <tr>\n",
        "        <td>Birmingham</td>\n",
        "        <td>BHM</td>\n",
        "        <td>BHM</td>\n",
        "        <td>KBHM</td>\n",
        "        <td>Birmingham\u2013Shuttlesworth International Airport</td>\n",
        "        <td>P-S</td>\n",
        "        <td>1,335,014</td>\n",
        "    </tr>\n",
        "    <tr>\n",
        "        <td>Dothan</td>\n",
        "        <td>DHN</td>\n",
        "        <td>DHN</td>\n",
        "        <td>KDHN</td>\n",
        "        <td>Dothan Regional Airport</td>\n",
        "        <td>P-N</td>\n",
        "        <td>48,423</td>\n",
        "    </tr>\n",
        "    <tr>\n",
        "        <td>Huntsville</td>\n",
        "        <td>HSV</td>\n",
        "        <td>HSV</td>\n",
        "        <td>KHSV</td>\n",
        "        <td>Huntsville International Airport (Carl T. Jones Field)</td>\n",
        "        <td>P-S</td>\n",
        "        <td>505,541</td>\n",
        "    </tr>\n",
        "    <tr>\n",
        "        <td>Mobile</td>\n",
        "        <td>MOB</td>\n",
        "        <td>MOB</td>\n",
        "        <td>KMOB</td>\n",
        "        <td>Mobile Regional Airport</td>\n",
        "        <td>P-N</td>\n",
        "        <td>287,661</td>\n",
        "    </tr>\n",
        "    <tr>\n",
        "        <td>Montgomery</td>\n",
        "        <td>MGM</td>\n",
        "        <td>MGM</td>\n",
        "        <td>KMGM</td>\n",
        "        <td>Montgomery Regional Airport (Dannelly Field)</td>\n",
        "        <td>P-N</td>\n",
        "        <td>157,958</td>\n",
        "    </tr>\n",
        "    <tr>\n",
        "        <td>ALASKA</td>\n",
        "        <td>None</td>\n",
        "        <td>None</td>\n",
        "        <td>None</td>\n",
        "        <td>None</td>\n",
        "        <td>None</td>\n",
        "        <td>None</td>\n",
        "    </tr>\n",
        "    <tr>\n",
        "        <td>Anchorage</td>\n",
        "        <td>ANC</td>\n",
        "        <td>ANC</td>\n",
        "        <td>PANC</td>\n",
        "        <td>Ted Stevens Anchorage International Airport</td>\n",
        "        <td>P-M</td>\n",
        "        <td>2,325,030</td>\n",
        "    </tr>\n",
        "    <tr>\n",
        "        <td>Aniak</td>\n",
        "        <td>ANI</td>\n",
        "        <td>ANI</td>\n",
        "        <td>PANI</td>\n",
        "        <td>Aniak Airport</td>\n",
        "        <td>P-N</td>\n",
        "        <td>14,334</td>\n",
        "    </tr>\n",
        "    <tr>\n",
        "        <td>Barrow</td>\n",
        "        <td>BRW</td>\n",
        "        <td>BRW</td>\n",
        "        <td>PABR</td>\n",
        "        <td>Wiley Post\u2013Will Rogers Memorial Airport</td>\n",
        "        <td>P-N</td>\n",
        "        <td>51,568</td>\n",
        "    </tr>\n",
        "</table>"
       ],
       "metadata": {},
       "output_type": "pyout",
       "prompt_number": 8,
       "text": [
        "[('ALABAMA', None, None, None, None, None, None),\n",
        " ('Birmingham', 'BHM', 'BHM', 'KBHM', 'Birmingham\u2013Shuttlesworth International Airport', 'P-S', '1,335,014'),\n",
        " ('Dothan', 'DHN', 'DHN', 'KDHN', 'Dothan Regional Airport', 'P-N', '48,423'),\n",
        " ('Huntsville', 'HSV', 'HSV', 'KHSV', 'Huntsville International Airport (Carl T. Jones Field)', 'P-S', '505,541'),\n",
        " ('Mobile', 'MOB', 'MOB', 'KMOB', 'Mobile Regional Airport', 'P-N', '287,661'),\n",
        " ('Montgomery', 'MGM', 'MGM', 'KMGM', 'Montgomery Regional Airport (Dannelly Field)', 'P-N', '157,958'),\n",
        " ('ALASKA', None, None, None, None, None, None),\n",
        " ('Anchorage', 'ANC', 'ANC', 'PANC', 'Ted Stevens Anchorage International Airport', 'P-M', '2,325,030'),\n",
        " ('Aniak', 'ANI', 'ANI', 'PANI', 'Aniak Airport', 'P-N', '14,334'),\n",
        " ('Barrow', 'BRW', 'BRW', 'PABR', 'Wiley Post\u2013Will Rogers Memorial Airport', 'P-N', '51,568')]"
       ]
      }
     ],
     "prompt_number": 8
    },
    {
     "cell_type": "code",
     "collapsed": false,
     "input": [
      "base_url = 'http://image.weather.com/web/radar/us_%s_closeradar_large_usen.jpg'"
     ],
     "language": "python",
     "metadata": {},
     "outputs": [],
     "prompt_number": 9
    },
    {
     "cell_type": "code",
     "collapsed": false,
     "input": [
      "faa = %sql select faa, city from airports where faa is not null"
     ],
     "language": "python",
     "metadata": {},
     "outputs": [
      {
       "output_type": "stream",
       "stream": "stdout",
       "text": [
        "Done.\n"
       ]
      }
     ],
     "prompt_number": 11
    },
    {
     "cell_type": "code",
     "collapsed": false,
     "input": [
      "faa[:10]"
     ],
     "language": "python",
     "metadata": {},
     "outputs": [
      {
       "metadata": {},
       "output_type": "pyout",
       "prompt_number": 12,
       "text": [
        "[('BHM', 'Birmingham'),\n",
        " ('DHN', 'Dothan'),\n",
        " ('HSV', 'Huntsville'),\n",
        " ('MOB', 'Mobile'),\n",
        " ('MGM', 'Montgomery'),\n",
        " ('ANC', 'Anchorage'),\n",
        " ('ANI', 'Aniak'),\n",
        " ('BRW', 'Barrow'),\n",
        " ('BET', 'Bethel'),\n",
        " ('CDV', 'Cordova')]"
       ]
      }
     ],
     "prompt_number": 12
    },
    {
     "cell_type": "code",
     "collapsed": false,
     "input": [
      "iata = %sql select iata, city from airports where iata is not null"
     ],
     "language": "python",
     "metadata": {},
     "outputs": [
      {
       "output_type": "stream",
       "stream": "stdout",
       "text": [
        "Done.\n"
       ]
      }
     ],
     "prompt_number": 13
    },
    {
     "cell_type": "code",
     "collapsed": false,
     "input": [
      "results = set(tuple(f) for f in faa) | set(tuple(i) for i in iata)\n"
     ],
     "language": "python",
     "metadata": {},
     "outputs": [],
     "prompt_number": 14
    },
    {
     "cell_type": "code",
     "collapsed": false,
     "input": [
      "len(results)"
     ],
     "language": "python",
     "metadata": {},
     "outputs": [
      {
       "metadata": {},
       "output_type": "pyout",
       "prompt_number": 15,
       "text": [
        "397"
       ]
      }
     ],
     "prompt_number": 15
    },
    {
     "cell_type": "code",
     "collapsed": false,
     "input": [
      "urls = [(base_url % r[0].lower(), r[1]) for r in results]"
     ],
     "language": "python",
     "metadata": {},
     "outputs": [],
     "prompt_number": 16
    },
    {
     "cell_type": "code",
     "collapsed": false,
     "input": [
      "urls[:10]"
     ],
     "language": "python",
     "metadata": {},
     "outputs": [
      {
       "metadata": {},
       "output_type": "pyout",
       "prompt_number": 17,
       "text": [
        "[('http://image.weather.com/web/radar/us_rkd_closeradar_large_usen.jpg',\n",
        "  'Rockland'),\n",
        " ('http://image.weather.com/web/radar/us_gtr_closeradar_large_usen.jpg',\n",
        "  'Columbus / West Point / Starkville'),\n",
        " ('http://image.weather.com/web/radar/us_hln_closeradar_large_usen.jpg',\n",
        "  'Helena'),\n",
        " ('http://image.weather.com/web/radar/us_wrg_closeradar_large_usen.jpg',\n",
        "  'Wrangell'),\n",
        " ('http://image.weather.com/web/radar/us_grk_closeradar_large_usen.jpg',\n",
        "  'Fort Hood / Killeen / Temple'),\n",
        " ('http://image.weather.com/web/radar/us_ani_closeradar_large_usen.jpg',\n",
        "  'Aniak'),\n",
        " ('http://image.weather.com/web/radar/us_hts_closeradar_large_usen.jpg',\n",
        "  'Huntington'),\n",
        " ('http://image.weather.com/web/radar/us_myr_closeradar_large_usen.jpg',\n",
        "  'Myrtle Beach'),\n",
        " ('http://image.weather.com/web/radar/us_dro_closeradar_large_usen.jpg',\n",
        "  'Durango'),\n",
        " ('http://image.weather.com/web/radar/us_mtj_closeradar_large_usen.jpg',\n",
        "  'Montrose')]"
       ]
      }
     ],
     "prompt_number": 17
    },
    {
     "cell_type": "code",
     "collapsed": false,
     "input": [
      "import requests"
     ],
     "language": "python",
     "metadata": {},
     "outputs": [],
     "prompt_number": 18
    },
    {
     "cell_type": "code",
     "collapsed": false,
     "input": [
      "response = requests.get(base_url % 'atl')"
     ],
     "language": "python",
     "metadata": {},
     "outputs": [],
     "prompt_number": 19
    },
    {
     "cell_type": "code",
     "collapsed": false,
     "input": [
      "response"
     ],
     "language": "python",
     "metadata": {},
     "outputs": [
      {
       "metadata": {},
       "output_type": "pyout",
       "prompt_number": 20,
       "text": [
        "<Response [200]>"
       ]
      }
     ],
     "prompt_number": 20
    },
    {
     "cell_type": "code",
     "collapsed": false,
     "input": [
      "response.status_code"
     ],
     "language": "python",
     "metadata": {},
     "outputs": [
      {
       "metadata": {},
       "output_type": "pyout",
       "prompt_number": 21,
       "text": [
        "200"
       ]
      }
     ],
     "prompt_number": 21
    },
    {
     "cell_type": "code",
     "collapsed": false,
     "input": [
      "import time"
     ],
     "language": "python",
     "metadata": {},
     "outputs": [],
     "prompt_number": 22
    },
    {
     "cell_type": "code",
     "collapsed": false,
     "input": [
      "valid_urls = []"
     ],
     "language": "python",
     "metadata": {},
     "outputs": [],
     "prompt_number": 23
    },
    {
     "cell_type": "code",
     "collapsed": false,
     "input": [
      "for (url, city) in urls:\n",
      "    response = requests.get(url)\n",
      "    if response.status_code == 200:\n",
      "        valid_urls.append((url, city))\n",
      "    print(url, city, response.status_code)\n",
      "    time.sleep(2)"
     ],
     "language": "python",
     "metadata": {},
     "outputs": [
      {
       "output_type": "stream",
       "stream": "stdout",
       "text": [
        "http://image.weather.com/web/radar/us_rkd_closeradar_large_usen.jpg Rockland 404\n",
        "http://image.weather.com/web/radar/us_gtr_closeradar_large_usen.jpg"
       ]
      },
      {
       "output_type": "stream",
       "stream": "stdout",
       "text": [
        " Columbus / West Point / Starkville 404\n",
        "http://image.weather.com/web/radar/us_hln_closeradar_large_usen.jpg"
       ]
      },
      {
       "output_type": "stream",
       "stream": "stdout",
       "text": [
        " Helena 404\n",
        "http://image.weather.com/web/radar/us_wrg_closeradar_large_usen.jpg"
       ]
      },
      {
       "output_type": "stream",
       "stream": "stdout",
       "text": [
        " Wrangell 404\n",
        "http://image.weather.com/web/radar/us_grk_closeradar_large_usen.jpg"
       ]
      },
      {
       "output_type": "stream",
       "stream": "stdout",
       "text": [
        " Fort Hood / Killeen / Temple 404\n",
        "http://image.weather.com/web/radar/us_ani_closeradar_large_usen.jpg"
       ]
      },
      {
       "output_type": "stream",
       "stream": "stdout",
       "text": [
        " Aniak 404\n",
        "http://image.weather.com/web/radar/us_hts_closeradar_large_usen.jpg"
       ]
      },
      {
       "output_type": "stream",
       "stream": "stdout",
       "text": [
        " Huntington 404\n",
        "http://image.weather.com/web/radar/us_myr_closeradar_large_usen.jpg"
       ]
      },
      {
       "output_type": "stream",
       "stream": "stdout",
       "text": [
        " Myrtle Beach 404\n",
        "http://image.weather.com/web/radar/us_dro_closeradar_large_usen.jpg"
       ]
      },
      {
       "output_type": "stream",
       "stream": "stdout",
       "text": [
        " Durango 404\n",
        "http://image.weather.com/web/radar/us_mtj_closeradar_large_usen.jpg"
       ]
      },
      {
       "output_type": "stream",
       "stream": "stdout",
       "text": [
        " Montrose 404\n",
        "http://image.weather.com/web/radar/us_fsm_closeradar_large_usen.jpg"
       ]
      },
      {
       "output_type": "stream",
       "stream": "stdout",
       "text": [
        " Fort Smith 404\n",
        "http://image.weather.com/web/radar/us_roa_closeradar_large_usen.jpg"
       ]
      },
      {
       "output_type": "stream",
       "stream": "stdout",
       "text": [
        " Roanoke 404\n",
        "http://image.weather.com/web/radar/us_rdd_closeradar_large_usen.jpg"
       ]
      },
      {
       "output_type": "stream",
       "stream": "stdout",
       "text": [
        " Redding 404\n",
        "http://image.weather.com/web/radar/us_las_closeradar_large_usen.jpg"
       ]
      },
      {
       "output_type": "stream",
       "stream": "stdout",
       "text": [
        " Las Vegas 200\n",
        "http://image.weather.com/web/radar/us_mke_closeradar_large_usen.jpg"
       ]
      },
      {
       "output_type": "stream",
       "stream": "stdout",
       "text": [
        " Milwaukee 404\n",
        "http://image.weather.com/web/radar/us_ewb_closeradar_large_usen.jpg"
       ]
      },
      {
       "output_type": "stream",
       "stream": "stdout",
       "text": [
        " New Bedford 404\n",
        "http://image.weather.com/web/radar/us_brd_closeradar_large_usen.jpg"
       ]
      },
      {
       "output_type": "stream",
       "stream": "stdout",
       "text": [
        " Brainerd 404\n",
        "http://image.weather.com/web/radar/us_lck_closeradar_large_usen.jpg"
       ]
      },
      {
       "output_type": "stream",
       "stream": "stdout",
       "text": [
        " Columbus 404\n",
        "http://image.weather.com/web/radar/us_sjc_closeradar_large_usen.jpg"
       ]
      },
      {
       "output_type": "stream",
       "stream": "stdout",
       "text": [
        " San Jose 404\n",
        "http://image.weather.com/web/radar/us_rks_closeradar_large_usen.jpg"
       ]
      },
      {
       "output_type": "stream",
       "stream": "stdout",
       "text": [
        " Rock Springs 404\n",
        "http://image.weather.com/web/radar/us_mvy_closeradar_large_usen.jpg"
       ]
      },
      {
       "output_type": "stream",
       "stream": "stdout",
       "text": [
        " Vineyard Haven 404\n",
        "http://image.weather.com/web/radar/us_fnt_closeradar_large_usen.jpg"
       ]
      },
      {
       "output_type": "stream",
       "stream": "stdout",
       "text": [
        " Flint 404\n",
        "http://image.weather.com/web/radar/us_ykm_closeradar_large_usen.jpg"
       ]
      },
      {
       "output_type": "stream",
       "stream": "stdout",
       "text": [
        " Yakima 404\n",
        "http://image.weather.com/web/radar/us_dbq_closeradar_large_usen.jpg"
       ]
      },
      {
       "output_type": "stream",
       "stream": "stdout",
       "text": [
        " Dubuque 404\n",
        "http://image.weather.com/web/radar/us_sea_closeradar_large_usen.jpg"
       ]
      },
      {
       "output_type": "stream",
       "stream": "stdout",
       "text": [
        " Seattle / Tacoma (SeaTac) 200\n",
        "http://image.weather.com/web/radar/us_avp_closeradar_large_usen.jpg"
       ]
      },
      {
       "output_type": "stream",
       "stream": "stdout",
       "text": [
        " Wilkes-Barre / Scranton 404\n",
        "http://image.weather.com/web/radar/us_mry_closeradar_large_usen.jpg"
       ]
      },
      {
       "output_type": "stream",
       "stream": "stdout",
       "text": [
        " Monterey 404\n",
        "http://image.weather.com/web/radar/us_bis_closeradar_large_usen.jpg"
       ]
      },
      {
       "output_type": "stream",
       "stream": "stdout",
       "text": [
        " Bismarck 200\n",
        "http://image.weather.com/web/radar/us_eug_closeradar_large_usen.jpg"
       ]
      },
      {
       "output_type": "stream",
       "stream": "stdout",
       "text": [
        " Eugene 404\n",
        "http://image.weather.com/web/radar/us_gfk_closeradar_large_usen.jpg"
       ]
      },
      {
       "output_type": "stream",
       "stream": "stdout",
       "text": [
        " Grand Forks 404\n",
        "http://image.weather.com/web/radar/us_msn_closeradar_large_usen.jpg"
       ]
      },
      {
       "output_type": "stream",
       "stream": "stdout",
       "text": [
        " Madison 404\n",
        "http://image.weather.com/web/radar/us_cec_closeradar_large_usen.jpg"
       ]
      },
      {
       "output_type": "stream",
       "stream": "stdout",
       "text": [
        " Crescent City 404\n",
        "http://image.weather.com/web/radar/us_lnk_closeradar_large_usen.jpg"
       ]
      },
      {
       "output_type": "stream",
       "stream": "stdout",
       "text": [
        " Lincoln 404\n",
        "http://image.weather.com/web/radar/us_lbb_closeradar_large_usen.jpg"
       ]
      },
      {
       "output_type": "stream",
       "stream": "stdout",
       "text": [
        " Lubbock 404\n",
        "http://image.weather.com/web/radar/us_san_closeradar_large_usen.jpg"
       ]
      },
      {
       "output_type": "stream",
       "stream": "stdout",
       "text": [
        " San Diego 404\n",
        "http://image.weather.com/web/radar/us_leb_closeradar_large_usen.jpg"
       ]
      },
      {
       "output_type": "stream",
       "stream": "stdout",
       "text": [
        " Lebanon 404\n",
        "http://image.weather.com/web/radar/us_bgr_closeradar_large_usen.jpg"
       ]
      },
      {
       "output_type": "stream",
       "stream": "stdout",
       "text": [
        " Bangor 404\n",
        "http://image.weather.com/web/radar/us_bil_closeradar_large_usen.jpg"
       ]
      },
      {
       "output_type": "stream",
       "stream": "stdout",
       "text": [
        " Billings 200\n",
        "http://image.weather.com/web/radar/us_rdm_closeradar_large_usen.jpg"
       ]
      },
      {
       "output_type": "stream",
       "stream": "stdout",
       "text": [
        " Redmond 404\n",
        "http://image.weather.com/web/radar/us_1g4_closeradar_large_usen.jpg"
       ]
      },
      {
       "output_type": "stream",
       "stream": "stdout",
       "text": [
        " Peach Springs 404\n",
        "http://image.weather.com/web/radar/us_abr_closeradar_large_usen.jpg"
       ]
      },
      {
       "output_type": "stream",
       "stream": "stdout",
       "text": [
        " Aberdeen 404\n",
        "http://image.weather.com/web/radar/us_ewn_closeradar_large_usen.jpg"
       ]
      },
      {
       "output_type": "stream",
       "stream": "stdout",
       "text": [
        " New Bern 404\n",
        "http://image.weather.com/web/radar/us_sux_closeradar_large_usen.jpg"
       ]
      },
      {
       "output_type": "stream",
       "stream": "stdout",
       "text": [
        " Sioux City 404\n",
        "http://image.weather.com/web/radar/us_ggg_closeradar_large_usen.jpg"
       ]
      },
      {
       "output_type": "stream",
       "stream": "stdout",
       "text": [
        " Longview 404\n",
        "http://image.weather.com/web/radar/us_bur_closeradar_large_usen.jpg"
       ]
      },
      {
       "output_type": "stream",
       "stream": "stdout",
       "text": [
        " Burbank 404\n",
        "http://image.weather.com/web/radar/us_ase_closeradar_large_usen.jpg"
       ]
      },
      {
       "output_type": "stream",
       "stream": "stdout",
       "text": [
        " Aspen 404\n",
        "http://image.weather.com/web/radar/us_imt_closeradar_large_usen.jpg"
       ]
      },
      {
       "output_type": "stream",
       "stream": "stdout",
       "text": [
        " Iron Mountain / Kingsford 404\n",
        "http://image.weather.com/web/radar/us_mgw_closeradar_large_usen.jpg"
       ]
      },
      {
       "output_type": "stream",
       "stream": "stdout",
       "text": [
        " Morgantown 404\n",
        "http://image.weather.com/web/radar/us_esc_closeradar_large_usen.jpg"
       ]
      },
      {
       "output_type": "stream",
       "stream": "stdout",
       "text": [
        " Escanaba 404\n",
        "http://image.weather.com/web/radar/us_ord_closeradar_large_usen.jpg"
       ]
      },
      {
       "output_type": "stream",
       "stream": "stdout",
       "text": [
        " Chicago 200\n",
        "http://image.weather.com/web/radar/us_okc_closeradar_large_usen.jpg"
       ]
      },
      {
       "output_type": "stream",
       "stream": "stdout",
       "text": [
        " Oklahoma City 200\n",
        "http://image.weather.com/web/radar/us_ttn_closeradar_large_usen.jpg"
       ]
      },
      {
       "output_type": "stream",
       "stream": "stdout",
       "text": [
        " Trenton 404\n",
        "http://image.weather.com/web/radar/us_sck_closeradar_large_usen.jpg"
       ]
      },
      {
       "output_type": "stream",
       "stream": "stdout",
       "text": [
        " Stockton 404\n",
        "http://image.weather.com/web/radar/us_ege_closeradar_large_usen.jpg"
       ]
      },
      {
       "output_type": "stream",
       "stream": "stdout",
       "text": [
        " Eagle 404\n",
        "http://image.weather.com/web/radar/us_spi_closeradar_large_usen.jpg"
       ]
      },
      {
       "output_type": "stream",
       "stream": "stdout",
       "text": [
        " Springfield 404\n",
        "http://image.weather.com/web/radar/us_stx_closeradar_large_usen.jpg"
       ]
      },
      {
       "output_type": "stream",
       "stream": "stdout",
       "text": [
        " Christiansted, St. Croix 404\n",
        "http://image.weather.com/web/radar/us_tul_closeradar_large_usen.jpg"
       ]
      },
      {
       "output_type": "stream",
       "stream": "stdout",
       "text": [
        " Tulsa 404\n",
        "http://image.weather.com/web/radar/us_crq_closeradar_large_usen.jpg"
       ]
      },
      {
       "output_type": "stream",
       "stream": "stdout",
       "text": [
        " Carlsbad 404\n",
        "http://image.weather.com/web/radar/us_sba_closeradar_large_usen.jpg"
       ]
      },
      {
       "output_type": "stream",
       "stream": "stdout",
       "text": [
        " Santa Barbara 404\n",
        "http://image.weather.com/web/radar/us_cic_closeradar_large_usen.jpg"
       ]
      },
      {
       "output_type": "stream",
       "stream": "stdout",
       "text": [
        " Chico 404\n",
        "http://image.weather.com/web/radar/us_sna_closeradar_large_usen.jpg"
       ]
      },
      {
       "output_type": "stream",
       "stream": "stdout",
       "text": [
        " Santa Ana 404\n",
        "http://image.weather.com/web/radar/us_env_closeradar_large_usen.jpg"
       ]
      },
      {
       "output_type": "stream",
       "stream": "stdout",
       "text": [
        " Wendover 404\n",
        "http://image.weather.com/web/radar/us_gso_closeradar_large_usen.jpg"
       ]
      },
      {
       "output_type": "stream",
       "stream": "stdout",
       "text": [
        " Greensboro 404\n",
        "http://image.weather.com/web/radar/us_crw_closeradar_large_usen.jpg"
       ]
      },
      {
       "output_type": "stream",
       "stream": "stdout",
       "text": [
        " Charleston 200\n",
        "http://image.weather.com/web/radar/us_msp_closeradar_large_usen.jpg"
       ]
      },
      {
       "output_type": "stream",
       "stream": "stdout",
       "text": [
        " Minneapolis 200\n",
        "http://image.weather.com/web/radar/us_yum_closeradar_large_usen.jpg"
       ]
      },
      {
       "output_type": "stream",
       "stream": "stdout",
       "text": [
        " Yuma 404\n",
        "http://image.weather.com/web/radar/us_gal_closeradar_large_usen.jpg"
       ]
      },
      {
       "output_type": "stream",
       "stream": "stdout",
       "text": [
        " Galena 404\n",
        "http://image.weather.com/web/radar/us_blv_closeradar_large_usen.jpg"
       ]
      },
      {
       "output_type": "stream",
       "stream": "stdout",
       "text": [
        " Belleville 404\n",
        "http://image.weather.com/web/radar/us_abq_closeradar_large_usen.jpg"
       ]
      },
      {
       "output_type": "stream",
       "stream": "stdout",
       "text": [
        " Albuquerque 200\n",
        "http://image.weather.com/web/radar/us_hhh_closeradar_large_usen.jpg"
       ]
      },
      {
       "output_type": "stream",
       "stream": "stdout",
       "text": [
        " Hilton Head Island 404\n",
        "http://image.weather.com/web/radar/us_ito_closeradar_large_usen.jpg"
       ]
      },
      {
       "output_type": "stream",
       "stream": "stdout",
       "text": [
        " Hilo 404\n",
        "http://image.weather.com/web/radar/us_iad_closeradar_large_usen.jpg"
       ]
      },
      {
       "output_type": "stream",
       "stream": "stdout",
       "text": [
        " Washington, D.C. / Chantilly / Dulles 404\n",
        "http://image.weather.com/web/radar/us_msy_closeradar_large_usen.jpg"
       ]
      },
      {
       "output_type": "stream",
       "stream": "stdout",
       "text": [
        " New Orleans 404\n",
        "http://image.weather.com/web/radar/us_eyw_closeradar_large_usen.jpg"
       ]
      },
      {
       "output_type": "stream",
       "stream": "stdout",
       "text": [
        " Key West 404\n",
        "http://image.weather.com/web/radar/us_hpn_closeradar_large_usen.jpg"
       ]
      },
      {
       "output_type": "stream",
       "stream": "stdout",
       "text": [
        " White Plains 404\n",
        "http://image.weather.com/web/radar/us_dhn_closeradar_large_usen.jpg"
       ]
      },
      {
       "output_type": "stream",
       "stream": "stdout",
       "text": [
        " Dothan 404\n",
        "http://image.weather.com/web/radar/us_ags_closeradar_large_usen.jpg"
       ]
      },
      {
       "output_type": "stream",
       "stream": "stdout",
       "text": [
        " Augusta 404\n",
        "http://image.weather.com/web/radar/us_jan_closeradar_large_usen.jpg"
       ]
      },
      {
       "output_type": "stream",
       "stream": "stdout",
       "text": [
        " Jackson 200\n",
        "http://image.weather.com/web/radar/us_eko_closeradar_large_usen.jpg"
       ]
      },
      {
       "output_type": "stream",
       "stream": "stdout",
       "text": [
        " Elko 404\n",
        "http://image.weather.com/web/radar/us_bhb_closeradar_large_usen.jpg"
       ]
      },
      {
       "output_type": "stream",
       "stream": "stdout",
       "text": [
        " Bar Harbor 404\n",
        "http://image.weather.com/web/radar/us_pbi_closeradar_large_usen.jpg"
       ]
      },
      {
       "output_type": "stream",
       "stream": "stdout",
       "text": [
        " West Palm Beach 404\n",
        "http://image.weather.com/web/radar/us_pir_closeradar_large_usen.jpg"
       ]
      },
      {
       "output_type": "stream",
       "stream": "stdout",
       "text": [
        " Pierre 404\n",
        "http://image.weather.com/web/radar/us_lny_closeradar_large_usen.jpg"
       ]
      },
      {
       "output_type": "stream",
       "stream": "stdout",
       "text": [
        " Lanai City (L\u0101na\u02bbi City) 404\n",
        "http://image.weather.com/web/radar/us_xna_closeradar_large_usen.jpg"
       ]
      },
      {
       "output_type": "stream",
       "stream": "stdout",
       "text": [
        " Fayetteville 404\n",
        "http://image.weather.com/web/radar/us_sit_closeradar_large_usen.jpg"
       ]
      },
      {
       "output_type": "stream",
       "stream": "stdout",
       "text": [
        " Sitka 404\n",
        "http://image.weather.com/web/radar/us_lwb_closeradar_large_usen.jpg"
       ]
      },
      {
       "output_type": "stream",
       "stream": "stdout",
       "text": [
        " Lewisburg 404\n",
        "http://image.weather.com/web/radar/us_ida_closeradar_large_usen.jpg"
       ]
      },
      {
       "output_type": "stream",
       "stream": "stdout",
       "text": [
        " Idaho Falls 404\n",
        "http://image.weather.com/web/radar/us_sbn_closeradar_large_usen.jpg"
       ]
      },
      {
       "output_type": "stream",
       "stream": "stdout",
       "text": [
        " South Bend 404\n",
        "http://image.weather.com/web/radar/us_ind_closeradar_large_usen.jpg"
       ]
      },
      {
       "output_type": "stream",
       "stream": "stdout",
       "text": [
        " Indianapolis 200\n",
        "http://image.weather.com/web/radar/us_hsv_closeradar_large_usen.jpg"
       ]
      },
      {
       "output_type": "stream",
       "stream": "stdout",
       "text": [
        " Huntsville 404\n",
        "http://image.weather.com/web/radar/us_pln_closeradar_large_usen.jpg"
       ]
      },
      {
       "output_type": "stream",
       "stream": "stdout",
       "text": [
        " Pellston 404\n",
        "http://image.weather.com/web/radar/us_pga_closeradar_large_usen.jpg"
       ]
      },
      {
       "output_type": "stream",
       "stream": "stdout",
       "text": [
        " Page 404\n",
        "http://image.weather.com/web/radar/us_mlb_closeradar_large_usen.jpg"
       ]
      },
      {
       "output_type": "stream",
       "stream": "stdout",
       "text": [
        " Melbourne 404\n",
        "http://image.weather.com/web/radar/us_elm_closeradar_large_usen.jpg"
       ]
      },
      {
       "output_type": "stream",
       "stream": "stdout",
       "text": [
        " Elmira / Corning 404\n",
        "http://image.weather.com/web/radar/us_lbe_closeradar_large_usen.jpg"
       ]
      },
      {
       "output_type": "stream",
       "stream": "stdout",
       "text": [
        " Latrobe 404\n",
        "http://image.weather.com/web/radar/us_fsd_closeradar_large_usen.jpg"
       ]
      },
      {
       "output_type": "stream",
       "stream": "stdout",
       "text": [
        " Sioux Falls 200\n",
        "http://image.weather.com/web/radar/us_sgu_closeradar_large_usen.jpg"
       ]
      },
      {
       "output_type": "stream",
       "stream": "stdout",
       "text": [
        " St. George / Beaver 404\n",
        "http://image.weather.com/web/radar/us_mkg_closeradar_large_usen.jpg"
       ]
      },
      {
       "output_type": "stream",
       "stream": "stdout",
       "text": [
        " Muskegon 200\n",
        "http://image.weather.com/web/radar/us_dtw_closeradar_large_usen.jpg"
       ]
      },
      {
       "output_type": "stream",
       "stream": "stdout",
       "text": [
        " Detroit / Romulus 200\n",
        "http://image.weather.com/web/radar/us_lws_closeradar_large_usen.jpg"
       ]
      },
      {
       "output_type": "stream",
       "stream": "stdout",
       "text": [
        " Lewiston 404\n",
        "http://image.weather.com/web/radar/us_cha_closeradar_large_usen.jpg"
       ]
      },
      {
       "output_type": "stream",
       "stream": "stdout",
       "text": [
        " Chattanooga 404\n",
        "http://image.weather.com/web/radar/us_alo_closeradar_large_usen.jpg"
       ]
      },
      {
       "output_type": "stream",
       "stream": "stdout",
       "text": [
        " Waterloo 404\n",
        "http://image.weather.com/web/radar/us_rfd_closeradar_large_usen.jpg"
       ]
      },
      {
       "output_type": "stream",
       "stream": "stdout",
       "text": [
        " Rockford 404\n",
        "http://image.weather.com/web/radar/us_bji_closeradar_large_usen.jpg"
       ]
      },
      {
       "output_type": "stream",
       "stream": "stdout",
       "text": [
        " Bemidji 404\n",
        "http://image.weather.com/web/radar/us_gum_closeradar_large_usen.jpg"
       ]
      },
      {
       "output_type": "stream",
       "stream": "stdout",
       "text": [
        " Agana / Tamuning 404\n",
        "http://image.weather.com/web/radar/us_sig_closeradar_large_usen.jpg"
       ]
      },
      {
       "output_type": "stream",
       "stream": "stdout",
       "text": [
        " San Juan / Miramar 404\n",
        "http://image.weather.com/web/radar/us_dsm_closeradar_large_usen.jpg"
       ]
      },
      {
       "output_type": "stream",
       "stream": "stdout",
       "text": [
        " Des Moines 200\n",
        "http://image.weather.com/web/radar/us_koa_closeradar_large_usen.jpg"
       ]
      },
      {
       "output_type": "stream",
       "stream": "stdout",
       "text": [
        " Kailua/Kona 404\n",
        "http://image.weather.com/web/radar/us_aus_closeradar_large_usen.jpg"
       ]
      },
      {
       "output_type": "stream",
       "stream": "stdout",
       "text": [
        " Austin 404\n",
        "http://image.weather.com/web/radar/us_btr_closeradar_large_usen.jpg"
       ]
      },
      {
       "output_type": "stream",
       "stream": "stdout",
       "text": [
        " Baton Rouge 404\n",
        "http://image.weather.com/web/radar/us_orf_closeradar_large_usen.jpg"
       ]
      },
      {
       "output_type": "stream",
       "stream": "stdout",
       "text": [
        " Norfolk 404\n",
        "http://image.weather.com/web/radar/us_bff_closeradar_large_usen.jpg"
       ]
      },
      {
       "output_type": "stream",
       "stream": "stdout",
       "text": [
        " Scottsbluff 404\n",
        "http://image.weather.com/web/radar/us_mkk_closeradar_large_usen.jpg"
       ]
      },
      {
       "output_type": "stream",
       "stream": "stdout",
       "text": [
        " Kaunakakai 404\n",
        "http://image.weather.com/web/radar/us_bgm_closeradar_large_usen.jpg"
       ]
      },
      {
       "output_type": "stream",
       "stream": "stdout",
       "text": [
        " Binghamton 404\n",
        "http://image.weather.com/web/radar/us_mgm_closeradar_large_usen.jpg"
       ]
      },
      {
       "output_type": "stream",
       "stream": "stdout",
       "text": [
        " Montgomery 404\n",
        "http://image.weather.com/web/radar/us_hns_closeradar_large_usen.jpg"
       ]
      },
      {
       "output_type": "stream",
       "stream": "stdout",
       "text": [
        " Haines 404\n",
        "http://image.weather.com/web/radar/us_sav_closeradar_large_usen.jpg"
       ]
      },
      {
       "output_type": "stream",
       "stream": "stdout",
       "text": [
        " Savannah 404\n",
        "http://image.weather.com/web/radar/us_ciu_closeradar_large_usen.jpg"
       ]
      },
      {
       "output_type": "stream",
       "stream": "stdout",
       "text": [
        " Sault Ste. Marie 404\n",
        "http://image.weather.com/web/radar/us_gpt_closeradar_large_usen.jpg"
       ]
      },
      {
       "output_type": "stream",
       "stream": "stdout",
       "text": [
        " Gulfport / Biloxi 404\n",
        "http://image.weather.com/web/radar/us_ear_closeradar_large_usen.jpg"
       ]
      },
      {
       "output_type": "stream",
       "stream": "stdout",
       "text": [
        " Kearney 404\n",
        "http://image.weather.com/web/radar/us_dca_closeradar_large_usen.jpg"
       ]
      },
      {
       "output_type": "stream",
       "stream": "stdout",
       "text": [
        " Washington, D.C. / Arlington County 200\n",
        "http://image.weather.com/web/radar/us_elp_closeradar_large_usen.jpg"
       ]
      },
      {
       "output_type": "stream",
       "stream": "stdout",
       "text": [
        " El Paso 404\n",
        "http://image.weather.com/web/radar/us_pvd_closeradar_large_usen.jpg"
       ]
      },
      {
       "output_type": "stream",
       "stream": "stdout",
       "text": [
        " Providence / Warwick 404\n",
        "http://image.weather.com/web/radar/us_guc_closeradar_large_usen.jpg"
       ]
      },
      {
       "output_type": "stream",
       "stream": "stdout",
       "text": [
        " Gunnison 404\n",
        "http://image.weather.com/web/radar/us_cvg_closeradar_large_usen.jpg"
       ]
      },
      {
       "output_type": "stream",
       "stream": "stdout",
       "text": [
        " Covington 404\n",
        "http://image.weather.com/web/radar/us_grb_closeradar_large_usen.jpg"
       ]
      },
      {
       "output_type": "stream",
       "stream": "stdout",
       "text": [
        " Green Bay 404\n",
        "http://image.weather.com/web/radar/us_bna_closeradar_large_usen.jpg"
       ]
      },
      {
       "output_type": "stream",
       "stream": "stdout",
       "text": [
        " Nashville 404\n",
        "http://image.weather.com/web/radar/us_ppg_closeradar_large_usen.jpg"
       ]
      },
      {
       "output_type": "stream",
       "stream": "stdout",
       "text": [
        " Pago Pago, Tutuila 404\n",
        "http://image.weather.com/web/radar/us_swf_closeradar_large_usen.jpg"
       ]
      },
      {
       "output_type": "stream",
       "stream": "stdout",
       "text": [
        " Newburgh 404\n",
        "http://image.weather.com/web/radar/us_scc_closeradar_large_usen.jpg"
       ]
      },
      {
       "output_type": "stream",
       "stream": "stdout",
       "text": [
        " Deadhorse / Prudhoe Bay 404\n",
        "http://image.weather.com/web/radar/us_pie_closeradar_large_usen.jpg"
       ]
      },
      {
       "output_type": "stream",
       "stream": "stdout",
       "text": [
        " St. Petersburg 404\n",
        "http://image.weather.com/web/radar/us_dlh_closeradar_large_usen.jpg"
       ]
      },
      {
       "output_type": "stream",
       "stream": "stdout",
       "text": [
        " Duluth 404\n",
        "http://image.weather.com/web/radar/us_brw_closeradar_large_usen.jpg"
       ]
      },
      {
       "output_type": "stream",
       "stream": "stdout",
       "text": [
        " Barrow 404\n",
        "http://image.weather.com/web/radar/us_act_closeradar_large_usen.jpg"
       ]
      },
      {
       "output_type": "stream",
       "stream": "stdout",
       "text": [
        " Waco 404\n",
        "http://image.weather.com/web/radar/us_lan_closeradar_large_usen.jpg"
       ]
      },
      {
       "output_type": "stream",
       "stream": "stdout",
       "text": [
        " Lansing 404\n",
        "http://image.weather.com/web/radar/us_inl_closeradar_large_usen.jpg"
       ]
      },
      {
       "output_type": "stream",
       "stream": "stdout",
       "text": [
        " International Falls 404\n",
        "http://image.weather.com/web/radar/us_mht_closeradar_large_usen.jpg"
       ]
      },
      {
       "output_type": "stream",
       "stream": "stdout",
       "text": [
        " Manchester 404\n",
        "http://image.weather.com/web/radar/us_mem_closeradar_large_usen.jpg"
       ]
      },
      {
       "output_type": "stream",
       "stream": "stdout",
       "text": [
        " Memphis 404\n",
        "http://image.weather.com/web/radar/us_pbg_closeradar_large_usen.jpg"
       ]
      },
      {
       "output_type": "stream",
       "stream": "stdout",
       "text": [
        " Plattsburgh 404\n",
        "http://image.weather.com/web/radar/us_pqi_closeradar_large_usen.jpg"
       ]
      },
      {
       "output_type": "stream",
       "stream": "stdout",
       "text": [
        " Presque Isle 404\n",
        "http://image.weather.com/web/radar/us_pib_closeradar_large_usen.jpg"
       ]
      },
      {
       "output_type": "stream",
       "stream": "stdout",
       "text": [
        " Hattiesburg / Laurel 404\n",
        "http://image.weather.com/web/radar/us_fll_closeradar_large_usen.jpg"
       ]
      },
      {
       "output_type": "stream",
       "stream": "stdout",
       "text": [
        " Fort Lauderdale 404\n",
        "http://image.weather.com/web/radar/us_bro_closeradar_large_usen.jpg"
       ]
      },
      {
       "output_type": "stream",
       "stream": "stdout",
       "text": [
        " Brownsville 200\n",
        "http://image.weather.com/web/radar/us_law_closeradar_large_usen.jpg"
       ]
      },
      {
       "output_type": "stream",
       "stream": "stdout",
       "text": [
        " Lawton 404\n",
        "http://image.weather.com/web/radar/us_smf_closeradar_large_usen.jpg"
       ]
      },
      {
       "output_type": "stream",
       "stream": "stdout",
       "text": [
        " Sacramento 404\n",
        "http://image.weather.com/web/radar/us_mqt_closeradar_large_usen.jpg"
       ]
      },
      {
       "output_type": "stream",
       "stream": "stdout",
       "text": [
        " Marquette / Gwinn 404\n",
        "http://image.weather.com/web/radar/us_pns_closeradar_large_usen.jpg"
       ]
      },
      {
       "output_type": "stream",
       "stream": "stdout",
       "text": [
        " Pensacola 404\n",
        "http://image.weather.com/web/radar/us_azo_closeradar_large_usen.jpg"
       ]
      },
      {
       "output_type": "stream",
       "stream": "stdout",
       "text": [
        " Kalamazoo / Battle Creek 404\n",
        "http://image.weather.com/web/radar/us_cos_closeradar_large_usen.jpg"
       ]
      },
      {
       "output_type": "stream",
       "stream": "stdout",
       "text": [
        " Colorado Springs 404\n",
        "http://image.weather.com/web/radar/us_rsw_closeradar_large_usen.jpg"
       ]
      },
      {
       "output_type": "stream",
       "stream": "stdout",
       "text": [
        " Fort Myers 404\n",
        "http://image.weather.com/web/radar/us_vdz_closeradar_large_usen.jpg"
       ]
      },
      {
       "output_type": "stream",
       "stream": "stdout",
       "text": [
        " Valdez 404\n",
        "http://image.weather.com/web/radar/us_syr_closeradar_large_usen.jpg"
       ]
      },
      {
       "output_type": "stream",
       "stream": "stdout",
       "text": [
        " Syracuse 404\n",
        "http://image.weather.com/web/radar/us_adq_closeradar_large_usen.jpg"
       ]
      },
      {
       "output_type": "stream",
       "stream": "stdout",
       "text": [
        " Kodiak 404\n",
        "http://image.weather.com/web/radar/us_lse_closeradar_large_usen.jpg"
       ]
      },
      {
       "output_type": "stream",
       "stream": "stdout",
       "text": [
        " La Crosse 404\n",
        "http://image.weather.com/web/radar/us_rno_closeradar_large_usen.jpg"
       ]
      },
      {
       "output_type": "stream",
       "stream": "stdout",
       "text": [
        " Reno 200\n",
        "http://image.weather.com/web/radar/us_akn_closeradar_large_usen.jpg"
       ]
      },
      {
       "output_type": "stream",
       "stream": "stdout",
       "text": [
        " King Salmon 404\n",
        "http://image.weather.com/web/radar/us_geg_closeradar_large_usen.jpg"
       ]
      },
      {
       "output_type": "stream",
       "stream": "stdout",
       "text": [
        " Spokane 200\n",
        "http://image.weather.com/web/radar/us_pia_closeradar_large_usen.jpg"
       ]
      },
      {
       "output_type": "stream",
       "stream": "stdout",
       "text": [
        " Peoria 404\n",
        "http://image.weather.com/web/radar/us_gcw_closeradar_large_usen.jpg"
       ]
      },
      {
       "output_type": "stream",
       "stream": "stdout",
       "text": [
        " Peach Springs 404\n",
        "http://image.weather.com/web/radar/us_fmn_closeradar_large_usen.jpg"
       ]
      },
      {
       "output_type": "stream",
       "stream": "stdout",
       "text": [
        " Farmington 404\n",
        "http://image.weather.com/web/radar/us_cho_closeradar_large_usen.jpg"
       ]
      },
      {
       "output_type": "stream",
       "stream": "stdout",
       "text": [
        " Charlottesville 404\n",
        "http://image.weather.com/web/radar/us_far_closeradar_large_usen.jpg"
       ]
      },
      {
       "output_type": "stream",
       "stream": "stdout",
       "text": [
        " Fargo 404\n",
        "http://image.weather.com/web/radar/us_cae_closeradar_large_usen.jpg"
       ]
      },
      {
       "output_type": "stream",
       "stream": "stdout",
       "text": [
        " Columbia 404\n",
        "http://image.weather.com/web/radar/us_spn_closeradar_large_usen.jpg"
       ]
      },
      {
       "output_type": "stream",
       "stream": "stdout",
       "text": [
        " Obyan, Saipan Island 404\n",
        "http://image.weather.com/web/radar/us_hvn_closeradar_large_usen.jpg"
       ]
      },
      {
       "output_type": "stream",
       "stream": "stdout",
       "text": [
        " New Haven 404\n",
        "http://image.weather.com/web/radar/us_alw_closeradar_large_usen.jpg"
       ]
      },
      {
       "output_type": "stream",
       "stream": "stdout",
       "text": [
        " Walla Walla 404\n",
        "http://image.weather.com/web/radar/us_mso_closeradar_large_usen.jpg"
       ]
      },
      {
       "output_type": "stream",
       "stream": "stdout",
       "text": [
        " Missoula 404\n",
        "http://image.weather.com/web/radar/us_bfi_closeradar_large_usen.jpg"
       ]
      },
      {
       "output_type": "stream",
       "stream": "stdout",
       "text": [
        " Seattle 404\n",
        "http://image.weather.com/web/radar/us_clt_closeradar_large_usen.jpg"
       ]
      },
      {
       "output_type": "stream",
       "stream": "stdout",
       "text": [
        " Charlotte 200\n",
        "http://image.weather.com/web/radar/us_cod_closeradar_large_usen.jpg"
       ]
      },
      {
       "output_type": "stream",
       "stream": "stdout",
       "text": [
        " Cody 404\n",
        "http://image.weather.com/web/radar/us_tol_closeradar_large_usen.jpg"
       ]
      },
      {
       "output_type": "stream",
       "stream": "stdout",
       "text": [
        " Toledo 404\n",
        "http://image.weather.com/web/radar/us_cid_closeradar_large_usen.jpg"
       ]
      },
      {
       "output_type": "stream",
       "stream": "stdout",
       "text": [
        " Cedar Rapids 404\n",
        "http://image.weather.com/web/radar/us_fai_closeradar_large_usen.jpg"
       ]
      },
      {
       "output_type": "stream",
       "stream": "stdout",
       "text": [
        " Fairbanks 404\n",
        "http://image.weather.com/web/radar/us_acy_closeradar_large_usen.jpg"
       ]
      },
      {
       "output_type": "stream",
       "stream": "stdout",
       "text": [
        " Atlantic City 404\n",
        "http://image.weather.com/web/radar/us_phl_closeradar_large_usen.jpg"
       ]
      },
      {
       "output_type": "stream",
       "stream": "stdout",
       "text": [
        " Philadelphia 404\n",
        "http://image.weather.com/web/radar/us_dlg_closeradar_large_usen.jpg"
       ]
      },
      {
       "output_type": "stream",
       "stream": "stdout",
       "text": [
        " Dillingham 404\n",
        "http://image.weather.com/web/radar/us_hob_closeradar_large_usen.jpg"
       ]
      },
      {
       "output_type": "stream",
       "stream": "stdout",
       "text": [
        " Hobbs 404\n",
        "http://image.weather.com/web/radar/us_mfr_closeradar_large_usen.jpg"
       ]
      },
      {
       "output_type": "stream",
       "stream": "stdout",
       "text": [
        " Medford 404\n",
        "http://image.weather.com/web/radar/us_mwa_closeradar_large_usen.jpg"
       ]
      },
      {
       "output_type": "stream",
       "stream": "stdout",
       "text": [
        " Marion 404\n",
        "http://image.weather.com/web/radar/us_tys_closeradar_large_usen.jpg"
       ]
      },
      {
       "output_type": "stream",
       "stream": "stdout",
       "text": [
        " Knoxville 404\n",
        "http://image.weather.com/web/radar/us_lih_closeradar_large_usen.jpg"
       ]
      },
      {
       "output_type": "stream",
       "stream": "stdout",
       "text": [
        " Lihue (L\u012bhu\u02bbe) 404\n",
        "http://image.weather.com/web/radar/us_stl_closeradar_large_usen.jpg"
       ]
      },
      {
       "output_type": "stream",
       "stream": "stdout",
       "text": [
        " St. Louis 200\n",
        "http://image.weather.com/web/radar/us_pah_closeradar_large_usen.jpg"
       ]
      },
      {
       "output_type": "stream",
       "stream": "stdout",
       "text": [
        " Paducah 404\n",
        "http://image.weather.com/web/radar/us_txk_closeradar_large_usen.jpg"
       ]
      },
      {
       "output_type": "stream",
       "stream": "stdout",
       "text": [
        " Texarkana 404\n",
        "http://image.weather.com/web/radar/us_jax_closeradar_large_usen.jpg"
       ]
      },
      {
       "output_type": "stream",
       "stream": "stdout",
       "text": [
        " Jacksonville 404\n",
        "http://image.weather.com/web/radar/us_roc_closeradar_large_usen.jpg"
       ]
      },
      {
       "output_type": "stream",
       "stream": "stdout",
       "text": [
        " Rochester 200\n",
        "http://image.weather.com/web/radar/us_rop_closeradar_large_usen.jpg"
       ]
      },
      {
       "output_type": "stream",
       "stream": "stdout",
       "text": [
        " Rota Island 404\n",
        "http://image.weather.com/web/radar/us_tyr_closeradar_large_usen.jpg"
       ]
      },
      {
       "output_type": "stream",
       "stream": "stdout",
       "text": [
        " Tyler 404\n",
        "http://image.weather.com/web/radar/us_abe_closeradar_large_usen.jpg"
       ]
      },
      {
       "output_type": "stream",
       "stream": "stdout",
       "text": [
        " Allentown 404\n",
        "http://image.weather.com/web/radar/us_uin_closeradar_large_usen.jpg"
       ]
      },
      {
       "output_type": "stream",
       "stream": "stdout",
       "text": [
        " Quincy 404\n",
        "http://image.weather.com/web/radar/us_gpi_closeradar_large_usen.jpg"
       ]
      },
      {
       "output_type": "stream",
       "stream": "stdout",
       "text": [
        " Kalispell 404\n",
        "http://image.weather.com/web/radar/us_ipt_closeradar_large_usen.jpg"
       ]
      },
      {
       "output_type": "stream",
       "stream": "stdout",
       "text": [
        " Williamsport 404\n",
        "http://image.weather.com/web/radar/us_mli_closeradar_large_usen.jpg"
       ]
      },
      {
       "output_type": "stream",
       "stream": "stdout",
       "text": [
        " Moline 404\n",
        "http://image.weather.com/web/radar/us_lax_closeradar_large_usen.jpg"
       ]
      },
      {
       "output_type": "stream",
       "stream": "stdout",
       "text": [
        " Los Angeles 200\n",
        "http://image.weather.com/web/radar/us_flg_closeradar_large_usen.jpg"
       ]
      },
      {
       "output_type": "stream",
       "stream": "stdout",
       "text": [
        " Flagstaff 404\n",
        "http://image.weather.com/web/radar/us_fwa_closeradar_large_usen.jpg"
       ]
      },
      {
       "output_type": "stream",
       "stream": "stdout",
       "text": [
        " Fort Wayne 404\n",
        "http://image.weather.com/web/radar/us_phx_closeradar_large_usen.jpg"
       ]
      },
      {
       "output_type": "stream",
       "stream": "stdout",
       "text": [
        " Phoenix 200\n",
        "http://image.weather.com/web/radar/us_bld_closeradar_large_usen.jpg"
       ]
      },
      {
       "output_type": "stream",
       "stream": "stdout",
       "text": [
        " Boulder City 404\n",
        "http://image.weather.com/web/radar/us_atl_closeradar_large_usen.jpg"
       ]
      },
      {
       "output_type": "stream",
       "stream": "stdout",
       "text": [
        " Atlanta 200\n",
        "http://image.weather.com/web/radar/us_grr_closeradar_large_usen.jpg"
       ]
      },
      {
       "output_type": "stream",
       "stream": "stdout",
       "text": [
        " Grand Rapids 404\n",
        "http://image.weather.com/web/radar/us_gnv_closeradar_large_usen.jpg"
       ]
      },
      {
       "output_type": "stream",
       "stream": "stdout",
       "text": [
        " Gainesville 404\n",
        "http://image.weather.com/web/radar/us_lft_closeradar_large_usen.jpg"
       ]
      },
      {
       "output_type": "stream",
       "stream": "stdout",
       "text": [
        " Lafayette 404\n",
        "http://image.weather.com/web/radar/us_ama_closeradar_large_usen.jpg"
       ]
      },
      {
       "output_type": "stream",
       "stream": "stdout",
       "text": [
        " Amarillo 200\n",
        "http://image.weather.com/web/radar/us_fat_closeradar_large_usen.jpg"
       ]
      },
      {
       "output_type": "stream",
       "stream": "stdout",
       "text": [
        " Fresno 200\n",
        "http://image.weather.com/web/radar/us_mbs_closeradar_large_usen.jpg"
       ]
      },
      {
       "output_type": "stream",
       "stream": "stdout",
       "text": [
        " Saginaw 404\n",
        "http://image.weather.com/web/radar/us_sgf_closeradar_large_usen.jpg"
       ]
      },
      {
       "output_type": "stream",
       "stream": "stdout",
       "text": [
        " Springfield 404\n",
        "http://image.weather.com/web/radar/us_bli_closeradar_large_usen.jpg"
       ]
      },
      {
       "output_type": "stream",
       "stream": "stdout",
       "text": [
        " Bellingham 404\n",
        "http://image.weather.com/web/radar/us_cpr_closeradar_large_usen.jpg"
       ]
      },
      {
       "output_type": "stream",
       "stream": "stdout",
       "text": [
        " Casper 200\n",
        "http://image.weather.com/web/radar/us_sps_closeradar_large_usen.jpg"
       ]
      },
      {
       "output_type": "stream",
       "stream": "stdout",
       "text": [
        " Wichita Falls 404\n",
        "http://image.weather.com/web/radar/us_iwa_closeradar_large_usen.jpg"
       ]
      },
      {
       "output_type": "stream",
       "stream": "stdout",
       "text": [
        " Mesa 404\n",
        "http://image.weather.com/web/radar/us_jnu_closeradar_large_usen.jpg"
       ]
      },
      {
       "output_type": "stream",
       "stream": "stdout",
       "text": [
        " Juneau 404\n",
        "http://image.weather.com/web/radar/us_rdu_closeradar_large_usen.jpg"
       ]
      },
      {
       "output_type": "stream",
       "stream": "stdout",
       "text": [
        " Raleigh 404\n",
        "http://image.weather.com/web/radar/us_sfb_closeradar_large_usen.jpg"
       ]
      },
      {
       "output_type": "stream",
       "stream": "stdout",
       "text": [
        " Orlando 404\n",
        "http://image.weather.com/web/radar/us_eri_closeradar_large_usen.jpg"
       ]
      },
      {
       "output_type": "stream",
       "stream": "stdout",
       "text": [
        " Erie 404\n",
        "http://image.weather.com/web/radar/us_stc_closeradar_large_usen.jpg"
       ]
      },
      {
       "output_type": "stream",
       "stream": "stdout",
       "text": [
        " St. Cloud 404\n",
        "http://image.weather.com/web/radar/us_twf_closeradar_large_usen.jpg"
       ]
      },
      {
       "output_type": "stream",
       "stream": "stdout",
       "text": [
        " Twin Falls 404\n",
        "http://image.weather.com/web/radar/us_maf_closeradar_large_usen.jpg"
       ]
      },
      {
       "output_type": "stream",
       "stream": "stdout",
       "text": [
        " Midland 200\n",
        "http://image.weather.com/web/radar/us_saw_closeradar_large_usen.jpg"
       ]
      },
      {
       "output_type": "stream",
       "stream": "stdout",
       "text": [
        " Marquette / Gwinn 404\n",
        "http://image.weather.com/web/radar/us_iag_closeradar_large_usen.jpg"
       ]
      },
      {
       "output_type": "stream",
       "stream": "stdout",
       "text": [
        " Niagara Falls 404\n",
        "http://image.weather.com/web/radar/us_ome_closeradar_large_usen.jpg"
       ]
      },
      {
       "output_type": "stream",
       "stream": "stdout",
       "text": [
        " Nome 404\n",
        "http://image.weather.com/web/radar/us_pih_closeradar_large_usen.jpg"
       ]
      },
      {
       "output_type": "stream",
       "stream": "stdout",
       "text": [
        " Pocatello / Arbon Valley 404\n",
        "http://image.weather.com/web/radar/us_sdf_closeradar_large_usen.jpg"
       ]
      },
      {
       "output_type": "stream",
       "stream": "stdout",
       "text": [
        " Louisville 404\n",
        "http://image.weather.com/web/radar/us_unv_closeradar_large_usen.jpg"
       ]
      },
      {
       "output_type": "stream",
       "stream": "stdout",
       "text": [
        " State College 404\n",
        "http://image.weather.com/web/radar/us_oth_closeradar_large_usen.jpg"
       ]
      },
      {
       "output_type": "stream",
       "stream": "stdout",
       "text": [
        " North Bend 404\n",
        "http://image.weather.com/web/radar/us_cys_closeradar_large_usen.jpg"
       ]
      },
      {
       "output_type": "stream",
       "stream": "stdout",
       "text": [
        " Cheyenne 404\n",
        "http://image.weather.com/web/radar/us_bvu_closeradar_large_usen.jpg"
       ]
      },
      {
       "output_type": "stream",
       "stream": "stdout",
       "text": [
        " Boulder City 404\n",
        "http://image.weather.com/web/radar/us_oma_closeradar_large_usen.jpg"
       ]
      },
      {
       "output_type": "stream",
       "stream": "stdout",
       "text": [
        " Omaha 200\n",
        "http://image.weather.com/web/radar/us_bet_closeradar_large_usen.jpg"
       ]
      },
      {
       "output_type": "stream",
       "stream": "stdout",
       "text": [
        " Bethel 404\n",
        "http://image.weather.com/web/radar/us_jfk_closeradar_large_usen.jpg"
       ]
      },
      {
       "output_type": "stream",
       "stream": "stdout",
       "text": [
        " New York 404\n",
        "http://image.weather.com/web/radar/us_hya_closeradar_large_usen.jpg"
       ]
      },
      {
       "output_type": "stream",
       "stream": "stdout",
       "text": [
        " Hyannis 404\n",
        "http://image.weather.com/web/radar/us_bpt_closeradar_large_usen.jpg"
       ]
      },
      {
       "output_type": "stream",
       "stream": "stdout",
       "text": [
        " Beaumont / Port Arthur 404\n",
        "http://image.weather.com/web/radar/us_bzn_closeradar_large_usen.jpg"
       ]
      },
      {
       "output_type": "stream",
       "stream": "stdout",
       "text": [
        " Bozeman 404\n",
        "http://image.weather.com/web/radar/us_evv_closeradar_large_usen.jpg"
       ]
      },
      {
       "output_type": "stream",
       "stream": "stdout",
       "text": [
        " Evansville 404\n",
        "http://image.weather.com/web/radar/us_art_closeradar_large_usen.jpg"
       ]
      },
      {
       "output_type": "stream",
       "stream": "stdout",
       "text": [
        " Watertown 404\n",
        "http://image.weather.com/web/radar/us_iah_closeradar_large_usen.jpg"
       ]
      },
      {
       "output_type": "stream",
       "stream": "stdout",
       "text": [
        " Houston 404\n",
        "http://image.weather.com/web/radar/us_hom_closeradar_large_usen.jpg"
       ]
      },
      {
       "output_type": "stream",
       "stream": "stdout",
       "text": [
        " Homer 404\n",
        "http://image.weather.com/web/radar/us_drt_closeradar_large_usen.jpg"
       ]
      },
      {
       "output_type": "stream",
       "stream": "stdout",
       "text": [
        " Del Rio 404\n",
        "http://image.weather.com/web/radar/us_cwa_closeradar_large_usen.jpg"
       ]
      },
      {
       "output_type": "stream",
       "stream": "stdout",
       "text": [
        " Wausau 404\n",
        "http://image.weather.com/web/radar/us_otz_closeradar_large_usen.jpg"
       ]
      },
      {
       "output_type": "stream",
       "stream": "stdout",
       "text": [
        " Kotzebue 404\n",
        "http://image.weather.com/web/radar/us_gst_closeradar_large_usen.jpg"
       ]
      },
      {
       "output_type": "stream",
       "stream": "stdout",
       "text": [
        " Gustavus 404\n",
        "http://image.weather.com/web/radar/us_mdt_closeradar_large_usen.jpg"
       ]
      },
      {
       "output_type": "stream",
       "stream": "stdout",
       "text": [
        " Harrisburg / Middletown 404\n",
        "http://image.weather.com/web/radar/us_mot_closeradar_large_usen.jpg"
       ]
      },
      {
       "output_type": "stream",
       "stream": "stdout",
       "text": [
        " Minot 404\n",
        "http://image.weather.com/web/radar/us_shv_closeradar_large_usen.jpg"
       ]
      },
      {
       "output_type": "stream",
       "stream": "stdout",
       "text": [
        " Shreveport 200\n",
        "http://image.weather.com/web/radar/us_pgd_closeradar_large_usen.jpg"
       ]
      },
      {
       "output_type": "stream",
       "stream": "stdout",
       "text": [
        " Punta Gorda 404\n",
        "http://image.weather.com/web/radar/us_den_closeradar_large_usen.jpg"
       ]
      },
      {
       "output_type": "stream",
       "stream": "stdout",
       "text": [
        " Denver 200\n",
        "http://image.weather.com/web/radar/us_jac_closeradar_large_usen.jpg"
       ]
      },
      {
       "output_type": "stream",
       "stream": "stdout",
       "text": [
        " Jackson 404\n",
        "http://image.weather.com/web/radar/us_pwm_closeradar_large_usen.jpg"
       ]
      },
      {
       "output_type": "stream",
       "stream": "stdout",
       "text": [
        " Portland 404\n",
        "http://image.weather.com/web/radar/us_stt_closeradar_large_usen.jpg"
       ]
      },
      {
       "output_type": "stream",
       "stream": "stdout",
       "text": [
        " Charlotte Amalie, St. Thomas 404\n",
        "http://image.weather.com/web/radar/us_vps_closeradar_large_usen.jpg"
       ]
      },
      {
       "output_type": "stream",
       "stream": "stdout",
       "text": [
        " Valparaiso 404\n",
        "http://image.weather.com/web/radar/us_ric_closeradar_large_usen.jpg"
       ]
      },
      {
       "output_type": "stream",
       "stream": "stdout",
       "text": [
        " Richmond 200\n",
        "http://image.weather.com/web/radar/us_hib_closeradar_large_usen.jpg"
       ]
      },
      {
       "output_type": "stream",
       "stream": "stdout",
       "text": [
        " Hibbing 404\n",
        "http://image.weather.com/web/radar/us_gri_closeradar_large_usen.jpg"
       ]
      },
      {
       "output_type": "stream",
       "stream": "stdout",
       "text": [
        " Grand Island 404\n",
        "http://image.weather.com/web/radar/us_frd_closeradar_large_usen.jpg"
       ]
      },
      {
       "output_type": "stream",
       "stream": "stdout",
       "text": [
        " Friday Harbor 404\n",
        "http://image.weather.com/web/radar/us_dab_closeradar_large_usen.jpg"
       ]
      },
      {
       "output_type": "stream",
       "stream": "stdout",
       "text": [
        " Daytona Beach 404\n",
        "http://image.weather.com/web/radar/us_tri_closeradar_large_usen.jpg"
       ]
      },
      {
       "output_type": "stream",
       "stream": "stdout",
       "text": [
        " Bristol / Johnson City / Kingsport 404\n",
        "http://image.weather.com/web/radar/us_hxd_closeradar_large_usen.jpg"
       ]
      },
      {
       "output_type": "stream",
       "stream": "stdout",
       "text": [
        " Hilton Head Island 404\n",
        "http://image.weather.com/web/radar/us_sun_closeradar_large_usen.jpg"
       ]
      },
      {
       "output_type": "stream",
       "stream": "stdout",
       "text": [
        " Hailey 404\n",
        "http://image.weather.com/web/radar/us_bqn_closeradar_large_usen.jpg"
       ]
      },
      {
       "output_type": "stream",
       "stream": "stdout",
       "text": [
        " Aguadilla 404\n",
        "http://image.weather.com/web/radar/us_aex_closeradar_large_usen.jpg"
       ]
      },
      {
       "output_type": "stream",
       "stream": "stdout",
       "text": [
        " Alexandria 404\n",
        "http://image.weather.com/web/radar/us_cou_closeradar_large_usen.jpg"
       ]
      },
      {
       "output_type": "stream",
       "stream": "stdout",
       "text": [
        " Columbia 404\n",
        "http://image.weather.com/web/radar/us_clm_closeradar_large_usen.jpg"
       ]
      },
      {
       "output_type": "stream",
       "stream": "stdout",
       "text": [
        " Port Angeles 404\n",
        "http://image.weather.com/web/radar/us_pit_closeradar_large_usen.jpg"
       ]
      },
      {
       "output_type": "stream",
       "stream": "stdout",
       "text": [
        " Pittsburgh 200\n",
        "http://image.weather.com/web/radar/us_apn_closeradar_large_usen.jpg"
       ]
      },
      {
       "output_type": "stream",
       "stream": "stdout",
       "text": [
        " Alpena 404\n",
        "http://image.weather.com/web/radar/us_mia_closeradar_large_usen.jpg"
       ]
      },
      {
       "output_type": "stream",
       "stream": "stdout",
       "text": [
        " Miami 200\n",
        "http://image.weather.com/web/radar/us_sce_closeradar_large_usen.jpg"
       ]
      },
      {
       "output_type": "stream",
       "stream": "stdout",
       "text": [
        " State College 404\n",
        "http://image.weather.com/web/radar/us_ict_closeradar_large_usen.jpg"
       ]
      },
      {
       "output_type": "stream",
       "stream": "stdout",
       "text": [
        " Wichita 404\n",
        "http://image.weather.com/web/radar/us_btm_closeradar_large_usen.jpg"
       ]
      },
      {
       "output_type": "stream",
       "stream": "stdout",
       "text": [
        " Butte 404\n",
        "http://image.weather.com/web/radar/us_pdx_closeradar_large_usen.jpg"
       ]
      },
      {
       "output_type": "stream",
       "stream": "stdout",
       "text": [
        " Portland 200\n",
        "http://image.weather.com/web/radar/us_psc_closeradar_large_usen.jpg"
       ]
      },
      {
       "output_type": "stream",
       "stream": "stdout",
       "text": [
        " Pasco 404\n",
        "http://image.weather.com/web/radar/us_mlu_closeradar_large_usen.jpg"
       ]
      },
      {
       "output_type": "stream",
       "stream": "stdout",
       "text": [
        " Monroe 404\n",
        "http://image.weather.com/web/radar/us_ckb_closeradar_large_usen.jpg"
       ]
      },
      {
       "output_type": "stream",
       "stream": "stdout",
       "text": [
        " Clarksburg 404\n",
        "http://image.weather.com/web/radar/us_shd_closeradar_large_usen.jpg"
       ]
      },
      {
       "output_type": "stream",
       "stream": "stdout",
       "text": [
        " Staunton / Waynesboro / Harrisonburg 404\n",
        "http://image.weather.com/web/radar/us_sfo_closeradar_large_usen.jpg"
       ]
      },
      {
       "output_type": "stream",
       "stream": "stdout",
       "text": [
        " San Francisco 200\n",
        "http://image.weather.com/web/radar/us_puw_closeradar_large_usen.jpg"
       ]
      },
      {
       "output_type": "stream",
       "stream": "stdout",
       "text": [
        " Pullman / Moscow, Idaho 404\n",
        "http://image.weather.com/web/radar/us_rhi_closeradar_large_usen.jpg"
       ]
      },
      {
       "output_type": "stream",
       "stream": "stdout",
       "text": [
        " Rhinelander 404\n",
        "http://image.weather.com/web/radar/us_smx_closeradar_large_usen.jpg"
       ]
      },
      {
       "output_type": "stream",
       "stream": "stdout",
       "text": [
        " Santa Maria 404\n",
        "http://image.weather.com/web/radar/us_csg_closeradar_large_usen.jpg"
       ]
      },
      {
       "output_type": "stream",
       "stream": "stdout",
       "text": [
        " Columbus 404\n",
        "http://image.weather.com/web/radar/us_sju_closeradar_large_usen.jpg"
       ]
      },
      {
       "output_type": "stream",
       "stream": "stdout",
       "text": [
        " San Juan / Carolina 200\n",
        "http://image.weather.com/web/radar/us_lgb_closeradar_large_usen.jpg"
       ]
      },
      {
       "output_type": "stream",
       "stream": "stdout",
       "text": [
        " Long Beach 404\n",
        "http://image.weather.com/web/radar/us_tpa_closeradar_large_usen.jpg"
       ]
      },
      {
       "output_type": "stream",
       "stream": "stdout",
       "text": [
        " Tampa 200\n",
        "http://image.weather.com/web/radar/us_ena_closeradar_large_usen.jpg"
       ]
      },
      {
       "output_type": "stream",
       "stream": "stdout",
       "text": [
        " Kenai 404\n",
        "http://image.weather.com/web/radar/us_hou_closeradar_large_usen.jpg"
       ]
      },
      {
       "output_type": "stream",
       "stream": "stdout",
       "text": [
        " Houston 404\n",
        "http://image.weather.com/web/radar/us_ith_closeradar_large_usen.jpg"
       ]
      },
      {
       "output_type": "stream",
       "stream": "stdout",
       "text": [
        " Ithaca 404\n",
        "http://image.weather.com/web/radar/us_tvc_closeradar_large_usen.jpg"
       ]
      },
      {
       "output_type": "stream",
       "stream": "stdout",
       "text": [
        " Traverse City 404\n",
        "http://image.weather.com/web/radar/us_lrd_closeradar_large_usen.jpg"
       ]
      },
      {
       "output_type": "stream",
       "stream": "stdout",
       "text": [
        " Laredo 404\n",
        "http://image.weather.com/web/radar/us_mob_closeradar_large_usen.jpg"
       ]
      },
      {
       "output_type": "stream",
       "stream": "stdout",
       "text": [
        " Mobile 404\n",
        "http://image.weather.com/web/radar/us_srq_closeradar_large_usen.jpg"
       ]
      },
      {
       "output_type": "stream",
       "stream": "stdout",
       "text": [
        " Sarasota / Bradenton 404\n",
        "http://image.weather.com/web/radar/us_oak_closeradar_large_usen.jpg"
       ]
      },
      {
       "output_type": "stream",
       "stream": "stdout",
       "text": [
        " Oakland 404\n",
        "http://image.weather.com/web/radar/us_alb_closeradar_large_usen.jpg"
       ]
      },
      {
       "output_type": "stream",
       "stream": "stdout",
       "text": [
        " Albany 404\n",
        "http://image.weather.com/web/radar/us_cmi_closeradar_large_usen.jpg"
       ]
      },
      {
       "output_type": "stream",
       "stream": "stdout",
       "text": [
        " Champaign / Urbana 404\n",
        "http://image.weather.com/web/radar/us_tus_closeradar_large_usen.jpg"
       ]
      },
      {
       "output_type": "stream",
       "stream": "stdout",
       "text": [
        " Tucson 404\n",
        "http://image.weather.com/web/radar/us_lit_closeradar_large_usen.jpg"
       ]
      },
      {
       "output_type": "stream",
       "stream": "stdout",
       "text": [
        " Little Rock 200\n",
        "http://image.weather.com/web/radar/us_day_closeradar_large_usen.jpg"
       ]
      },
      {
       "output_type": "stream",
       "stream": "stdout",
       "text": [
        " Dayton 404\n",
        "http://image.weather.com/web/radar/us_oaj_closeradar_large_usen.jpg"
       ]
      },
      {
       "output_type": "stream",
       "stream": "stdout",
       "text": [
        " Jacksonville 404\n",
        "http://image.weather.com/web/radar/us_crp_closeradar_large_usen.jpg"
       ]
      },
      {
       "output_type": "stream",
       "stream": "stdout",
       "text": [
        " Corpus Christi / Kingsville 404\n",
        "http://image.weather.com/web/radar/us_nyl_closeradar_large_usen.jpg"
       ]
      },
      {
       "output_type": "stream",
       "stream": "stdout",
       "text": [
        " Yuma 404\n",
        "http://image.weather.com/web/radar/us_cmh_closeradar_large_usen.jpg"
       ]
      },
      {
       "output_type": "stream",
       "stream": "stdout",
       "text": [
        " Columbus 404\n",
        "http://image.weather.com/web/radar/us_bmi_closeradar_large_usen.jpg"
       ]
      },
      {
       "output_type": "stream",
       "stream": "stdout",
       "text": [
        " Bloomington / Normal 404\n",
        "http://image.weather.com/web/radar/us_anc_closeradar_large_usen.jpg"
       ]
      },
      {
       "output_type": "stream",
       "stream": "stdout",
       "text": [
        " Anchorage 404\n",
        "http://image.weather.com/web/radar/us_mfe_closeradar_large_usen.jpg"
       ]
      },
      {
       "output_type": "stream",
       "stream": "stdout",
       "text": [
        " McAllen 404\n",
        "http://image.weather.com/web/radar/us_unk_closeradar_large_usen.jpg"
       ]
      },
      {
       "output_type": "stream",
       "stream": "stdout",
       "text": [
        " Unalakleet 404\n",
        "http://image.weather.com/web/radar/us_psp_closeradar_large_usen.jpg"
       ]
      },
      {
       "output_type": "stream",
       "stream": "stdout",
       "text": [
        " Palm Springs 404\n",
        "http://image.weather.com/web/radar/us_tlh_closeradar_large_usen.jpg"
       ]
      },
      {
       "output_type": "stream",
       "stream": "stdout",
       "text": [
        " Tallahassee 200\n",
        "http://image.weather.com/web/radar/us_pse_closeradar_large_usen.jpg"
       ]
      },
      {
       "output_type": "stream",
       "stream": "stdout",
       "text": [
        " Ponce 404\n",
        "http://image.weather.com/web/radar/us_wst_closeradar_large_usen.jpg"
       ]
      },
      {
       "output_type": "stream",
       "stream": "stdout",
       "text": [
        " Westerly 404\n",
        "http://image.weather.com/web/radar/us_gsp_closeradar_large_usen.jpg"
       ]
      },
      {
       "output_type": "stream",
       "stream": "stdout",
       "text": [
        " Greer 404\n",
        "http://image.weather.com/web/radar/us_yng_closeradar_large_usen.jpg"
       ]
      },
      {
       "output_type": "stream",
       "stream": "stdout",
       "text": [
        " Youngstown / Warren 404\n",
        "http://image.weather.com/web/radar/us_atw_closeradar_large_usen.jpg"
       ]
      },
      {
       "output_type": "stream",
       "stream": "stdout",
       "text": [
        " Appleton 404\n",
        "http://image.weather.com/web/radar/us_btv_closeradar_large_usen.jpg"
       ]
      },
      {
       "output_type": "stream",
       "stream": "stdout",
       "text": [
        " Burlington 200\n",
        "http://image.weather.com/web/radar/us_pvu_closeradar_large_usen.jpg"
       ]
      },
      {
       "output_type": "stream",
       "stream": "stdout",
       "text": [
        " Provo 404\n",
        "http://image.weather.com/web/radar/us_cld_closeradar_large_usen.jpg"
       ]
      },
      {
       "output_type": "stream",
       "stream": "stdout",
       "text": [
        " Carlsbad 404\n",
        "http://image.weather.com/web/radar/us_phf_closeradar_large_usen.jpg"
       ]
      },
      {
       "output_type": "stream",
       "stream": "stdout",
       "text": [
        " Newport News 404\n",
        "http://image.weather.com/web/radar/us_slc_closeradar_large_usen.jpg"
       ]
      },
      {
       "output_type": "stream",
       "stream": "stdout",
       "text": [
        " Salt Lake City 200\n",
        "http://image.weather.com/web/radar/us_gck_closeradar_large_usen.jpg"
       ]
      },
      {
       "output_type": "stream",
       "stream": "stdout",
       "text": [
        " Garden City 404\n",
        "http://image.weather.com/web/radar/us_cle_closeradar_large_usen.jpg"
       ]
      },
      {
       "output_type": "stream",
       "stream": "stdout",
       "text": [
        " Cleveland 404\n",
        "http://image.weather.com/web/radar/us_bfl_closeradar_large_usen.jpg"
       ]
      },
      {
       "output_type": "stream",
       "stream": "stdout",
       "text": [
        " Bakersfield 404\n",
        "http://image.weather.com/web/radar/us_gtf_closeradar_large_usen.jpg"
       ]
      },
      {
       "output_type": "stream",
       "stream": "stdout",
       "text": [
        " Great Falls 404\n",
        "http://image.weather.com/web/radar/us_sjt_closeradar_large_usen.jpg"
       ]
      },
      {
       "output_type": "stream",
       "stream": "stdout",
       "text": [
        " San Angelo 404\n",
        "http://image.weather.com/web/radar/us_hnh_closeradar_large_usen.jpg"
       ]
      },
      {
       "output_type": "stream",
       "stream": "stdout",
       "text": [
        " Hoonah 404\n",
        "http://image.weather.com/web/radar/us_hnl_closeradar_large_usen.jpg"
       ]
      },
      {
       "output_type": "stream",
       "stream": "stdout",
       "text": [
        " Honolulu 404\n",
        "http://image.weather.com/web/radar/us_ont_closeradar_large_usen.jpg"
       ]
      },
      {
       "output_type": "stream",
       "stream": "stdout",
       "text": [
        " Ontario 404\n",
        "http://image.weather.com/web/radar/us_ack_closeradar_large_usen.jpg"
       ]
      },
      {
       "output_type": "stream",
       "stream": "stdout",
       "text": [
        " Nantucket 404\n",
        "http://image.weather.com/web/radar/us_mhk_closeradar_large_usen.jpg"
       ]
      },
      {
       "output_type": "stream",
       "stream": "stdout",
       "text": [
        " Manhattan 404\n",
        "http://image.weather.com/web/radar/us_dik_closeradar_large_usen.jpg"
       ]
      },
      {
       "output_type": "stream",
       "stream": "stdout",
       "text": [
        " Dickinson 404\n",
        "http://image.weather.com/web/radar/us_hdn_closeradar_large_usen.jpg"
       ]
      },
      {
       "output_type": "stream",
       "stream": "stdout",
       "text": [
        " Hayden 404\n",
        "http://image.weather.com/web/radar/us_shr_closeradar_large_usen.jpg"
       ]
      },
      {
       "output_type": "stream",
       "stream": "stdout",
       "text": [
        " Sheridan 404\n",
        "http://image.weather.com/web/radar/us_dut_closeradar_large_usen.jpg"
       ]
      },
      {
       "output_type": "stream",
       "stream": "stdout",
       "text": [
        " Unalaska 404\n",
        "http://image.weather.com/web/radar/us_sts_closeradar_large_usen.jpg"
       ]
      },
      {
       "output_type": "stream",
       "stream": "stdout",
       "text": [
        " Santa Rosa 404\n",
        "http://image.weather.com/web/radar/us_ktn_closeradar_large_usen.jpg"
       ]
      },
      {
       "output_type": "stream",
       "stream": "stdout",
       "text": [
        " Ketchikan 404\n",
        "http://image.weather.com/web/radar/us_abi_closeradar_large_usen.jpg"
       ]
      },
      {
       "output_type": "stream",
       "stream": "stdout",
       "text": [
        " Abilene 404\n",
        "http://image.weather.com/web/radar/us_mdw_closeradar_large_usen.jpg"
       ]
      },
      {
       "output_type": "stream",
       "stream": "stdout",
       "text": [
        " Chicago 404\n",
        "http://image.weather.com/web/radar/us_bdl_closeradar_large_usen.jpg"
       ]
      },
      {
       "output_type": "stream",
       "stream": "stdout",
       "text": [
        " Hartford 404\n",
        "http://image.weather.com/web/radar/us_gro_closeradar_large_usen.jpg"
       ]
      },
      {
       "output_type": "stream",
       "stream": "stdout",
       "text": [
        " Rota Island 404\n",
        "http://image.weather.com/web/radar/us_sat_closeradar_large_usen.jpg"
       ]
      },
      {
       "output_type": "stream",
       "stream": "stdout",
       "text": [
        " San Antonio 200\n",
        "http://image.weather.com/web/radar/us_mci_closeradar_large_usen.jpg"
       ]
      },
      {
       "output_type": "stream",
       "stream": "stdout",
       "text": [
        " Kansas City 404\n",
        "http://image.weather.com/web/radar/us_boi_closeradar_large_usen.jpg"
       ]
      },
      {
       "output_type": "stream",
       "stream": "stdout",
       "text": [
        " Boise 200\n",
        "http://image.weather.com/web/radar/us_cll_closeradar_large_usen.jpg"
       ]
      },
      {
       "output_type": "stream",
       "stream": "stdout",
       "text": [
        " College Station 404\n",
        "http://image.weather.com/web/radar/us_mco_closeradar_large_usen.jpg"
       ]
      },
      {
       "output_type": "stream",
       "stream": "stdout",
       "text": [
        " Orlando 404\n",
        "http://image.weather.com/web/radar/us_bqk_closeradar_large_usen.jpg"
       ]
      },
      {
       "output_type": "stream",
       "stream": "stdout",
       "text": [
        " Brunswick 404\n",
        "http://image.weather.com/web/radar/us_fca_closeradar_large_usen.jpg"
       ]
      },
      {
       "output_type": "stream",
       "stream": "stdout",
       "text": [
        " Kalispell 404\n",
        "http://image.weather.com/web/radar/us_rst_closeradar_large_usen.jpg"
       ]
      },
      {
       "output_type": "stream",
       "stream": "stdout",
       "text": [
        " Rochester 200\n",
        "http://image.weather.com/web/radar/us_ecp_closeradar_large_usen.jpg"
       ]
      },
      {
       "output_type": "stream",
       "stream": "stdout",
       "text": [
        " Panama City Beach 404\n",
        "http://image.weather.com/web/radar/us_owb_closeradar_large_usen.jpg"
       ]
      },
      {
       "output_type": "stream",
       "stream": "stdout",
       "text": [
        " Owensboro 404\n",
        "http://image.weather.com/web/radar/us_pgv_closeradar_large_usen.jpg"
       ]
      },
      {
       "output_type": "stream",
       "stream": "stdout",
       "text": [
        " Greenville 404\n",
        "http://image.weather.com/web/radar/us_mmh_closeradar_large_usen.jpg"
       ]
      },
      {
       "output_type": "stream",
       "stream": "stdout",
       "text": [
        " Mammoth Lakes 404\n",
        "http://image.weather.com/web/radar/us_ewr_closeradar_large_usen.jpg"
       ]
      },
      {
       "output_type": "stream",
       "stream": "stdout",
       "text": [
        " Newark 404\n",
        "http://image.weather.com/web/radar/us_psg_closeradar_large_usen.jpg"
       ]
      },
      {
       "output_type": "stream",
       "stream": "stdout",
       "text": [
        " Petersburg 404\n",
        "http://image.weather.com/web/radar/us_jln_closeradar_large_usen.jpg"
       ]
      },
      {
       "output_type": "stream",
       "stream": "stdout",
       "text": [
        " Joplin 404\n",
        "http://image.weather.com/web/radar/us_buf_closeradar_large_usen.jpg"
       ]
      },
      {
       "output_type": "stream",
       "stream": "stdout",
       "text": [
        " Buffalo 404\n",
        "http://image.weather.com/web/radar/us_row_closeradar_large_usen.jpg"
       ]
      },
      {
       "output_type": "stream",
       "stream": "stdout",
       "text": [
        " Roswell 404\n",
        "http://image.weather.com/web/radar/us_hrl_closeradar_large_usen.jpg"
       ]
      },
      {
       "output_type": "stream",
       "stream": "stdout",
       "text": [
        " Harlingen 404\n",
        "http://image.weather.com/web/radar/us_cdv_closeradar_large_usen.jpg"
       ]
      },
      {
       "output_type": "stream",
       "stream": "stdout",
       "text": [
        " Cordova 404\n",
        "http://image.weather.com/web/radar/us_pvc_closeradar_large_usen.jpg"
       ]
      },
      {
       "output_type": "stream",
       "stream": "stdout",
       "text": [
        " Provincetown 404\n",
        "http://image.weather.com/web/radar/us_chs_closeradar_large_usen.jpg"
       ]
      },
      {
       "output_type": "stream",
       "stream": "stdout",
       "text": [
        " Charleston 200\n",
        "http://image.weather.com/web/radar/us_aza_closeradar_large_usen.jpg"
       ]
      },
      {
       "output_type": "stream",
       "stream": "stdout",
       "text": [
        " Mesa 404\n",
        "http://image.weather.com/web/radar/us_isn_closeradar_large_usen.jpg"
       ]
      },
      {
       "output_type": "stream",
       "stream": "stdout",
       "text": [
        " Williston 404\n",
        "http://image.weather.com/web/radar/us_aby_closeradar_large_usen.jpg"
       ]
      },
      {
       "output_type": "stream",
       "stream": "stdout",
       "text": [
        " Albany 404\n",
        "http://image.weather.com/web/radar/us_cvx_closeradar_large_usen.jpg"
       ]
      },
      {
       "output_type": "stream",
       "stream": "stdout",
       "text": [
        " Charlevoix 404\n",
        "http://image.weather.com/web/radar/us_mod_closeradar_large_usen.jpg"
       ]
      },
      {
       "output_type": "stream",
       "stream": "stdout",
       "text": [
        " Modesto 404\n",
        "http://image.weather.com/web/radar/us_eat_closeradar_large_usen.jpg"
       ]
      },
      {
       "output_type": "stream",
       "stream": "stdout",
       "text": [
        " Wenatchee 404\n",
        "http://image.weather.com/web/radar/us_gjt_closeradar_large_usen.jpg"
       ]
      },
      {
       "output_type": "stream",
       "stream": "stdout",
       "text": [
        " Grand Junction 404\n",
        "http://image.weather.com/web/radar/us_eau_closeradar_large_usen.jpg"
       ]
      },
      {
       "output_type": "stream",
       "stream": "stdout",
       "text": [
        " Eau Claire 404\n",
        "http://image.weather.com/web/radar/us_bos_closeradar_large_usen.jpg"
       ]
      },
      {
       "output_type": "stream",
       "stream": "stdout",
       "text": [
        " Boston 200\n",
        "http://image.weather.com/web/radar/us_fhr_closeradar_large_usen.jpg"
       ]
      },
      {
       "output_type": "stream",
       "stream": "stdout",
       "text": [
        " Friday Harbor 404\n",
        "http://image.weather.com/web/radar/us_hgr_closeradar_large_usen.jpg"
       ]
      },
      {
       "output_type": "stream",
       "stream": "stdout",
       "text": [
        " Hagerstown 404\n",
        "http://image.weather.com/web/radar/us_cmx_closeradar_large_usen.jpg"
       ]
      },
      {
       "output_type": "stream",
       "stream": "stdout",
       "text": [
        " Hancock / Calumet 404\n",
        "http://image.weather.com/web/radar/us_ksm_closeradar_large_usen.jpg"
       ]
      },
      {
       "output_type": "stream",
       "stream": "stdout",
       "text": [
        " St. Mary's 404\n",
        "http://image.weather.com/web/radar/us_sby_closeradar_large_usen.jpg"
       ]
      },
      {
       "output_type": "stream",
       "stream": "stdout",
       "text": [
        " Salisbury 404\n",
        "http://image.weather.com/web/radar/us_flo_closeradar_large_usen.jpg"
       ]
      },
      {
       "output_type": "stream",
       "stream": "stdout",
       "text": [
        " Florence 404\n",
        "http://image.weather.com/web/radar/us_rap_closeradar_large_usen.jpg"
       ]
      },
      {
       "output_type": "stream",
       "stream": "stdout",
       "text": [
        " Rapid City 200\n",
        "http://image.weather.com/web/radar/us_riw_closeradar_large_usen.jpg"
       ]
      },
      {
       "output_type": "stream",
       "stream": "stdout",
       "text": [
        " Riverton 404\n",
        "http://image.weather.com/web/radar/us_fay_closeradar_large_usen.jpg"
       ]
      },
      {
       "output_type": "stream",
       "stream": "stdout",
       "text": [
        " Fayetteville 404\n",
        "http://image.weather.com/web/radar/us_lch_closeradar_large_usen.jpg"
       ]
      },
      {
       "output_type": "stream",
       "stream": "stdout",
       "text": [
        " Lake Charles 404\n",
        "http://image.weather.com/web/radar/us_lmt_closeradar_large_usen.jpg"
       ]
      },
      {
       "output_type": "stream",
       "stream": "stdout",
       "text": [
        " Klamath Falls 404\n",
        "http://image.weather.com/web/radar/us_ogg_closeradar_large_usen.jpg"
       ]
      },
      {
       "output_type": "stream",
       "stream": "stdout",
       "text": [
        " Kahului 404\n",
        "http://image.weather.com/web/radar/us_lex_closeradar_large_usen.jpg"
       ]
      },
      {
       "output_type": "stream",
       "stream": "stdout",
       "text": [
        " Lexington 200\n",
        "http://image.weather.com/web/radar/us_ifp_closeradar_large_usen.jpg"
       ]
      },
      {
       "output_type": "stream",
       "stream": "stdout",
       "text": [
        " Bullhead City 404\n",
        "http://image.weather.com/web/radar/us_vqs_closeradar_large_usen.jpg"
       ]
      },
      {
       "output_type": "stream",
       "stream": "stdout",
       "text": [
        " Vieques 404\n",
        "http://image.weather.com/web/radar/us_lga_closeradar_large_usen.jpg"
       ]
      },
      {
       "output_type": "stream",
       "stream": "stdout",
       "text": [
        " New York 404\n",
        "http://image.weather.com/web/radar/us_isp_closeradar_large_usen.jpg"
       ]
      },
      {
       "output_type": "stream",
       "stream": "stdout",
       "text": [
        " Islip 404\n",
        "http://image.weather.com/web/radar/us_lar_closeradar_large_usen.jpg"
       ]
      },
      {
       "output_type": "stream",
       "stream": "stdout",
       "text": [
        " Laramie 404\n",
        "http://image.weather.com/web/radar/us_gcc_closeradar_large_usen.jpg"
       ]
      },
      {
       "output_type": "stream",
       "stream": "stdout",
       "text": [
        " Gillette 404\n",
        "http://image.weather.com/web/radar/us_dal_closeradar_large_usen.jpg"
       ]
      },
      {
       "output_type": "stream",
       "stream": "stdout",
       "text": [
        " Dallas 404\n",
        "http://image.weather.com/web/radar/us_gsn_closeradar_large_usen.jpg"
       ]
      },
      {
       "output_type": "stream",
       "stream": "stdout",
       "text": [
        " Obyan, Saipan Island 404\n",
        "http://image.weather.com/web/radar/us_acv_closeradar_large_usen.jpg"
       ]
      },
      {
       "output_type": "stream",
       "stream": "stdout",
       "text": [
        " Arcata / Eureka 404\n",
        "http://image.weather.com/web/radar/us_dfw_closeradar_large_usen.jpg"
       ]
      },
      {
       "output_type": "stream",
       "stream": "stdout",
       "text": [
        " Dallas-Fort Worth 200\n",
        "http://image.weather.com/web/radar/us_vld_closeradar_large_usen.jpg"
       ]
      },
      {
       "output_type": "stream",
       "stream": "stdout",
       "text": [
        " Valdosta 404\n",
        "http://image.weather.com/web/radar/us_bhm_closeradar_large_usen.jpg"
       ]
      },
      {
       "output_type": "stream",
       "stream": "stdout",
       "text": [
        " Birmingham 200\n",
        "http://image.weather.com/web/radar/us_saf_closeradar_large_usen.jpg"
       ]
      },
      {
       "output_type": "stream",
       "stream": "stdout",
       "text": [
        " Santa Fe 404\n",
        "http://image.weather.com/web/radar/us_yak_closeradar_large_usen.jpg"
       ]
      },
      {
       "output_type": "stream",
       "stream": "stdout",
       "text": [
        " Yakutat 404\n",
        "http://image.weather.com/web/radar/us_lyh_closeradar_large_usen.jpg"
       ]
      },
      {
       "output_type": "stream",
       "stream": "stdout",
       "text": [
        " Lynchburg 404\n",
        "http://image.weather.com/web/radar/us_bwi_closeradar_large_usen.jpg"
       ]
      },
      {
       "output_type": "stream",
       "stream": "stdout",
       "text": [
        " Baltimore / Glen Burnie 404\n",
        "http://image.weather.com/web/radar/us_cak_closeradar_large_usen.jpg"
       ]
      },
      {
       "output_type": "stream",
       "stream": "stdout",
       "text": [
        " Akron / Canton 404\n",
        "http://image.weather.com/web/radar/us_ilm_closeradar_large_usen.jpg"
       ]
      },
      {
       "output_type": "stream",
       "stream": "stdout",
       "text": [
        " Wilmington 404\n",
        "http://image.weather.com/web/radar/us_sbp_closeradar_large_usen.jpg"
       ]
      },
      {
       "output_type": "stream",
       "stream": "stdout",
       "text": [
        " San Luis Obispo 404\n",
        "http://image.weather.com/web/radar/us_avl_closeradar_large_usen.jpg"
       ]
      },
      {
       "output_type": "stream",
       "stream": "stdout",
       "text": [
        " Asheville 200\n",
        "http://image.weather.com/web/radar/us_gcn_closeradar_large_usen.jpg"
       ]
      },
      {
       "output_type": "stream",
       "stream": "stdout",
       "text": [
        " Grand Canyon / Tusayan 404\n"
       ]
      }
     ],
     "prompt_number": 24
    },
    {
     "cell_type": "code",
     "collapsed": false,
     "input": [
      "len(valid_urls)"
     ],
     "language": "python",
     "metadata": {},
     "outputs": [
      {
       "metadata": {},
       "output_type": "pyout",
       "prompt_number": 25,
       "text": [
        "53"
       ]
      }
     ],
     "prompt_number": 25
    },
    {
     "cell_type": "code",
     "collapsed": false,
     "input": [
      "with open('valid_600mi_urls.txt', 'w') as outfile:\n",
      "    for (city, url) in valid_urls:\n",
      "        outfile.write(\"%s: %s\\n\" % (city, url))"
     ],
     "language": "python",
     "metadata": {},
     "outputs": [],
     "prompt_number": 26
    },
    {
     "cell_type": "code",
     "collapsed": false,
     "input": [
      "!cat valid_600mi_urls.txt"
     ],
     "language": "python",
     "metadata": {},
     "outputs": [
      {
       "output_type": "stream",
       "stream": "stdout",
       "text": [
        "http://image.weather.com/web/radar/us_las_closeradar_large_usen.jpg: Las Vegas\r\n",
        "http://image.weather.com/web/radar/us_sea_closeradar_large_usen.jpg: Seattle / Tacoma (SeaTac)\r\n",
        "http://image.weather.com/web/radar/us_bis_closeradar_large_usen.jpg: Bismarck\r\n",
        "http://image.weather.com/web/radar/us_bil_closeradar_large_usen.jpg: Billings\r\n",
        "http://image.weather.com/web/radar/us_ord_closeradar_large_usen.jpg: Chicago\r\n",
        "http://image.weather.com/web/radar/us_okc_closeradar_large_usen.jpg: Oklahoma City\r\n",
        "http://image.weather.com/web/radar/us_crw_closeradar_large_usen.jpg: Charleston\r\n",
        "http://image.weather.com/web/radar/us_msp_closeradar_large_usen.jpg: Minneapolis\r\n",
        "http://image.weather.com/web/radar/us_abq_closeradar_large_usen.jpg: Albuquerque\r\n",
        "http://image.weather.com/web/radar/us_jan_closeradar_large_usen.jpg: Jackson\r\n",
        "http://image.weather.com/web/radar/us_ind_closeradar_large_usen.jpg: Indianapolis\r\n",
        "http://image.weather.com/web/radar/us_fsd_closeradar_large_usen.jpg: Sioux Falls\r\n",
        "http://image.weather.com/web/radar/us_mkg_closeradar_large_usen.jpg: Muskegon\r\n",
        "http://image.weather.com/web/radar/us_dtw_closeradar_large_usen.jpg: Detroit / Romulus\r\n",
        "http://image.weather.com/web/radar/us_dsm_closeradar_large_usen.jpg: Des Moines\r\n",
        "http://image.weather.com/web/radar/us_dca_closeradar_large_usen.jpg: Washington, D.C. / Arlington County\r\n",
        "http://image.weather.com/web/radar/us_bro_closeradar_large_usen.jpg: Brownsville\r\n",
        "http://image.weather.com/web/radar/us_rno_closeradar_large_usen.jpg: Reno\r\n",
        "http://image.weather.com/web/radar/us_geg_closeradar_large_usen.jpg: Spokane\r\n",
        "http://image.weather.com/web/radar/us_clt_closeradar_large_usen.jpg: Charlotte\r\n",
        "http://image.weather.com/web/radar/us_stl_closeradar_large_usen.jpg: St. Louis\r\n",
        "http://image.weather.com/web/radar/us_roc_closeradar_large_usen.jpg: Rochester\r\n",
        "http://image.weather.com/web/radar/us_lax_closeradar_large_usen.jpg: Los Angeles\r\n",
        "http://image.weather.com/web/radar/us_phx_closeradar_large_usen.jpg: Phoenix\r\n",
        "http://image.weather.com/web/radar/us_atl_closeradar_large_usen.jpg: Atlanta\r\n",
        "http://image.weather.com/web/radar/us_ama_closeradar_large_usen.jpg: Amarillo\r\n",
        "http://image.weather.com/web/radar/us_fat_closeradar_large_usen.jpg: Fresno\r\n",
        "http://image.weather.com/web/radar/us_cpr_closeradar_large_usen.jpg: Casper\r\n",
        "http://image.weather.com/web/radar/us_maf_closeradar_large_usen.jpg: Midland\r\n",
        "http://image.weather.com/web/radar/us_oma_closeradar_large_usen.jpg: Omaha\r\n",
        "http://image.weather.com/web/radar/us_shv_closeradar_large_usen.jpg: Shreveport\r\n",
        "http://image.weather.com/web/radar/us_den_closeradar_large_usen.jpg: Denver\r\n",
        "http://image.weather.com/web/radar/us_ric_closeradar_large_usen.jpg: Richmond\r\n",
        "http://image.weather.com/web/radar/us_pit_closeradar_large_usen.jpg: Pittsburgh\r\n",
        "http://image.weather.com/web/radar/us_mia_closeradar_large_usen.jpg: Miami\r\n",
        "http://image.weather.com/web/radar/us_pdx_closeradar_large_usen.jpg: Portland\r\n",
        "http://image.weather.com/web/radar/us_sfo_closeradar_large_usen.jpg: San Francisco\r\n",
        "http://image.weather.com/web/radar/us_sju_closeradar_large_usen.jpg: San Juan / Carolina\r\n",
        "http://image.weather.com/web/radar/us_tpa_closeradar_large_usen.jpg: Tampa\r\n",
        "http://image.weather.com/web/radar/us_lit_closeradar_large_usen.jpg: Little Rock\r\n",
        "http://image.weather.com/web/radar/us_tlh_closeradar_large_usen.jpg: Tallahassee\r\n",
        "http://image.weather.com/web/radar/us_btv_closeradar_large_usen.jpg: Burlington\r\n",
        "http://image.weather.com/web/radar/us_slc_closeradar_large_usen.jpg: Salt Lake City\r\n",
        "http://image.weather.com/web/radar/us_sat_closeradar_large_usen.jpg: San Antonio\r\n",
        "http://image.weather.com/web/radar/us_boi_closeradar_large_usen.jpg: Boise\r\n",
        "http://image.weather.com/web/radar/us_rst_closeradar_large_usen.jpg: Rochester\r\n",
        "http://image.weather.com/web/radar/us_chs_closeradar_large_usen.jpg: Charleston\r\n",
        "http://image.weather.com/web/radar/us_bos_closeradar_large_usen.jpg: Boston\r\n",
        "http://image.weather.com/web/radar/us_rap_closeradar_large_usen.jpg: Rapid City\r\n",
        "http://image.weather.com/web/radar/us_lex_closeradar_large_usen.jpg: Lexington\r\n",
        "http://image.weather.com/web/radar/us_dfw_closeradar_large_usen.jpg: Dallas-Fort Worth\r\n",
        "http://image.weather.com/web/radar/us_bhm_closeradar_large_usen.jpg: Birmingham\r\n",
        "http://image.weather.com/web/radar/us_avl_closeradar_large_usen.jpg: Asheville\r\n"
       ]
      }
     ],
     "prompt_number": 27
    },
    {
     "cell_type": "code",
     "collapsed": false,
     "input": [
      "%sql select * from airports"
     ],
     "language": "python",
     "metadata": {},
     "outputs": [
      {
       "output_type": "stream",
       "stream": "stdout",
       "text": [
        "Done.\n"
       ]
      },
      {
       "html": [
        "<table>\n",
        "    <tr>\n",
        "        <th>city</th>\n",
        "        <th>faa</th>\n",
        "        <th>iata</th>\n",
        "        <th>icao</th>\n",
        "        <th>airport</th>\n",
        "        <th>role</th>\n",
        "        <th>enplanements</th>\n",
        "    </tr>\n",
        "    <tr>\n",
        "        <td>ALABAMA</td>\n",
        "        <td>None</td>\n",
        "        <td>None</td>\n",
        "        <td>None</td>\n",
        "        <td>None</td>\n",
        "        <td>None</td>\n",
        "        <td>None</td>\n",
        "    </tr>\n",
        "    <tr>\n",
        "        <td>Birmingham</td>\n",
        "        <td>BHM</td>\n",
        "        <td>BHM</td>\n",
        "        <td>KBHM</td>\n",
        "        <td>Birmingham\u2013Shuttlesworth International Airport</td>\n",
        "        <td>P-S</td>\n",
        "        <td>1,335,014</td>\n",
        "    </tr>\n",
        "    <tr>\n",
        "        <td>Dothan</td>\n",
        "        <td>DHN</td>\n",
        "        <td>DHN</td>\n",
        "        <td>KDHN</td>\n",
        "        <td>Dothan Regional Airport</td>\n",
        "        <td>P-N</td>\n",
        "        <td>48,423</td>\n",
        "    </tr>\n",
        "    <tr>\n",
        "        <td>Huntsville</td>\n",
        "        <td>HSV</td>\n",
        "        <td>HSV</td>\n",
        "        <td>KHSV</td>\n",
        "        <td>Huntsville International Airport (Carl T. Jones Field)</td>\n",
        "        <td>P-S</td>\n",
        "        <td>505,541</td>\n",
        "    </tr>\n",
        "    <tr>\n",
        "        <td>Mobile</td>\n",
        "        <td>MOB</td>\n",
        "        <td>MOB</td>\n",
        "        <td>KMOB</td>\n",
        "        <td>Mobile Regional Airport</td>\n",
        "        <td>P-N</td>\n",
        "        <td>287,661</td>\n",
        "    </tr>\n",
        "    <tr>\n",
        "        <td>Montgomery</td>\n",
        "        <td>MGM</td>\n",
        "        <td>MGM</td>\n",
        "        <td>KMGM</td>\n",
        "        <td>Montgomery Regional Airport (Dannelly Field)</td>\n",
        "        <td>P-N</td>\n",
        "        <td>157,958</td>\n",
        "    </tr>\n",
        "    <tr>\n",
        "        <td>ALASKA</td>\n",
        "        <td>None</td>\n",
        "        <td>None</td>\n",
        "        <td>None</td>\n",
        "        <td>None</td>\n",
        "        <td>None</td>\n",
        "        <td>None</td>\n",
        "    </tr>\n",
        "    <tr>\n",
        "        <td>Anchorage</td>\n",
        "        <td>ANC</td>\n",
        "        <td>ANC</td>\n",
        "        <td>PANC</td>\n",
        "        <td>Ted Stevens Anchorage International Airport</td>\n",
        "        <td>P-M</td>\n",
        "        <td>2,325,030</td>\n",
        "    </tr>\n",
        "    <tr>\n",
        "        <td>Aniak</td>\n",
        "        <td>ANI</td>\n",
        "        <td>ANI</td>\n",
        "        <td>PANI</td>\n",
        "        <td>Aniak Airport</td>\n",
        "        <td>P-N</td>\n",
        "        <td>14,334</td>\n",
        "    </tr>\n",
        "    <tr>\n",
        "        <td>Barrow</td>\n",
        "        <td>BRW</td>\n",
        "        <td>BRW</td>\n",
        "        <td>PABR</td>\n",
        "        <td>Wiley Post\u2013Will Rogers Memorial Airport</td>\n",
        "        <td>P-N</td>\n",
        "        <td>51,568</td>\n",
        "    </tr>\n",
        "    <tr>\n",
        "        <td>Bethel</td>\n",
        "        <td>BET</td>\n",
        "        <td>BET</td>\n",
        "        <td>PABE</td>\n",
        "        <td>Bethel Airport (also see Bethel Seaplane Base)</td>\n",
        "        <td>P-N</td>\n",
        "        <td>152,084</td>\n",
        "    </tr>\n",
        "    <tr>\n",
        "        <td>Cordova</td>\n",
        "        <td>CDV</td>\n",
        "        <td>CDV</td>\n",
        "        <td>PACV</td>\n",
        "        <td>Merle K. (Mudhole) Smith Airport</td>\n",
        "        <td>P-N</td>\n",
        "        <td>15,772</td>\n",
        "    </tr>\n",
        "    <tr>\n",
        "        <td>Deadhorse / Prudhoe Bay</td>\n",
        "        <td>SCC</td>\n",
        "        <td>SCC</td>\n",
        "        <td>PASC</td>\n",
        "        <td>Deadhorse Airport (Prudhoe Bay Airport)</td>\n",
        "        <td>P-N</td>\n",
        "        <td>48,588</td>\n",
        "    </tr>\n",
        "    <tr>\n",
        "        <td>Dillingham</td>\n",
        "        <td>DLG</td>\n",
        "        <td>DLG</td>\n",
        "        <td>PADL</td>\n",
        "        <td>Dillingham Airport</td>\n",
        "        <td>P-N</td>\n",
        "        <td>26,632</td>\n",
        "    </tr>\n",
        "    <tr>\n",
        "        <td>Fairbanks</td>\n",
        "        <td>FAI</td>\n",
        "        <td>FAI</td>\n",
        "        <td>PAFA</td>\n",
        "        <td>Fairbanks International Airport</td>\n",
        "        <td>P-S</td>\n",
        "        <td>457,372</td>\n",
        "    </tr>\n",
        "    <tr>\n",
        "        <td>Galena</td>\n",
        "        <td>GAL</td>\n",
        "        <td>GAL</td>\n",
        "        <td>PAGA</td>\n",
        "        <td>Edward G. Pitka Sr. Airport</td>\n",
        "        <td>P-N [nb 1]</td>\n",
        "        <td>14,141</td>\n",
        "    </tr>\n",
        "    <tr>\n",
        "        <td>Gustavus</td>\n",
        "        <td>GST</td>\n",
        "        <td>GST</td>\n",
        "        <td>PGST</td>\n",
        "        <td>Gustavus Airport</td>\n",
        "        <td>P-N [nb 2]</td>\n",
        "        <td>14,141</td>\n",
        "    </tr>\n",
        "    <tr>\n",
        "        <td>Haines</td>\n",
        "        <td>HNS</td>\n",
        "        <td>HNS</td>\n",
        "        <td>PAHN</td>\n",
        "        <td>Haines Airport (also see Haines Seaplane Base)</td>\n",
        "        <td>P-N</td>\n",
        "        <td>10,106</td>\n",
        "    </tr>\n",
        "    <tr>\n",
        "        <td>Homer</td>\n",
        "        <td>HOM</td>\n",
        "        <td>HOM</td>\n",
        "        <td>PAHO</td>\n",
        "        <td>Homer Airport</td>\n",
        "        <td>P-N</td>\n",
        "        <td>37,705</td>\n",
        "    </tr>\n",
        "    <tr>\n",
        "        <td>Hoonah</td>\n",
        "        <td>HNH</td>\n",
        "        <td>HNH</td>\n",
        "        <td>PAOH</td>\n",
        "        <td>Hoonah Airport (also see Hoonah Seaplane Base)</td>\n",
        "        <td>P-N [nb 3]</td>\n",
        "        <td>10,468</td>\n",
        "    </tr>\n",
        "    <tr>\n",
        "        <td>Juneau</td>\n",
        "        <td>JNU</td>\n",
        "        <td>JNU</td>\n",
        "        <td>PAJN</td>\n",
        "        <td>Juneau International Airport</td>\n",
        "        <td>P-N</td>\n",
        "        <td>321,573</td>\n",
        "    </tr>\n",
        "    <tr>\n",
        "        <td>Kenai</td>\n",
        "        <td>ENA</td>\n",
        "        <td>ENA</td>\n",
        "        <td>PAEN</td>\n",
        "        <td>Kenai Municipal Airport</td>\n",
        "        <td>P-N</td>\n",
        "        <td>99,821</td>\n",
        "    </tr>\n",
        "    <tr>\n",
        "        <td>Ketchikan</td>\n",
        "        <td>KTN</td>\n",
        "        <td>KTN</td>\n",
        "        <td>PAKT</td>\n",
        "        <td>Ketchikan International Airport</td>\n",
        "        <td>P-N</td>\n",
        "        <td>109,433</td>\n",
        "    </tr>\n",
        "    <tr>\n",
        "        <td>King Salmon</td>\n",
        "        <td>AKN</td>\n",
        "        <td>AKN</td>\n",
        "        <td>PAKN</td>\n",
        "        <td>King Salmon Airport</td>\n",
        "        <td>P-N</td>\n",
        "        <td>35,450</td>\n",
        "    </tr>\n",
        "    <tr>\n",
        "        <td>Kodiak</td>\n",
        "        <td>ADQ</td>\n",
        "        <td>ADQ</td>\n",
        "        <td>PADQ</td>\n",
        "        <td>Kodiak Airport</td>\n",
        "        <td>P-N</td>\n",
        "        <td>79,930</td>\n",
        "    </tr>\n",
        "    <tr>\n",
        "        <td>Kotzebue</td>\n",
        "        <td>OTZ</td>\n",
        "        <td>OTZ</td>\n",
        "        <td>PAOT</td>\n",
        "        <td>Ralph Wien Memorial Airport</td>\n",
        "        <td>P-N</td>\n",
        "        <td>61,274</td>\n",
        "    </tr>\n",
        "    <tr>\n",
        "        <td>Nome</td>\n",
        "        <td>OME</td>\n",
        "        <td>OME</td>\n",
        "        <td>PAOM</td>\n",
        "        <td>Nome Airport</td>\n",
        "        <td>P-N</td>\n",
        "        <td>58,020</td>\n",
        "    </tr>\n",
        "    <tr>\n",
        "        <td>Petersburg</td>\n",
        "        <td>PSG</td>\n",
        "        <td>PSG</td>\n",
        "        <td>PAPG</td>\n",
        "        <td>Petersburg James A. Johnson Airport</td>\n",
        "        <td>P-N</td>\n",
        "        <td>20,046</td>\n",
        "    </tr>\n",
        "    <tr>\n",
        "        <td>Sitka</td>\n",
        "        <td>SIT</td>\n",
        "        <td>SIT</td>\n",
        "        <td>PASI</td>\n",
        "        <td>Sitka Rocky Gutierrez Airport</td>\n",
        "        <td>P-N</td>\n",
        "        <td>67,989</td>\n",
        "    </tr>\n",
        "    <tr>\n",
        "        <td>St. Mary&#x27;s</td>\n",
        "        <td>KSM</td>\n",
        "        <td>KSM</td>\n",
        "        <td>PASM</td>\n",
        "        <td>St. Mary&#x27;s Airport</td>\n",
        "        <td>P-N</td>\n",
        "        <td>13,949</td>\n",
        "    </tr>\n",
        "    <tr>\n",
        "        <td>Unalakleet</td>\n",
        "        <td>UNK</td>\n",
        "        <td>UNK</td>\n",
        "        <td>PAUN</td>\n",
        "        <td>Unalakleet Airport</td>\n",
        "        <td>P-N</td>\n",
        "        <td>14,011</td>\n",
        "    </tr>\n",
        "    <tr>\n",
        "        <td>Unalaska</td>\n",
        "        <td>DUT</td>\n",
        "        <td>DUT</td>\n",
        "        <td>PADU</td>\n",
        "        <td>Unalaska Airport (Tom Madsen Airport)</td>\n",
        "        <td>P-N</td>\n",
        "        <td>28,556</td>\n",
        "    </tr>\n",
        "    <tr>\n",
        "        <td>Valdez</td>\n",
        "        <td>VDZ</td>\n",
        "        <td>VDZ</td>\n",
        "        <td>PAVD</td>\n",
        "        <td>Valdez Airport (Pioneer Field)</td>\n",
        "        <td>P-N</td>\n",
        "        <td>13,318</td>\n",
        "    </tr>\n",
        "    <tr>\n",
        "        <td>Wrangell</td>\n",
        "        <td>WRG</td>\n",
        "        <td>WRG</td>\n",
        "        <td>PAWG</td>\n",
        "        <td>Wrangell Airport (also see Wrangell Seaplane Base)</td>\n",
        "        <td>P-N</td>\n",
        "        <td>11,807</td>\n",
        "    </tr>\n",
        "    <tr>\n",
        "        <td>Yakutat</td>\n",
        "        <td>YAK</td>\n",
        "        <td>YAK</td>\n",
        "        <td>PAYA</td>\n",
        "        <td>Yakutat Airport (also see Yakutat Seaplane Base)</td>\n",
        "        <td>P-N</td>\n",
        "        <td>10,135</td>\n",
        "    </tr>\n",
        "    <tr>\n",
        "        <td>ARIZONA</td>\n",
        "        <td>None</td>\n",
        "        <td>None</td>\n",
        "        <td>None</td>\n",
        "        <td>None</td>\n",
        "        <td>None</td>\n",
        "        <td>None</td>\n",
        "    </tr>\n",
        "    <tr>\n",
        "        <td>Bullhead City</td>\n",
        "        <td>IFP</td>\n",
        "        <td>IFP</td>\n",
        "        <td>KIFP</td>\n",
        "        <td>Laughlin/Bullhead International Airport</td>\n",
        "        <td>P-N</td>\n",
        "        <td>109,647</td>\n",
        "    </tr>\n",
        "    <tr>\n",
        "        <td>Flagstaff</td>\n",
        "        <td>FLG</td>\n",
        "        <td>FLG</td>\n",
        "        <td>KFLG</td>\n",
        "        <td>Flagstaff Pulliam Airport</td>\n",
        "        <td>P-N</td>\n",
        "        <td>58,323</td>\n",
        "    </tr>\n",
        "    <tr>\n",
        "        <td>Grand Canyon / Tusayan</td>\n",
        "        <td>GCN</td>\n",
        "        <td>GCN</td>\n",
        "        <td>KGCN</td>\n",
        "        <td>Grand Canyon National Park Airport</td>\n",
        "        <td>P-N</td>\n",
        "        <td>126,364</td>\n",
        "    </tr>\n",
        "    <tr>\n",
        "        <td>Mesa</td>\n",
        "        <td>IWA</td>\n",
        "        <td>AZA</td>\n",
        "        <td>KIWA</td>\n",
        "        <td>Phoenix\u2013Mesa Gateway Airport</td>\n",
        "        <td>P-N</td>\n",
        "        <td>725,048</td>\n",
        "    </tr>\n",
        "    <tr>\n",
        "        <td>Page</td>\n",
        "        <td>PGA</td>\n",
        "        <td>PGA</td>\n",
        "        <td>KPGA</td>\n",
        "        <td>Page Municipal Airport</td>\n",
        "        <td>P-N</td>\n",
        "        <td>25,260</td>\n",
        "    </tr>\n",
        "    <tr>\n",
        "        <td>Peach Springs</td>\n",
        "        <td>1G4</td>\n",
        "        <td>GCW</td>\n",
        "        <td>None</td>\n",
        "        <td>Grand Canyon West Airport</td>\n",
        "        <td>P-N</td>\n",
        "        <td>59,846</td>\n",
        "    </tr>\n",
        "    <tr>\n",
        "        <td>Phoenix</td>\n",
        "        <td>PHX</td>\n",
        "        <td>PHX</td>\n",
        "        <td>KPHX</td>\n",
        "        <td>Phoenix Sky Harbor International Airport</td>\n",
        "        <td>P-L</td>\n",
        "        <td>19,525,829</td>\n",
        "    </tr>\n",
        "    <tr>\n",
        "        <td>Tucson</td>\n",
        "        <td>TUS</td>\n",
        "        <td>TUS</td>\n",
        "        <td>KTUS</td>\n",
        "        <td>Tucson International Airport</td>\n",
        "        <td>P-M</td>\n",
        "        <td>1,570,329</td>\n",
        "    </tr>\n",
        "    <tr>\n",
        "        <td>Yuma</td>\n",
        "        <td>NYL</td>\n",
        "        <td>YUM</td>\n",
        "        <td>KNYL</td>\n",
        "        <td>Yuma International Airport / MCAS Yuma</td>\n",
        "        <td>P-N</td>\n",
        "        <td>78,395</td>\n",
        "    </tr>\n",
        "    <tr>\n",
        "        <td>ARKANSAS</td>\n",
        "        <td>None</td>\n",
        "        <td>None</td>\n",
        "        <td>None</td>\n",
        "        <td>None</td>\n",
        "        <td>None</td>\n",
        "        <td>None</td>\n",
        "    </tr>\n",
        "    <tr>\n",
        "        <td>Fayetteville</td>\n",
        "        <td>XNA</td>\n",
        "        <td>XNA</td>\n",
        "        <td>KXNA</td>\n",
        "        <td>Northwest Arkansas Regional Airport</td>\n",
        "        <td>P-S</td>\n",
        "        <td>558,218</td>\n",
        "    </tr>\n",
        "    <tr>\n",
        "        <td>Fort Smith</td>\n",
        "        <td>FSM</td>\n",
        "        <td>FSM</td>\n",
        "        <td>KFSM</td>\n",
        "        <td>Fort Smith Regional Airport</td>\n",
        "        <td>P-N</td>\n",
        "        <td>82,742</td>\n",
        "    </tr>\n",
        "    <tr>\n",
        "        <td>Little Rock</td>\n",
        "        <td>LIT</td>\n",
        "        <td>LIT</td>\n",
        "        <td>KLIT</td>\n",
        "        <td>Bill and Hillary Clinton National Airport (Adams Field) (was Little Rock National)</td>\n",
        "        <td>P-S</td>\n",
        "        <td>1,055,608</td>\n",
        "    </tr>\n",
        "    <tr>\n",
        "        <td>Texarkana</td>\n",
        "        <td>TXK</td>\n",
        "        <td>TXK</td>\n",
        "        <td>KTXK</td>\n",
        "        <td>Texarkana Regional Airport (Webb Field)</td>\n",
        "        <td>P-N</td>\n",
        "        <td>32,882</td>\n",
        "    </tr>\n",
        "    <tr>\n",
        "        <td>CALIFORNIA</td>\n",
        "        <td>None</td>\n",
        "        <td>None</td>\n",
        "        <td>None</td>\n",
        "        <td>None</td>\n",
        "        <td>None</td>\n",
        "        <td>None</td>\n",
        "    </tr>\n",
        "    <tr>\n",
        "        <td>Arcata / Eureka</td>\n",
        "        <td>ACV</td>\n",
        "        <td>ACV</td>\n",
        "        <td>KACV</td>\n",
        "        <td>Arcata Airport</td>\n",
        "        <td>P-N</td>\n",
        "        <td>56,682</td>\n",
        "    </tr>\n",
        "    <tr>\n",
        "        <td>Bakersfield</td>\n",
        "        <td>BFL</td>\n",
        "        <td>BFL</td>\n",
        "        <td>KBFL</td>\n",
        "        <td>Meadows Field</td>\n",
        "        <td>P-N</td>\n",
        "        <td>143,175</td>\n",
        "    </tr>\n",
        "    <tr>\n",
        "        <td>Burbank</td>\n",
        "        <td>BUR</td>\n",
        "        <td>BUR</td>\n",
        "        <td>KBUR</td>\n",
        "        <td>Bob Hope Airport</td>\n",
        "        <td>P-M</td>\n",
        "        <td>1,919,005</td>\n",
        "    </tr>\n",
        "    <tr>\n",
        "        <td>Carlsbad</td>\n",
        "        <td>CRQ</td>\n",
        "        <td>CLD</td>\n",
        "        <td>KCRQ</td>\n",
        "        <td>McClellan\u2013Palomar Airport</td>\n",
        "        <td>P-N</td>\n",
        "        <td>52,561</td>\n",
        "    </tr>\n",
        "    <tr>\n",
        "        <td>Chico</td>\n",
        "        <td>CIC</td>\n",
        "        <td>CIC</td>\n",
        "        <td>KCIC</td>\n",
        "        <td>Chico Municipal Airport</td>\n",
        "        <td>P-N</td>\n",
        "        <td>16,835</td>\n",
        "    </tr>\n",
        "    <tr>\n",
        "        <td>Crescent City</td>\n",
        "        <td>CEC</td>\n",
        "        <td>CEC</td>\n",
        "        <td>KCEC</td>\n",
        "        <td>Del Norte County Airport (Jack McNamara Field)</td>\n",
        "        <td>P-N</td>\n",
        "        <td>12,136</td>\n",
        "    </tr>\n",
        "    <tr>\n",
        "        <td>Fresno</td>\n",
        "        <td>FAT</td>\n",
        "        <td>FAT</td>\n",
        "        <td>KFAT</td>\n",
        "        <td>Fresno Yosemite International Airport</td>\n",
        "        <td>P-S</td>\n",
        "        <td>684,849</td>\n",
        "    </tr>\n",
        "    <tr>\n",
        "        <td>Long Beach</td>\n",
        "        <td>LGB</td>\n",
        "        <td>LGB</td>\n",
        "        <td>KLGB</td>\n",
        "        <td>Long Beach Airport (Daugherty Field)</td>\n",
        "        <td>P-S</td>\n",
        "        <td>1,438,948</td>\n",
        "    </tr>\n",
        "    <tr>\n",
        "        <td>Los Angeles</td>\n",
        "        <td>LAX</td>\n",
        "        <td>LAX</td>\n",
        "        <td>KLAX</td>\n",
        "        <td>Los Angeles International Airport</td>\n",
        "        <td>P-L</td>\n",
        "        <td>32,427,115</td>\n",
        "    </tr>\n",
        "    <tr>\n",
        "        <td>Mammoth Lakes</td>\n",
        "        <td>MMH</td>\n",
        "        <td>MMH</td>\n",
        "        <td>KMMH</td>\n",
        "        <td>Mammoth Yosemite Airport</td>\n",
        "        <td>P-N [nb 4]</td>\n",
        "        <td>30,970</td>\n",
        "    </tr>\n",
        "    <tr>\n",
        "        <td>Modesto</td>\n",
        "        <td>MOD</td>\n",
        "        <td>MOD</td>\n",
        "        <td>KMOD</td>\n",
        "        <td>Modesto City\u2013County Airport (Harry Sham Field)</td>\n",
        "        <td>P-N</td>\n",
        "        <td>11,310</td>\n",
        "    </tr>\n",
        "    <tr>\n",
        "        <td>Monterey</td>\n",
        "        <td>MRY</td>\n",
        "        <td>MRY</td>\n",
        "        <td>KMRY</td>\n",
        "        <td>Monterey Regional Airport (was Monterey Peninsula Airport)</td>\n",
        "        <td>P-N</td>\n",
        "        <td>205,838</td>\n",
        "    </tr>\n",
        "    <tr>\n",
        "        <td>Oakland</td>\n",
        "        <td>OAK</td>\n",
        "        <td>OAK</td>\n",
        "        <td>KOAK</td>\n",
        "        <td>Oakland International Airport</td>\n",
        "        <td>P-M</td>\n",
        "        <td>4,771,830</td>\n",
        "    </tr>\n",
        "    <tr>\n",
        "        <td>Ontario</td>\n",
        "        <td>ONT</td>\n",
        "        <td>ONT</td>\n",
        "        <td>KONT</td>\n",
        "        <td>Ontario International Airport</td>\n",
        "        <td>P-M</td>\n",
        "        <td>1,970,538</td>\n",
        "    </tr>\n",
        "    <tr>\n",
        "        <td>Palm Springs</td>\n",
        "        <td>PSP</td>\n",
        "        <td>PSP</td>\n",
        "        <td>KPSP</td>\n",
        "        <td>Palm Springs International Airport</td>\n",
        "        <td>P-S</td>\n",
        "        <td>876,428</td>\n",
        "    </tr>\n",
        "    <tr>\n",
        "        <td>Redding</td>\n",
        "        <td>RDD</td>\n",
        "        <td>RDD</td>\n",
        "        <td>KRDD</td>\n",
        "        <td>Redding Municipal Airport</td>\n",
        "        <td>P-N</td>\n",
        "        <td>24,875</td>\n",
        "    </tr>\n",
        "    <tr>\n",
        "        <td>Sacramento</td>\n",
        "        <td>SMF</td>\n",
        "        <td>SMF</td>\n",
        "        <td>KSMF</td>\n",
        "        <td>Sacramento International Airport</td>\n",
        "        <td>P-M</td>\n",
        "        <td>4,255,145</td>\n",
        "    </tr>\n",
        "    <tr>\n",
        "        <td>San Diego</td>\n",
        "        <td>SAN</td>\n",
        "        <td>SAN</td>\n",
        "        <td>KSAN</td>\n",
        "        <td>San Diego International Airport</td>\n",
        "        <td>P-L</td>\n",
        "        <td>8,876,777</td>\n",
        "    </tr>\n",
        "    <tr>\n",
        "        <td>San Francisco</td>\n",
        "        <td>SFO</td>\n",
        "        <td>SFO</td>\n",
        "        <td>KSFO</td>\n",
        "        <td>San Francisco International Airport</td>\n",
        "        <td>P-L</td>\n",
        "        <td>21,706,567</td>\n",
        "    </tr>\n",
        "    <tr>\n",
        "        <td>San Jose</td>\n",
        "        <td>SJC</td>\n",
        "        <td>SJC</td>\n",
        "        <td>KSJC</td>\n",
        "        <td>Norman Y. Mineta San Jos\u00e9 International Airport</td>\n",
        "        <td>P-M</td>\n",
        "        <td>4,317,896</td>\n",
        "    </tr>\n",
        "    <tr>\n",
        "        <td>San Luis Obispo</td>\n",
        "        <td>SBP</td>\n",
        "        <td>SBP</td>\n",
        "        <td>KSBP</td>\n",
        "        <td>San Luis Obispo County Regional Airport (McChesney Field)</td>\n",
        "        <td>P-N</td>\n",
        "        <td>135,844</td>\n",
        "    </tr>\n",
        "    <tr>\n",
        "        <td>Santa Ana</td>\n",
        "        <td>SNA</td>\n",
        "        <td>SNA</td>\n",
        "        <td>KSNA</td>\n",
        "        <td>John Wayne Airport \u2013 Orange County (was Orange County Airport)</td>\n",
        "        <td>P-M</td>\n",
        "        <td>4,542,376</td>\n",
        "    </tr>\n",
        "    <tr>\n",
        "        <td>Santa Barbara</td>\n",
        "        <td>SBA</td>\n",
        "        <td>SBA</td>\n",
        "        <td>KSBA</td>\n",
        "        <td>Santa Barbara Municipal Airport (Santa Barbara Airport)</td>\n",
        "        <td>P-N</td>\n",
        "        <td>365,036</td>\n",
        "    </tr>\n",
        "    <tr>\n",
        "        <td>Santa Maria</td>\n",
        "        <td>SMX</td>\n",
        "        <td>SMX</td>\n",
        "        <td>KSMX</td>\n",
        "        <td>Santa Maria Public Airport (Capt G. Allan Hancock Field)</td>\n",
        "        <td>P-N</td>\n",
        "        <td>51,395</td>\n",
        "    </tr>\n",
        "    <tr>\n",
        "        <td>Santa Rosa</td>\n",
        "        <td>STS</td>\n",
        "        <td>STS</td>\n",
        "        <td>KSTS</td>\n",
        "        <td>Charles M. Schulz\u2013Sonoma County Airport</td>\n",
        "        <td>P-N</td>\n",
        "        <td>113,083</td>\n",
        "    </tr>\n",
        "    <tr>\n",
        "        <td>Stockton</td>\n",
        "        <td>SCK</td>\n",
        "        <td>SCK</td>\n",
        "        <td>KSCK</td>\n",
        "        <td>Stockton Metropolitan Airport</td>\n",
        "        <td>P-N</td>\n",
        "        <td>71,757</td>\n",
        "    </tr>\n",
        "    <tr>\n",
        "        <td>COLORADO</td>\n",
        "        <td>None</td>\n",
        "        <td>None</td>\n",
        "        <td>None</td>\n",
        "        <td>None</td>\n",
        "        <td>None</td>\n",
        "        <td>None</td>\n",
        "    </tr>\n",
        "    <tr>\n",
        "        <td>Aspen</td>\n",
        "        <td>ASE</td>\n",
        "        <td>ASE</td>\n",
        "        <td>KASE</td>\n",
        "        <td>Aspen-Pitkin County Airport (Sardy Field)</td>\n",
        "        <td>P-N</td>\n",
        "        <td>208,682</td>\n",
        "    </tr>\n",
        "    <tr>\n",
        "        <td>Colorado Springs</td>\n",
        "        <td>COS</td>\n",
        "        <td>COS</td>\n",
        "        <td>KCOS</td>\n",
        "        <td>City of Colorado Springs Municipal Airport</td>\n",
        "        <td>P-S</td>\n",
        "        <td>658,318</td>\n",
        "    </tr>\n",
        "    <tr>\n",
        "        <td>Denver</td>\n",
        "        <td>DEN</td>\n",
        "        <td>DEN</td>\n",
        "        <td>KDEN</td>\n",
        "        <td>Denver International Airport</td>\n",
        "        <td>P-L</td>\n",
        "        <td>25,497,348</td>\n",
        "    </tr>\n",
        "    <tr>\n",
        "        <td>Durango</td>\n",
        "        <td>DRO</td>\n",
        "        <td>DRO</td>\n",
        "        <td>KDRO</td>\n",
        "        <td>Durango-La Plata County Airport</td>\n",
        "        <td>P-N</td>\n",
        "        <td>192,797</td>\n",
        "    </tr>\n",
        "    <tr>\n",
        "        <td>Eagle</td>\n",
        "        <td>EGE</td>\n",
        "        <td>EGE</td>\n",
        "        <td>KEGE</td>\n",
        "        <td>Eagle County Regional Airport</td>\n",
        "        <td>P-N</td>\n",
        "        <td>168,535</td>\n",
        "    </tr>\n",
        "    <tr>\n",
        "        <td>Grand Junction</td>\n",
        "        <td>GJT</td>\n",
        "        <td>GJT</td>\n",
        "        <td>KGJT</td>\n",
        "        <td>Grand Junction Regional Airport (Walker Field)</td>\n",
        "        <td>P-N</td>\n",
        "        <td>211,270</td>\n",
        "    </tr>\n",
        "    <tr>\n",
        "        <td>Gunnison</td>\n",
        "        <td>GUC</td>\n",
        "        <td>GUC</td>\n",
        "        <td>KGUC</td>\n",
        "        <td>Gunnison-Crested Butte Regional Airport</td>\n",
        "        <td>P-N</td>\n",
        "        <td>30,780</td>\n",
        "    </tr>\n",
        "    <tr>\n",
        "        <td>Hayden</td>\n",
        "        <td>HDN</td>\n",
        "        <td>HDN</td>\n",
        "        <td>KHDN</td>\n",
        "        <td>Yampa Valley Airport (Yampa Valley Regional)</td>\n",
        "        <td>P-N</td>\n",
        "        <td>92,184</td>\n",
        "    </tr>\n",
        "    <tr>\n",
        "        <td>Montrose</td>\n",
        "        <td>MTJ</td>\n",
        "        <td>MTJ</td>\n",
        "        <td>KMTJ</td>\n",
        "        <td>Montrose Regional Airport</td>\n",
        "        <td>P-N</td>\n",
        "        <td>84,579</td>\n",
        "    </tr>\n",
        "    <tr>\n",
        "        <td>CONNECTICUT</td>\n",
        "        <td>None</td>\n",
        "        <td>None</td>\n",
        "        <td>None</td>\n",
        "        <td>None</td>\n",
        "        <td>None</td>\n",
        "        <td>None</td>\n",
        "    </tr>\n",
        "    <tr>\n",
        "        <td>Hartford</td>\n",
        "        <td>BDL</td>\n",
        "        <td>BDL</td>\n",
        "        <td>KBDL</td>\n",
        "        <td>Bradley International Airport</td>\n",
        "        <td>P-M</td>\n",
        "        <td>2,681,718</td>\n",
        "    </tr>\n",
        "    <tr>\n",
        "        <td>New Haven</td>\n",
        "        <td>HVN</td>\n",
        "        <td>HVN</td>\n",
        "        <td>KHVN</td>\n",
        "        <td>Tweed New Haven Regional Airport</td>\n",
        "        <td>P-N</td>\n",
        "        <td>37,434</td>\n",
        "    </tr>\n",
        "    <tr>\n",
        "        <td>FLORIDA</td>\n",
        "        <td>None</td>\n",
        "        <td>None</td>\n",
        "        <td>None</td>\n",
        "        <td>None</td>\n",
        "        <td>None</td>\n",
        "        <td>None</td>\n",
        "    </tr>\n",
        "    <tr>\n",
        "        <td>Daytona Beach</td>\n",
        "        <td>DAB</td>\n",
        "        <td>DAB</td>\n",
        "        <td>KDAB</td>\n",
        "        <td>Daytona Beach International Airport</td>\n",
        "        <td>P-N</td>\n",
        "        <td>293,843</td>\n",
        "    </tr>\n",
        "    <tr>\n",
        "        <td>Fort Lauderdale</td>\n",
        "        <td>FLL</td>\n",
        "        <td>FLL</td>\n",
        "        <td>KFLL</td>\n",
        "        <td>Fort Lauderdale\u2013Hollywood International Airport</td>\n",
        "        <td>P-L</td>\n",
        "        <td>11,509,361</td>\n",
        "    </tr>\n",
        "    <tr>\n",
        "        <td>Fort Myers</td>\n",
        "        <td>RSW</td>\n",
        "        <td>RSW</td>\n",
        "        <td>KRSW</td>\n",
        "        <td>Southwest Florida International Airport</td>\n",
        "        <td>P-M</td>\n",
        "        <td>3,789,386</td>\n",
        "    </tr>\n",
        "    <tr>\n",
        "        <td>Gainesville</td>\n",
        "        <td>GNV</td>\n",
        "        <td>GNV</td>\n",
        "        <td>KGNV</td>\n",
        "        <td>Gainesville Regional Airport</td>\n",
        "        <td>P-N</td>\n",
        "        <td>198,388</td>\n",
        "    </tr>\n",
        "    <tr>\n",
        "        <td>Jacksonville</td>\n",
        "        <td>JAX</td>\n",
        "        <td>JAX</td>\n",
        "        <td>KJAX</td>\n",
        "        <td>Jacksonville International Airport</td>\n",
        "        <td>P-M</td>\n",
        "        <td>2,549,712</td>\n",
        "    </tr>\n",
        "    <tr>\n",
        "        <td>Key West</td>\n",
        "        <td>EYW</td>\n",
        "        <td>EYW</td>\n",
        "        <td>KEYW</td>\n",
        "        <td>Key West International Airport</td>\n",
        "        <td>P-S</td>\n",
        "        <td>403,021</td>\n",
        "    </tr>\n",
        "    <tr>\n",
        "        <td>Melbourne</td>\n",
        "        <td>MLB</td>\n",
        "        <td>MLB</td>\n",
        "        <td>KMLB</td>\n",
        "        <td>Melbourne International Airport</td>\n",
        "        <td>P-N</td>\n",
        "        <td>211,702</td>\n",
        "    </tr>\n",
        "    <tr>\n",
        "        <td>Miami</td>\n",
        "        <td>MIA</td>\n",
        "        <td>MIA</td>\n",
        "        <td>KMIA</td>\n",
        "        <td>Miami International Airport</td>\n",
        "        <td>P-L</td>\n",
        "        <td>19,422,275</td>\n",
        "    </tr>\n",
        "    <tr>\n",
        "        <td>Orlando</td>\n",
        "        <td>MCO</td>\n",
        "        <td>MCO</td>\n",
        "        <td>KMCO</td>\n",
        "        <td>Orlando International Airport</td>\n",
        "        <td>P-L</td>\n",
        "        <td>16,885,160</td>\n",
        "    </tr>\n",
        "    <tr>\n",
        "        <td>Orlando</td>\n",
        "        <td>SFB</td>\n",
        "        <td>SFB</td>\n",
        "        <td>KSFB</td>\n",
        "        <td>Orlando Sanford International Airport</td>\n",
        "        <td>P-S</td>\n",
        "        <td>971,522</td>\n",
        "    </tr>\n",
        "    <tr>\n",
        "        <td>Panama City Beach</td>\n",
        "        <td>ECP</td>\n",
        "        <td>ECP</td>\n",
        "        <td>KECP</td>\n",
        "        <td>Northwest Florida Beaches International Airport [nb 5]</td>\n",
        "        <td>P-S</td>\n",
        "        <td>391,893</td>\n",
        "    </tr>\n",
        "    <tr>\n",
        "        <td>Pensacola</td>\n",
        "        <td>PNS</td>\n",
        "        <td>PNS</td>\n",
        "        <td>KPNS</td>\n",
        "        <td>Pensacola International Airport (Pensacola Gulf Coast Regional Airport)</td>\n",
        "        <td>P-S</td>\n",
        "        <td>744,259</td>\n",
        "    </tr>\n",
        "    <tr>\n",
        "        <td>Punta Gorda</td>\n",
        "        <td>PGD</td>\n",
        "        <td>PGD</td>\n",
        "        <td>KPGD</td>\n",
        "        <td>Punta Gorda Airport (was Charlotte County Airport)</td>\n",
        "        <td>P-N</td>\n",
        "        <td>171,121</td>\n",
        "    </tr>\n",
        "    <tr>\n",
        "        <td>Sarasota / Bradenton</td>\n",
        "        <td>SRQ</td>\n",
        "        <td>SRQ</td>\n",
        "        <td>KSRQ</td>\n",
        "        <td>Sarasota\u2013Bradenton International Airport</td>\n",
        "        <td>P-S</td>\n",
        "        <td>595,423</td>\n",
        "    </tr>\n",
        "    <tr>\n",
        "        <td>St. Petersburg</td>\n",
        "        <td>PIE</td>\n",
        "        <td>PIE</td>\n",
        "        <td>KPIE</td>\n",
        "        <td>St. Petersburg\u2013Clearwater International Airport</td>\n",
        "        <td>P-S</td>\n",
        "        <td>514,595</td>\n",
        "    </tr>\n",
        "    <tr>\n",
        "        <td>Tallahassee</td>\n",
        "        <td>TLH</td>\n",
        "        <td>TLH</td>\n",
        "        <td>KTLH</td>\n",
        "        <td>Tallahassee Regional Airport</td>\n",
        "        <td>P-N</td>\n",
        "        <td>336,129</td>\n",
        "    </tr>\n",
        "    <tr>\n",
        "        <td>Tampa</td>\n",
        "        <td>TPA</td>\n",
        "        <td>TPA</td>\n",
        "        <td>KTPA</td>\n",
        "        <td>Tampa International Airport</td>\n",
        "        <td>P-L</td>\n",
        "        <td>8,268,207</td>\n",
        "    </tr>\n",
        "    <tr>\n",
        "        <td>Valparaiso</td>\n",
        "        <td>VPS</td>\n",
        "        <td>VPS</td>\n",
        "        <td>KVPS</td>\n",
        "        <td>Northwest Florida Regional Airport / Eglin Air Force Base</td>\n",
        "        <td>P-N</td>\n",
        "        <td>353,953</td>\n",
        "    </tr>\n",
        "    <tr>\n",
        "        <td>West Palm Beach</td>\n",
        "        <td>PBI</td>\n",
        "        <td>PBI</td>\n",
        "        <td>KPBI</td>\n",
        "        <td>Palm Beach International Airport</td>\n",
        "        <td>P-M</td>\n",
        "        <td>2,848,901</td>\n",
        "    </tr>\n",
        "    <tr>\n",
        "        <td>GEORGIA</td>\n",
        "        <td>None</td>\n",
        "        <td>None</td>\n",
        "        <td>None</td>\n",
        "        <td>None</td>\n",
        "        <td>None</td>\n",
        "        <td>None</td>\n",
        "    </tr>\n",
        "    <tr>\n",
        "        <td>Albany</td>\n",
        "        <td>ABY</td>\n",
        "        <td>ABY</td>\n",
        "        <td>KABY</td>\n",
        "        <td>Southwest Georgia Regional Airport</td>\n",
        "        <td>P-N</td>\n",
        "        <td>31,276</td>\n",
        "    </tr>\n",
        "    <tr>\n",
        "        <td>Atlanta</td>\n",
        "        <td>ATL</td>\n",
        "        <td>ATL</td>\n",
        "        <td>KATL</td>\n",
        "        <td>Hartsfield-Jackson Atlanta International Airport</td>\n",
        "        <td>P-L</td>\n",
        "        <td>45,308,685</td>\n",
        "    </tr>\n",
        "    <tr>\n",
        "        <td>Augusta</td>\n",
        "        <td>AGS</td>\n",
        "        <td>AGS</td>\n",
        "        <td>KAGS</td>\n",
        "        <td>Augusta Regional Airport (Bush Field)</td>\n",
        "        <td>P-N</td>\n",
        "        <td>261,079</td>\n",
        "    </tr>\n",
        "    <tr>\n",
        "        <td>Brunswick</td>\n",
        "        <td>BQK</td>\n",
        "        <td>BQK</td>\n",
        "        <td>KBQK</td>\n",
        "        <td>Brunswick Golden Isles Airport</td>\n",
        "        <td>P-N</td>\n",
        "        <td>32,450</td>\n",
        "    </tr>\n",
        "    <tr>\n",
        "        <td>Columbus</td>\n",
        "        <td>CSG</td>\n",
        "        <td>CSG</td>\n",
        "        <td>KCSG</td>\n",
        "        <td>Columbus Metropolitan Airport</td>\n",
        "        <td>P-N</td>\n",
        "        <td>59,675</td>\n",
        "    </tr>\n",
        "    <tr>\n",
        "        <td>Savannah</td>\n",
        "        <td>SAV</td>\n",
        "        <td>SAV</td>\n",
        "        <td>KSAV</td>\n",
        "        <td>Savannah/Hilton Head International Airport</td>\n",
        "        <td>P-S</td>\n",
        "        <td>798,970</td>\n",
        "    </tr>\n",
        "    <tr>\n",
        "        <td>Valdosta</td>\n",
        "        <td>VLD</td>\n",
        "        <td>VLD</td>\n",
        "        <td>KVLD</td>\n",
        "        <td>Valdosta Regional Airport</td>\n",
        "        <td>P-N</td>\n",
        "        <td>36,814</td>\n",
        "    </tr>\n",
        "    <tr>\n",
        "        <td>HAWAII</td>\n",
        "        <td>None</td>\n",
        "        <td>None</td>\n",
        "        <td>None</td>\n",
        "        <td>None</td>\n",
        "        <td>None</td>\n",
        "        <td>None</td>\n",
        "    </tr>\n",
        "    <tr>\n",
        "        <td>Hilo</td>\n",
        "        <td>ITO</td>\n",
        "        <td>ITO</td>\n",
        "        <td>PHTO</td>\n",
        "        <td>Hilo International Airport</td>\n",
        "        <td>P-S</td>\n",
        "        <td>640,411</td>\n",
        "    </tr>\n",
        "    <tr>\n",
        "        <td>Honolulu</td>\n",
        "        <td>HNL</td>\n",
        "        <td>HNL</td>\n",
        "        <td>PHNL</td>\n",
        "        <td>Honolulu International Airport / Hickam AFB</td>\n",
        "        <td>P-L</td>\n",
        "        <td>9,466,995</td>\n",
        "    </tr>\n",
        "    <tr>\n",
        "        <td>Kahului</td>\n",
        "        <td>OGG</td>\n",
        "        <td>OGG</td>\n",
        "        <td>PHOG</td>\n",
        "        <td>Kahului Airport</td>\n",
        "        <td>P-M</td>\n",
        "        <td>2,955,304</td>\n",
        "    </tr>\n",
        "    <tr>\n",
        "        <td>Kailua/Kona</td>\n",
        "        <td>KOA</td>\n",
        "        <td>KOA</td>\n",
        "        <td>PHKO</td>\n",
        "        <td>Kona International Airport at Keahole</td>\n",
        "        <td>P-S</td>\n",
        "        <td>1,376,641</td>\n",
        "    </tr>\n",
        "    <tr>\n",
        "        <td>Kaunakakai</td>\n",
        "        <td>MKK</td>\n",
        "        <td>MKK</td>\n",
        "        <td>PHMK</td>\n",
        "        <td>Molokai Airport (Moloka\u02bbi Airport)</td>\n",
        "        <td>P-N</td>\n",
        "        <td>63,879</td>\n",
        "    </tr>\n",
        "    <tr>\n",
        "        <td>Lanai City (L\u0101na\u02bbi City)</td>\n",
        "        <td>LNY</td>\n",
        "        <td>LNY</td>\n",
        "        <td>PHNY</td>\n",
        "        <td>Lanai Airport (L\u0101na\u02bbi Airport)</td>\n",
        "        <td>P-N</td>\n",
        "        <td>47,323</td>\n",
        "    </tr>\n",
        "    <tr>\n",
        "        <td>Lihue (L\u012bhu\u02bbe)</td>\n",
        "        <td>LIH</td>\n",
        "        <td>LIH</td>\n",
        "        <td>PHLI</td>\n",
        "        <td>Lihue Airport (L\u012bhu\u02bbe Airport)</td>\n",
        "        <td>P-S</td>\n",
        "        <td>1,315,141</td>\n",
        "    </tr>\n",
        "    <tr>\n",
        "        <td>IDAHO</td>\n",
        "        <td>None</td>\n",
        "        <td>None</td>\n",
        "        <td>None</td>\n",
        "        <td>None</td>\n",
        "        <td>None</td>\n",
        "        <td>None</td>\n",
        "    </tr>\n",
        "    <tr>\n",
        "        <td>Boise</td>\n",
        "        <td>BOI</td>\n",
        "        <td>BOI</td>\n",
        "        <td>KBOI</td>\n",
        "        <td>Boise Airport (Boise Air Terminal) (Gowen Field)</td>\n",
        "        <td>P-S</td>\n",
        "        <td>1,313,741</td>\n",
        "    </tr>\n",
        "    <tr>\n",
        "        <td>Hailey</td>\n",
        "        <td>SUN</td>\n",
        "        <td>SUN</td>\n",
        "        <td>KSUN</td>\n",
        "        <td>Friedman Memorial Airport</td>\n",
        "        <td>P-N</td>\n",
        "        <td>52,393</td>\n",
        "    </tr>\n",
        "    <tr>\n",
        "        <td>Idaho Falls</td>\n",
        "        <td>IDA</td>\n",
        "        <td>IDA</td>\n",
        "        <td>KIDA</td>\n",
        "        <td>Idaho Falls Regional Airport (Fanning Field)</td>\n",
        "        <td>P-N</td>\n",
        "        <td>147,073</td>\n",
        "    </tr>\n",
        "    <tr>\n",
        "        <td>Lewiston</td>\n",
        "        <td>LWS</td>\n",
        "        <td>LWS</td>\n",
        "        <td>KLWS</td>\n",
        "        <td>Lewiston-Nez Perce County Airport</td>\n",
        "        <td>P-N</td>\n",
        "        <td>62,209</td>\n",
        "    </tr>\n",
        "    <tr>\n",
        "        <td>Pocatello / Arbon Valley</td>\n",
        "        <td>PIH</td>\n",
        "        <td>PIH</td>\n",
        "        <td>KPIH</td>\n",
        "        <td>Pocatello Regional Airport</td>\n",
        "        <td>P-N</td>\n",
        "        <td>23,775</td>\n",
        "    </tr>\n",
        "    <tr>\n",
        "        <td>Twin Falls</td>\n",
        "        <td>TWF</td>\n",
        "        <td>TWF</td>\n",
        "        <td>KTWF</td>\n",
        "        <td>Magic Valley Regional Airport (Joslin Field)</td>\n",
        "        <td>P-N</td>\n",
        "        <td>28,601</td>\n",
        "    </tr>\n",
        "    <tr>\n",
        "        <td>ILLINOIS</td>\n",
        "        <td>None</td>\n",
        "        <td>None</td>\n",
        "        <td>None</td>\n",
        "        <td>None</td>\n",
        "        <td>None</td>\n",
        "        <td>None</td>\n",
        "    </tr>\n",
        "    <tr>\n",
        "        <td>Belleville</td>\n",
        "        <td>BLV</td>\n",
        "        <td>BLV</td>\n",
        "        <td>KBLV</td>\n",
        "        <td>MidAmerica St. Louis Airport / Scott Air Force Base</td>\n",
        "        <td>P-N</td>\n",
        "        <td>13,542</td>\n",
        "    </tr>\n",
        "    <tr>\n",
        "        <td>Bloomington / Normal</td>\n",
        "        <td>BMI</td>\n",
        "        <td>BMI</td>\n",
        "        <td>KBMI</td>\n",
        "        <td>Central Illinois Regional Airport at Bloomington-Normal</td>\n",
        "        <td>P-N</td>\n",
        "        <td>211,957</td>\n",
        "    </tr>\n",
        "    <tr>\n",
        "        <td>Champaign / Urbana</td>\n",
        "        <td>CMI</td>\n",
        "        <td>CMI</td>\n",
        "        <td>KCMI</td>\n",
        "        <td>University of Illinois - Willard Airport</td>\n",
        "        <td>P-N</td>\n",
        "        <td>84,853</td>\n",
        "    </tr>\n",
        "    <tr>\n",
        "        <td>Chicago</td>\n",
        "        <td>ORD</td>\n",
        "        <td>ORD</td>\n",
        "        <td>KORD</td>\n",
        "        <td>Chicago O&#x27;Hare International Airport</td>\n",
        "        <td>P-L</td>\n",
        "        <td>32,278,906</td>\n",
        "    </tr>\n",
        "    <tr>\n",
        "        <td>Chicago</td>\n",
        "        <td>MDW</td>\n",
        "        <td>MDW</td>\n",
        "        <td>KMDW</td>\n",
        "        <td>Chicago Midway International Airport</td>\n",
        "        <td>P-L</td>\n",
        "        <td>9,919,985</td>\n",
        "    </tr>\n",
        "    <tr>\n",
        "        <td>Marion</td>\n",
        "        <td>MWA</td>\n",
        "        <td>MWA</td>\n",
        "        <td>KMWA</td>\n",
        "        <td>Williamson County Regional Airport</td>\n",
        "        <td>P-N</td>\n",
        "        <td>11,241</td>\n",
        "    </tr>\n",
        "    <tr>\n",
        "        <td>Moline</td>\n",
        "        <td>MLI</td>\n",
        "        <td>MLI</td>\n",
        "        <td>KMLI</td>\n",
        "        <td>Quad City International Airport</td>\n",
        "        <td>P-N</td>\n",
        "        <td>384,198</td>\n",
        "    </tr>\n",
        "    <tr>\n",
        "        <td>Peoria</td>\n",
        "        <td>PIA</td>\n",
        "        <td>PIA</td>\n",
        "        <td>KPIA</td>\n",
        "        <td>General Downing - Peoria International Airport</td>\n",
        "        <td>P-M</td>\n",
        "        <td>491,000</td>\n",
        "    </tr>\n",
        "    <tr>\n",
        "        <td>Quincy</td>\n",
        "        <td>UIN</td>\n",
        "        <td>UIN</td>\n",
        "        <td>KUIN</td>\n",
        "        <td>Quincy Regional Airport (Baldwin Field)</td>\n",
        "        <td>P-N</td>\n",
        "        <td>10,679</td>\n",
        "    </tr>\n",
        "    <tr>\n",
        "        <td>Rockford</td>\n",
        "        <td>RFD</td>\n",
        "        <td>RFD</td>\n",
        "        <td>KRFD</td>\n",
        "        <td>Chicago Rockford International Airport</td>\n",
        "        <td>P-N</td>\n",
        "        <td>109,384</td>\n",
        "    </tr>\n",
        "    <tr>\n",
        "        <td>Springfield</td>\n",
        "        <td>SPI</td>\n",
        "        <td>SPI</td>\n",
        "        <td>KSPI</td>\n",
        "        <td>Abraham Lincoln Capital Airport</td>\n",
        "        <td>P-N</td>\n",
        "        <td>70,685</td>\n",
        "    </tr>\n",
        "    <tr>\n",
        "        <td>INDIANA</td>\n",
        "        <td>None</td>\n",
        "        <td>None</td>\n",
        "        <td>None</td>\n",
        "        <td>None</td>\n",
        "        <td>None</td>\n",
        "        <td>None</td>\n",
        "    </tr>\n",
        "    <tr>\n",
        "        <td>Evansville</td>\n",
        "        <td>EVV</td>\n",
        "        <td>EVV</td>\n",
        "        <td>KEVV</td>\n",
        "        <td>Evansville Regional Airport</td>\n",
        "        <td>P-N</td>\n",
        "        <td>161,279</td>\n",
        "    </tr>\n",
        "    <tr>\n",
        "        <td>Fort Wayne</td>\n",
        "        <td>FWA</td>\n",
        "        <td>FWA</td>\n",
        "        <td>KFWA</td>\n",
        "        <td>Fort Wayne International Airport</td>\n",
        "        <td>P-N</td>\n",
        "        <td>294,968</td>\n",
        "    </tr>\n",
        "    <tr>\n",
        "        <td>Indianapolis</td>\n",
        "        <td>IND</td>\n",
        "        <td>IND</td>\n",
        "        <td>KIND</td>\n",
        "        <td>Indianapolis International Airport</td>\n",
        "        <td>P-M</td>\n",
        "        <td>3,535,579</td>\n",
        "    </tr>\n",
        "    <tr>\n",
        "        <td>South Bend</td>\n",
        "        <td>SBN</td>\n",
        "        <td>SBN</td>\n",
        "        <td>KSBN</td>\n",
        "        <td>South Bend International Airport (was South Bend Regional)</td>\n",
        "        <td>P-N</td>\n",
        "        <td>329,403</td>\n",
        "    </tr>\n",
        "    <tr>\n",
        "        <td>IOWA</td>\n",
        "        <td>None</td>\n",
        "        <td>None</td>\n",
        "        <td>None</td>\n",
        "        <td>None</td>\n",
        "        <td>None</td>\n",
        "        <td>None</td>\n",
        "    </tr>\n",
        "    <tr>\n",
        "        <td>Cedar Rapids</td>\n",
        "        <td>CID</td>\n",
        "        <td>CID</td>\n",
        "        <td>KCID</td>\n",
        "        <td>The Eastern Iowa Airport</td>\n",
        "        <td>P-S</td>\n",
        "        <td>520,360</td>\n",
        "    </tr>\n",
        "    <tr>\n",
        "        <td>Des Moines</td>\n",
        "        <td>DSM</td>\n",
        "        <td>DSM</td>\n",
        "        <td>KDSM</td>\n",
        "        <td>Des Moines International Airport</td>\n",
        "        <td>P-S</td>\n",
        "        <td>1,079,189</td>\n",
        "    </tr>\n",
        "    <tr>\n",
        "        <td>Dubuque</td>\n",
        "        <td>DBQ</td>\n",
        "        <td>DBQ</td>\n",
        "        <td>KDBQ</td>\n",
        "        <td>Dubuque Regional Airport</td>\n",
        "        <td>P-N</td>\n",
        "        <td>33,465</td>\n",
        "    </tr>\n",
        "    <tr>\n",
        "        <td>Sioux City</td>\n",
        "        <td>SUX</td>\n",
        "        <td>SUX</td>\n",
        "        <td>KSUX</td>\n",
        "        <td>Sioux Gateway Airport (Col. Bud Day Field)</td>\n",
        "        <td>P-N</td>\n",
        "        <td>25,313</td>\n",
        "    </tr>\n",
        "    <tr>\n",
        "        <td>Waterloo</td>\n",
        "        <td>ALO</td>\n",
        "        <td>ALO</td>\n",
        "        <td>KALO</td>\n",
        "        <td>Waterloo Regional Airport</td>\n",
        "        <td>P-N</td>\n",
        "        <td>20,984</td>\n",
        "    </tr>\n",
        "    <tr>\n",
        "        <td>KANSAS</td>\n",
        "        <td>None</td>\n",
        "        <td>None</td>\n",
        "        <td>None</td>\n",
        "        <td>None</td>\n",
        "        <td>None</td>\n",
        "        <td>None</td>\n",
        "    </tr>\n",
        "    <tr>\n",
        "        <td>Garden City</td>\n",
        "        <td>GCK</td>\n",
        "        <td>GCK</td>\n",
        "        <td>KGCK</td>\n",
        "        <td>Garden City Regional Airport</td>\n",
        "        <td>P-N</td>\n",
        "        <td>24,456</td>\n",
        "    </tr>\n",
        "    <tr>\n",
        "        <td>Manhattan</td>\n",
        "        <td>MHK</td>\n",
        "        <td>MHK</td>\n",
        "        <td>KMHK</td>\n",
        "        <td>Manhattan Regional Airport</td>\n",
        "        <td>P-N</td>\n",
        "        <td>65,683</td>\n",
        "    </tr>\n",
        "    <tr>\n",
        "        <td>Wichita</td>\n",
        "        <td>ICT</td>\n",
        "        <td>ICT</td>\n",
        "        <td>KICT</td>\n",
        "        <td>Wichita Dwight D. Eisenhower National Airport (formerly Wichita Mid-Continent Airport)</td>\n",
        "        <td>P-S</td>\n",
        "        <td>736,220</td>\n",
        "    </tr>\n",
        "    <tr>\n",
        "        <td>KENTUCKY</td>\n",
        "        <td>None</td>\n",
        "        <td>None</td>\n",
        "        <td>None</td>\n",
        "        <td>None</td>\n",
        "        <td>None</td>\n",
        "        <td>None</td>\n",
        "    </tr>\n",
        "    <tr>\n",
        "        <td>Covington</td>\n",
        "        <td>CVG</td>\n",
        "        <td>CVG</td>\n",
        "        <td>KCVG</td>\n",
        "        <td>Cincinnati/Northern Kentucky International Airport</td>\n",
        "        <td>P-M</td>\n",
        "        <td>2,776,377</td>\n",
        "    </tr>\n",
        "    <tr>\n",
        "        <td>Lexington</td>\n",
        "        <td>LEX</td>\n",
        "        <td>LEX</td>\n",
        "        <td>KLEX</td>\n",
        "        <td>Blue Grass Airport</td>\n",
        "        <td>P-S</td>\n",
        "        <td>539,879</td>\n",
        "    </tr>\n",
        "    <tr>\n",
        "        <td>Louisville</td>\n",
        "        <td>SDF</td>\n",
        "        <td>SDF</td>\n",
        "        <td>KSDF</td>\n",
        "        <td>Louisville International Airport (Standiford Field)</td>\n",
        "        <td>P-S</td>\n",
        "        <td>1,669,470</td>\n",
        "    </tr>\n",
        "    <tr>\n",
        "        <td>Owensboro</td>\n",
        "        <td>OWB</td>\n",
        "        <td>OWB</td>\n",
        "        <td>KOWB</td>\n",
        "        <td>Owensboro-Daviess County Regional Airport</td>\n",
        "        <td>P-N</td>\n",
        "        <td>21,751</td>\n",
        "    </tr>\n",
        "    <tr>\n",
        "        <td>Paducah</td>\n",
        "        <td>PAH</td>\n",
        "        <td>PAH</td>\n",
        "        <td>KPAH</td>\n",
        "        <td>Barkley Regional Airport</td>\n",
        "        <td>P-N</td>\n",
        "        <td>20,523</td>\n",
        "    </tr>\n",
        "    <tr>\n",
        "        <td>LOUISIANA</td>\n",
        "        <td>None</td>\n",
        "        <td>None</td>\n",
        "        <td>None</td>\n",
        "        <td>None</td>\n",
        "        <td>None</td>\n",
        "        <td>None</td>\n",
        "    </tr>\n",
        "    <tr>\n",
        "        <td>Alexandria</td>\n",
        "        <td>AEX</td>\n",
        "        <td>AEX</td>\n",
        "        <td>KAEX</td>\n",
        "        <td>Alexandria International Airport</td>\n",
        "        <td>P-N</td>\n",
        "        <td>183,899</td>\n",
        "    </tr>\n",
        "    <tr>\n",
        "        <td>Baton Rouge</td>\n",
        "        <td>BTR</td>\n",
        "        <td>BTR</td>\n",
        "        <td>KBTR</td>\n",
        "        <td>Baton Rouge Metropolitan Airport (Ryan Field)</td>\n",
        "        <td>P-S</td>\n",
        "        <td>401,035</td>\n",
        "    </tr>\n",
        "    <tr>\n",
        "        <td>Lafayette</td>\n",
        "        <td>LFT</td>\n",
        "        <td>LFT</td>\n",
        "        <td>KLFT</td>\n",
        "        <td>Lafayette Regional Airport</td>\n",
        "        <td>P-N</td>\n",
        "        <td>233,498</td>\n",
        "    </tr>\n",
        "    <tr>\n",
        "        <td>Lake Charles</td>\n",
        "        <td>LCH</td>\n",
        "        <td>LCH</td>\n",
        "        <td>KLCH</td>\n",
        "        <td>Lake Charles Regional Airport</td>\n",
        "        <td>P-N</td>\n",
        "        <td>65,281</td>\n",
        "    </tr>\n",
        "    <tr>\n",
        "        <td>Monroe</td>\n",
        "        <td>MLU</td>\n",
        "        <td>MLU</td>\n",
        "        <td>KMLU</td>\n",
        "        <td>Monroe Regional Airport</td>\n",
        "        <td>P-N</td>\n",
        "        <td>115,757</td>\n",
        "    </tr>\n",
        "    <tr>\n",
        "        <td>New Orleans</td>\n",
        "        <td>MSY</td>\n",
        "        <td>MSY</td>\n",
        "        <td>KMSY</td>\n",
        "        <td>Louis Armstrong New Orleans International Airport</td>\n",
        "        <td>P-M</td>\n",
        "        <td>4,577,498</td>\n",
        "    </tr>\n",
        "    <tr>\n",
        "        <td>Shreveport</td>\n",
        "        <td>SHV</td>\n",
        "        <td>SHV</td>\n",
        "        <td>KSHV</td>\n",
        "        <td>Shreveport Regional Airport</td>\n",
        "        <td>P-N</td>\n",
        "        <td>279,897</td>\n",
        "    </tr>\n",
        "    <tr>\n",
        "        <td>MAINE</td>\n",
        "        <td>None</td>\n",
        "        <td>None</td>\n",
        "        <td>None</td>\n",
        "        <td>None</td>\n",
        "        <td>None</td>\n",
        "        <td>None</td>\n",
        "    </tr>\n",
        "    <tr>\n",
        "        <td>Bangor</td>\n",
        "        <td>BGR</td>\n",
        "        <td>BGR</td>\n",
        "        <td>KBGR</td>\n",
        "        <td>Bangor International Airport</td>\n",
        "        <td>P-N</td>\n",
        "        <td>265,245</td>\n",
        "    </tr>\n",
        "    <tr>\n",
        "        <td>Bar Harbor</td>\n",
        "        <td>BHB</td>\n",
        "        <td>BHB</td>\n",
        "        <td>KBHB</td>\n",
        "        <td>Hancock County-Bar Harbor Airport</td>\n",
        "        <td>P-N</td>\n",
        "        <td>10,625</td>\n",
        "    </tr>\n",
        "    <tr>\n",
        "        <td>Portland</td>\n",
        "        <td>PWM</td>\n",
        "        <td>PWM</td>\n",
        "        <td>KPWM</td>\n",
        "        <td>Portland International Jetport</td>\n",
        "        <td>P-S</td>\n",
        "        <td>837,335</td>\n",
        "    </tr>\n",
        "    <tr>\n",
        "        <td>Presque Isle</td>\n",
        "        <td>PQI</td>\n",
        "        <td>PQI</td>\n",
        "        <td>KPQI</td>\n",
        "        <td>Northern Maine Regional Airport at Presque Isle</td>\n",
        "        <td>P-N</td>\n",
        "        <td>11,488</td>\n",
        "    </tr>\n",
        "    <tr>\n",
        "        <td>Rockland</td>\n",
        "        <td>RKD</td>\n",
        "        <td>RKD</td>\n",
        "        <td>KRKD</td>\n",
        "        <td>Knox County Regional Airport</td>\n",
        "        <td>P-N</td>\n",
        "        <td>15,724</td>\n",
        "    </tr>\n",
        "    <tr>\n",
        "        <td>MARYLAND</td>\n",
        "        <td>None</td>\n",
        "        <td>None</td>\n",
        "        <td>None</td>\n",
        "        <td>None</td>\n",
        "        <td>None</td>\n",
        "        <td>None</td>\n",
        "    </tr>\n",
        "    <tr>\n",
        "        <td>Baltimore / Glen Burnie</td>\n",
        "        <td>BWI</td>\n",
        "        <td>BWI</td>\n",
        "        <td>KBWI</td>\n",
        "        <td>Baltimore/Washington International Thurgood Marshall Airport</td>\n",
        "        <td>P-L</td>\n",
        "        <td>11,134,130</td>\n",
        "    </tr>\n",
        "    <tr>\n",
        "        <td>Salisbury</td>\n",
        "        <td>SBY</td>\n",
        "        <td>SBY</td>\n",
        "        <td>KSBY</td>\n",
        "        <td>Salisbury-Ocean City Wicomico Regional Airport</td>\n",
        "        <td>P-N</td>\n",
        "        <td>62,670</td>\n",
        "    </tr>\n",
        "    <tr>\n",
        "        <td>Hagerstown</td>\n",
        "        <td>HGR</td>\n",
        "        <td>HGR</td>\n",
        "        <td>KHGR</td>\n",
        "        <td>Hagerstown Regional Airport (Richard A. Henson Field)</td>\n",
        "        <td>P-N</td>\n",
        "        <td>12,941</td>\n",
        "    </tr>\n",
        "    <tr>\n",
        "        <td>MASSACHUSETTS</td>\n",
        "        <td>None</td>\n",
        "        <td>None</td>\n",
        "        <td>None</td>\n",
        "        <td>None</td>\n",
        "        <td>None</td>\n",
        "        <td>None</td>\n",
        "    </tr>\n",
        "    <tr>\n",
        "        <td>Boston</td>\n",
        "        <td>BOS</td>\n",
        "        <td>BOS</td>\n",
        "        <td>KBOS</td>\n",
        "        <td>Gen. Edward Lawrence Logan International Airport</td>\n",
        "        <td>P-L</td>\n",
        "        <td>14,721,693</td>\n",
        "    </tr>\n",
        "    <tr>\n",
        "        <td>Hyannis</td>\n",
        "        <td>HYA</td>\n",
        "        <td>HYA</td>\n",
        "        <td>KHYA</td>\n",
        "        <td>Barnstable Municipal Airport (Boardman/Polando Field)</td>\n",
        "        <td>P-N</td>\n",
        "        <td>88,055</td>\n",
        "    </tr>\n",
        "    <tr>\n",
        "        <td>Nantucket</td>\n",
        "        <td>ACK</td>\n",
        "        <td>ACK</td>\n",
        "        <td>KACK</td>\n",
        "        <td>Nantucket Memorial Airport</td>\n",
        "        <td>P-N</td>\n",
        "        <td>184,618</td>\n",
        "    </tr>\n",
        "    <tr>\n",
        "        <td>New Bedford</td>\n",
        "        <td>EWB</td>\n",
        "        <td>EWB</td>\n",
        "        <td>KEWB</td>\n",
        "        <td>New Bedford Regional Airport</td>\n",
        "        <td>P-N</td>\n",
        "        <td>10,604</td>\n",
        "    </tr>\n",
        "    <tr>\n",
        "        <td>Provincetown</td>\n",
        "        <td>PVC</td>\n",
        "        <td>PVC</td>\n",
        "        <td>KPVC</td>\n",
        "        <td>Provincetown Municipal Airport</td>\n",
        "        <td>P-N</td>\n",
        "        <td>11,288</td>\n",
        "    </tr>\n",
        "    <tr>\n",
        "        <td>Vineyard Haven</td>\n",
        "        <td>MVY</td>\n",
        "        <td>MVY</td>\n",
        "        <td>KMVY</td>\n",
        "        <td>Martha&#x27;s Vineyard Airport</td>\n",
        "        <td>P-N</td>\n",
        "        <td>56,763</td>\n",
        "    </tr>\n",
        "    <tr>\n",
        "        <td>MICHIGAN</td>\n",
        "        <td>None</td>\n",
        "        <td>None</td>\n",
        "        <td>None</td>\n",
        "        <td>None</td>\n",
        "        <td>None</td>\n",
        "        <td>None</td>\n",
        "    </tr>\n",
        "    <tr>\n",
        "        <td>Alpena</td>\n",
        "        <td>APN</td>\n",
        "        <td>APN</td>\n",
        "        <td>KAPN</td>\n",
        "        <td>Alpena County Regional Airport</td>\n",
        "        <td>P-N</td>\n",
        "        <td>15,914</td>\n",
        "    </tr>\n",
        "    <tr>\n",
        "        <td>Charlevoix</td>\n",
        "        <td>CVX</td>\n",
        "        <td>CVX</td>\n",
        "        <td>KCVX</td>\n",
        "        <td>Charlevoix Municipal Airport</td>\n",
        "        <td>P-N</td>\n",
        "        <td>16,929</td>\n",
        "    </tr>\n",
        "    <tr>\n",
        "        <td>Detroit / Romulus</td>\n",
        "        <td>DTW</td>\n",
        "        <td>DTW</td>\n",
        "        <td>KDTW</td>\n",
        "        <td>Detroit Metropolitan Wayne County Airport</td>\n",
        "        <td>P-L</td>\n",
        "        <td>15,683,787</td>\n",
        "    </tr>\n",
        "    <tr>\n",
        "        <td>Escanaba</td>\n",
        "        <td>ESC</td>\n",
        "        <td>ESC</td>\n",
        "        <td>KESC</td>\n",
        "        <td>Delta County Airport</td>\n",
        "        <td>P-N</td>\n",
        "        <td>15,110</td>\n",
        "    </tr>\n",
        "    <tr>\n",
        "        <td>Flint</td>\n",
        "        <td>FNT</td>\n",
        "        <td>FNT</td>\n",
        "        <td>KFNT</td>\n",
        "        <td>Bishop International Airport</td>\n",
        "        <td>P-S</td>\n",
        "        <td>398,132</td>\n",
        "    </tr>\n",
        "    <tr>\n",
        "        <td>Grand Rapids</td>\n",
        "        <td>GRR</td>\n",
        "        <td>GRR</td>\n",
        "        <td>KGRR</td>\n",
        "        <td>Gerald R. Ford International Airport</td>\n",
        "        <td>P-S</td>\n",
        "        <td>1,123,257</td>\n",
        "    </tr>\n",
        "    <tr>\n",
        "        <td>Hancock / Calumet</td>\n",
        "        <td>CMX</td>\n",
        "        <td>CMX</td>\n",
        "        <td>KCMX</td>\n",
        "        <td>Houghton County Memorial Airport</td>\n",
        "        <td>P-N</td>\n",
        "        <td>25,312</td>\n",
        "    </tr>\n",
        "    <tr>\n",
        "        <td>Iron Mountain / Kingsford</td>\n",
        "        <td>IMT</td>\n",
        "        <td>IMT</td>\n",
        "        <td>KIMT</td>\n",
        "        <td>Ford Airport</td>\n",
        "        <td>P-N</td>\n",
        "        <td>11,271</td>\n",
        "    </tr>\n",
        "    <tr>\n",
        "        <td>Kalamazoo / Battle Creek</td>\n",
        "        <td>AZO</td>\n",
        "        <td>AZO</td>\n",
        "        <td>KAZO</td>\n",
        "        <td>Kalamazoo/Battle Creek International Airport</td>\n",
        "        <td>P-N</td>\n",
        "        <td>129,211</td>\n",
        "    </tr>\n",
        "    <tr>\n",
        "        <td>Lansing</td>\n",
        "        <td>LAN</td>\n",
        "        <td>LAN</td>\n",
        "        <td>KLAN</td>\n",
        "        <td>Capital Region International Airport (was Lansing Capital City)</td>\n",
        "        <td>P-N</td>\n",
        "        <td>216,925</td>\n",
        "    </tr>\n",
        "    <tr>\n",
        "        <td>Marquette / Gwinn</td>\n",
        "        <td>SAW</td>\n",
        "        <td>MQT</td>\n",
        "        <td>KSAW</td>\n",
        "        <td>Sawyer International Airport</td>\n",
        "        <td>P-N</td>\n",
        "        <td>42,355</td>\n",
        "    </tr>\n",
        "    <tr>\n",
        "        <td>Muskegon</td>\n",
        "        <td>MKG</td>\n",
        "        <td>MKG</td>\n",
        "        <td>KMKG</td>\n",
        "        <td>Muskegon County Airport</td>\n",
        "        <td>P-N</td>\n",
        "        <td>18,020</td>\n",
        "    </tr>\n",
        "    <tr>\n",
        "        <td>Pellston</td>\n",
        "        <td>PLN</td>\n",
        "        <td>PLN</td>\n",
        "        <td>KPLN</td>\n",
        "        <td>Pellston Regional Airport of Emmet County</td>\n",
        "        <td>P-N</td>\n",
        "        <td>27,281</td>\n",
        "    </tr>\n",
        "    <tr>\n",
        "        <td>Saginaw</td>\n",
        "        <td>MBS</td>\n",
        "        <td>MBS</td>\n",
        "        <td>KMBS</td>\n",
        "        <td>MBS International Airport</td>\n",
        "        <td>P-N</td>\n",
        "        <td>120,689</td>\n",
        "    </tr>\n",
        "    <tr>\n",
        "        <td>Sault Ste. Marie</td>\n",
        "        <td>CIU</td>\n",
        "        <td>CIU</td>\n",
        "        <td>KCIU</td>\n",
        "        <td>Chippewa County International Airport</td>\n",
        "        <td>P-N</td>\n",
        "        <td>21,827</td>\n",
        "    </tr>\n",
        "    <tr>\n",
        "        <td>Traverse City</td>\n",
        "        <td>TVC</td>\n",
        "        <td>TVC</td>\n",
        "        <td>KTVC</td>\n",
        "        <td>Cherry Capital Airport</td>\n",
        "        <td>P-N</td>\n",
        "        <td>189,644</td>\n",
        "    </tr>\n",
        "    <tr>\n",
        "        <td>MINNESOTA</td>\n",
        "        <td>None</td>\n",
        "        <td>None</td>\n",
        "        <td>None</td>\n",
        "        <td>None</td>\n",
        "        <td>None</td>\n",
        "        <td>None</td>\n",
        "    </tr>\n",
        "    <tr>\n",
        "        <td>Bemidji</td>\n",
        "        <td>BJI</td>\n",
        "        <td>BJI</td>\n",
        "        <td>KBJI</td>\n",
        "        <td>Bemidji Regional Airport</td>\n",
        "        <td>P-N</td>\n",
        "        <td>22,819</td>\n",
        "    </tr>\n",
        "    <tr>\n",
        "        <td>Brainerd</td>\n",
        "        <td>BRD</td>\n",
        "        <td>BRD</td>\n",
        "        <td>KBRD</td>\n",
        "        <td>Brainerd Lakes Regional Airport</td>\n",
        "        <td>P-N</td>\n",
        "        <td>15,654</td>\n",
        "    </tr>\n",
        "    <tr>\n",
        "        <td>Duluth</td>\n",
        "        <td>DLH</td>\n",
        "        <td>DLH</td>\n",
        "        <td>KDLH</td>\n",
        "        <td>Duluth International Airport</td>\n",
        "        <td>P-N</td>\n",
        "        <td>155,455</td>\n",
        "    </tr>\n",
        "    <tr>\n",
        "        <td>Hibbing</td>\n",
        "        <td>HIB</td>\n",
        "        <td>HIB</td>\n",
        "        <td>KHIB</td>\n",
        "        <td>Range Regional Airport (was Chisholm\u2013Hibbing Airport)</td>\n",
        "        <td>P-N</td>\n",
        "        <td>11,669</td>\n",
        "    </tr>\n",
        "    <tr>\n",
        "        <td>International Falls</td>\n",
        "        <td>INL</td>\n",
        "        <td>INL</td>\n",
        "        <td>KINL</td>\n",
        "        <td>Falls International Airport</td>\n",
        "        <td>P-N</td>\n",
        "        <td>15,796</td>\n",
        "    </tr>\n",
        "    <tr>\n",
        "        <td>Minneapolis</td>\n",
        "        <td>MSP</td>\n",
        "        <td>MSP</td>\n",
        "        <td>KMSP</td>\n",
        "        <td>Minneapolis\u2013St. Paul International Airport (Wold\u2013Chamberlain Field)</td>\n",
        "        <td>P-L</td>\n",
        "        <td>16,282,038</td>\n",
        "    </tr>\n",
        "    <tr>\n",
        "        <td>Rochester</td>\n",
        "        <td>RST</td>\n",
        "        <td>RST</td>\n",
        "        <td>KRST</td>\n",
        "        <td>Rochester International Airport</td>\n",
        "        <td>P-N</td>\n",
        "        <td>110,104</td>\n",
        "    </tr>\n",
        "    <tr>\n",
        "        <td>St. Cloud</td>\n",
        "        <td>STC</td>\n",
        "        <td>STC</td>\n",
        "        <td>KSTC</td>\n",
        "        <td>St. Cloud Regional Airport (scheduled passenger service resumed Dec. 2012)</td>\n",
        "        <td>P-N</td>\n",
        "        <td>15,842</td>\n",
        "    </tr>\n",
        "    <tr>\n",
        "        <td>MISSISSIPPI</td>\n",
        "        <td>None</td>\n",
        "        <td>None</td>\n",
        "        <td>None</td>\n",
        "        <td>None</td>\n",
        "        <td>None</td>\n",
        "        <td>None</td>\n",
        "    </tr>\n",
        "    <tr>\n",
        "        <td>Columbus / West Point / Starkville</td>\n",
        "        <td>GTR</td>\n",
        "        <td>GTR</td>\n",
        "        <td>KGTR</td>\n",
        "        <td>Golden Triangle Regional Airport</td>\n",
        "        <td>P-N</td>\n",
        "        <td>41,140</td>\n",
        "    </tr>\n",
        "    <tr>\n",
        "        <td>Gulfport / Biloxi</td>\n",
        "        <td>GPT</td>\n",
        "        <td>GPT</td>\n",
        "        <td>KGPT</td>\n",
        "        <td>Gulfport-Biloxi International Airport</td>\n",
        "        <td>P-N</td>\n",
        "        <td>369,597</td>\n",
        "    </tr>\n",
        "    <tr>\n",
        "        <td>Hattiesburg / Laurel</td>\n",
        "        <td>PIB</td>\n",
        "        <td>PIB</td>\n",
        "        <td>KPIB</td>\n",
        "        <td>Hattiesburg-Laurel Regional Airport</td>\n",
        "        <td>P-N</td>\n",
        "        <td>10,633</td>\n",
        "    </tr>\n",
        "    <tr>\n",
        "        <td>Jackson</td>\n",
        "        <td>JAN</td>\n",
        "        <td>JAN</td>\n",
        "        <td>KJAN</td>\n",
        "        <td>Jackson-Evers International Airport</td>\n",
        "        <td>P-S</td>\n",
        "        <td>596,045</td>\n",
        "    </tr>\n",
        "    <tr>\n",
        "        <td>MISSOURI</td>\n",
        "        <td>None</td>\n",
        "        <td>None</td>\n",
        "        <td>None</td>\n",
        "        <td>None</td>\n",
        "        <td>None</td>\n",
        "        <td>None</td>\n",
        "    </tr>\n",
        "    <tr>\n",
        "        <td>Columbia</td>\n",
        "        <td>COU</td>\n",
        "        <td>COU</td>\n",
        "        <td>KCOU</td>\n",
        "        <td>Columbia Regional Airport</td>\n",
        "        <td>P-N</td>\n",
        "        <td>45,714</td>\n",
        "    </tr>\n",
        "    <tr>\n",
        "        <td>Joplin</td>\n",
        "        <td>JLN</td>\n",
        "        <td>JLN</td>\n",
        "        <td>KJLN</td>\n",
        "        <td>Joplin Regional Airport</td>\n",
        "        <td>P-N</td>\n",
        "        <td>23,329</td>\n",
        "    </tr>\n",
        "    <tr>\n",
        "        <td>Kansas City</td>\n",
        "        <td>MCI</td>\n",
        "        <td>MCI</td>\n",
        "        <td>KMCI</td>\n",
        "        <td>Kansas City International Airport</td>\n",
        "        <td>P-M</td>\n",
        "        <td>4,836,221</td>\n",
        "    </tr>\n",
        "    <tr>\n",
        "        <td>Springfield</td>\n",
        "        <td>SGF</td>\n",
        "        <td>SGF</td>\n",
        "        <td>KSGF</td>\n",
        "        <td>Springfield-Branson National Airport</td>\n",
        "        <td>P-N</td>\n",
        "        <td>368,752</td>\n",
        "    </tr>\n",
        "    <tr>\n",
        "        <td>St. Louis</td>\n",
        "        <td>STL</td>\n",
        "        <td>STL</td>\n",
        "        <td>KSTL</td>\n",
        "        <td>Lambert-St. Louis International Airport</td>\n",
        "        <td>P-M</td>\n",
        "        <td>6,213,972</td>\n",
        "    </tr>\n",
        "    <tr>\n",
        "        <td>MONTANA</td>\n",
        "        <td>None</td>\n",
        "        <td>None</td>\n",
        "        <td>None</td>\n",
        "        <td>None</td>\n",
        "        <td>None</td>\n",
        "        <td>None</td>\n",
        "    </tr>\n",
        "    <tr>\n",
        "        <td>Billings</td>\n",
        "        <td>BIL</td>\n",
        "        <td>BIL</td>\n",
        "        <td>KBIL</td>\n",
        "        <td>Billings Logan International Airport</td>\n",
        "        <td>P-S</td>\n",
        "        <td>387,368</td>\n",
        "    </tr>\n",
        "    <tr>\n",
        "        <td>Bozeman</td>\n",
        "        <td>BZN</td>\n",
        "        <td>BZN</td>\n",
        "        <td>KBZN</td>\n",
        "        <td>Bozeman Yellowstone International Airport (was Gallatin Field Airport)</td>\n",
        "        <td>P-S</td>\n",
        "        <td>442,788</td>\n",
        "    </tr>\n",
        "    <tr>\n",
        "        <td>Butte</td>\n",
        "        <td>BTM</td>\n",
        "        <td>BTM</td>\n",
        "        <td>KBTM</td>\n",
        "        <td>Bert Mooney Airport</td>\n",
        "        <td>P-N</td>\n",
        "        <td>29,490</td>\n",
        "    </tr>\n",
        "    <tr>\n",
        "        <td>Great Falls</td>\n",
        "        <td>GTF</td>\n",
        "        <td>GTF</td>\n",
        "        <td>KGTF</td>\n",
        "        <td>Great Falls International Airport</td>\n",
        "        <td>P-N</td>\n",
        "        <td>182,390</td>\n",
        "    </tr>\n",
        "    <tr>\n",
        "        <td>Helena</td>\n",
        "        <td>HLN</td>\n",
        "        <td>HLN</td>\n",
        "        <td>KHLN</td>\n",
        "        <td>Helena Regional Airport</td>\n",
        "        <td>P-N</td>\n",
        "        <td>97,310</td>\n",
        "    </tr>\n",
        "    <tr>\n",
        "        <td>Kalispell</td>\n",
        "        <td>GPI</td>\n",
        "        <td>FCA</td>\n",
        "        <td>KGPI</td>\n",
        "        <td>Glacier Park International Airport</td>\n",
        "        <td>P-N</td>\n",
        "        <td>199,701</td>\n",
        "    </tr>\n",
        "    <tr>\n",
        "        <td>Missoula</td>\n",
        "        <td>MSO</td>\n",
        "        <td>MSO</td>\n",
        "        <td>KMSO</td>\n",
        "        <td>Missoula International Airport</td>\n",
        "        <td>P-N</td>\n",
        "        <td>298,253</td>\n",
        "    </tr>\n",
        "    <tr>\n",
        "        <td>NEBRASKA</td>\n",
        "        <td>None</td>\n",
        "        <td>None</td>\n",
        "        <td>None</td>\n",
        "        <td>None</td>\n",
        "        <td>None</td>\n",
        "        <td>None</td>\n",
        "    </tr>\n",
        "    <tr>\n",
        "        <td>Grand Island</td>\n",
        "        <td>GRI</td>\n",
        "        <td>GRI</td>\n",
        "        <td>KGRI</td>\n",
        "        <td>Central Nebraska Regional Airport</td>\n",
        "        <td>P-N</td>\n",
        "        <td>57,165</td>\n",
        "    </tr>\n",
        "    <tr>\n",
        "        <td>Kearney</td>\n",
        "        <td>EAR</td>\n",
        "        <td>EAR</td>\n",
        "        <td>KEAR</td>\n",
        "        <td>Kearney Regional Airport (was Kearney Municipal)</td>\n",
        "        <td>P-N</td>\n",
        "        <td>13,096</td>\n",
        "    </tr>\n",
        "    <tr>\n",
        "        <td>Lincoln</td>\n",
        "        <td>LNK</td>\n",
        "        <td>LNK</td>\n",
        "        <td>KLNK</td>\n",
        "        <td>Lincoln Airport (was Lincoln Municipal)</td>\n",
        "        <td>P-N</td>\n",
        "        <td>138,787</td>\n",
        "    </tr>\n",
        "    <tr>\n",
        "        <td>Omaha</td>\n",
        "        <td>OMA</td>\n",
        "        <td>OMA</td>\n",
        "        <td>KOMA</td>\n",
        "        <td>Eppley Airfield</td>\n",
        "        <td>P-M</td>\n",
        "        <td>1,977,480</td>\n",
        "    </tr>\n",
        "    <tr>\n",
        "        <td>Scottsbluff</td>\n",
        "        <td>BFF</td>\n",
        "        <td>BFF</td>\n",
        "        <td>KBFF</td>\n",
        "        <td>Western Nebraska Regional Airport (William B. Heilig Field)</td>\n",
        "        <td>P-N</td>\n",
        "        <td>10,155</td>\n",
        "    </tr>\n",
        "    <tr>\n",
        "        <td>NEVADA</td>\n",
        "        <td>None</td>\n",
        "        <td>None</td>\n",
        "        <td>None</td>\n",
        "        <td>None</td>\n",
        "        <td>None</td>\n",
        "        <td>None</td>\n",
        "    </tr>\n",
        "    <tr>\n",
        "        <td>Boulder City</td>\n",
        "        <td>BVU</td>\n",
        "        <td>BLD</td>\n",
        "        <td>KBVU</td>\n",
        "        <td>Boulder City Municipal Airport</td>\n",
        "        <td>P-N</td>\n",
        "        <td>103,972</td>\n",
        "    </tr>\n",
        "    <tr>\n",
        "        <td>Elko</td>\n",
        "        <td>EKO</td>\n",
        "        <td>EKO</td>\n",
        "        <td>KEKO</td>\n",
        "        <td>Elko Regional Airport (J.C. Harris Field)</td>\n",
        "        <td>P-N</td>\n",
        "        <td>19,510</td>\n",
        "    </tr>\n",
        "    <tr>\n",
        "        <td>Las Vegas</td>\n",
        "        <td>LAS</td>\n",
        "        <td>LAS</td>\n",
        "        <td>KLAS</td>\n",
        "        <td>McCarran International Airport</td>\n",
        "        <td>P-L</td>\n",
        "        <td>19,923,594</td>\n",
        "    </tr>\n",
        "    <tr>\n",
        "        <td>Reno</td>\n",
        "        <td>RNO</td>\n",
        "        <td>RNO</td>\n",
        "        <td>KRNO</td>\n",
        "        <td>Reno/Tahoe International Airport</td>\n",
        "        <td>P-S</td>\n",
        "        <td>1,672,139</td>\n",
        "    </tr>\n",
        "    <tr>\n",
        "        <td>NEW HAMPSHIRE</td>\n",
        "        <td>None</td>\n",
        "        <td>None</td>\n",
        "        <td>None</td>\n",
        "        <td>None</td>\n",
        "        <td>None</td>\n",
        "        <td>None</td>\n",
        "    </tr>\n",
        "    <tr>\n",
        "        <td>Lebanon</td>\n",
        "        <td>LEB</td>\n",
        "        <td>LEB</td>\n",
        "        <td>KLEB</td>\n",
        "        <td>Lebanon Municipal Airport</td>\n",
        "        <td>P-N</td>\n",
        "        <td>10,953</td>\n",
        "    </tr>\n",
        "    <tr>\n",
        "        <td>Manchester</td>\n",
        "        <td>MHT</td>\n",
        "        <td>MHT</td>\n",
        "        <td>KMHT</td>\n",
        "        <td>Manchester-Boston Regional Airport</td>\n",
        "        <td>P-S</td>\n",
        "        <td>1,190,082</td>\n",
        "    </tr>\n",
        "    <tr>\n",
        "        <td>NEW JERSEY</td>\n",
        "        <td>None</td>\n",
        "        <td>None</td>\n",
        "        <td>None</td>\n",
        "        <td>None</td>\n",
        "        <td>None</td>\n",
        "        <td>None</td>\n",
        "    </tr>\n",
        "    <tr>\n",
        "        <td>Atlantic City</td>\n",
        "        <td>ACY</td>\n",
        "        <td>ACY</td>\n",
        "        <td>KACY</td>\n",
        "        <td>Atlantic City International Airport</td>\n",
        "        <td>P-S</td>\n",
        "        <td>534,204</td>\n",
        "    </tr>\n",
        "    <tr>\n",
        "        <td>Trenton</td>\n",
        "        <td>TTN</td>\n",
        "        <td>TTN</td>\n",
        "        <td>KTTN</td>\n",
        "        <td>Trenton Mercer Airport</td>\n",
        "        <td>P-N</td>\n",
        "        <td>148,256</td>\n",
        "    </tr>\n",
        "    <tr>\n",
        "        <td>Newark</td>\n",
        "        <td>EWR</td>\n",
        "        <td>EWR</td>\n",
        "        <td>KEWR</td>\n",
        "        <td>Newark Liberty International Airport</td>\n",
        "        <td>P-L</td>\n",
        "        <td>17,514,139</td>\n",
        "    </tr>\n",
        "    <tr>\n",
        "        <td>NEW MEXICO</td>\n",
        "        <td>None</td>\n",
        "        <td>None</td>\n",
        "        <td>None</td>\n",
        "        <td>None</td>\n",
        "        <td>None</td>\n",
        "        <td>None</td>\n",
        "    </tr>\n",
        "    <tr>\n",
        "        <td>Albuquerque</td>\n",
        "        <td>ABQ</td>\n",
        "        <td>ABQ</td>\n",
        "        <td>KABQ</td>\n",
        "        <td>Albuquerque International Sunport</td>\n",
        "        <td>P-M</td>\n",
        "        <td>2,477,960</td>\n",
        "    </tr>\n",
        "    <tr>\n",
        "        <td>Farmington</td>\n",
        "        <td>FMN</td>\n",
        "        <td>FMN</td>\n",
        "        <td>KFMN</td>\n",
        "        <td>Four Corners Regional Airport</td>\n",
        "        <td>P-N</td>\n",
        "        <td>14,263</td>\n",
        "    </tr>\n",
        "    <tr>\n",
        "        <td>Hobbs</td>\n",
        "        <td>HOB</td>\n",
        "        <td>HOB</td>\n",
        "        <td>KHOB</td>\n",
        "        <td>Lea County Regional Airport</td>\n",
        "        <td>P-N</td>\n",
        "        <td>17,246</td>\n",
        "    </tr>\n",
        "    <tr>\n",
        "        <td>Roswell</td>\n",
        "        <td>ROW</td>\n",
        "        <td>ROW</td>\n",
        "        <td>KROW</td>\n",
        "        <td>Roswell International Air Center</td>\n",
        "        <td>P-N</td>\n",
        "        <td>32,616</td>\n",
        "    </tr>\n",
        "    <tr>\n",
        "        <td>Santa Fe</td>\n",
        "        <td>SAF</td>\n",
        "        <td>SAF</td>\n",
        "        <td>KSAF</td>\n",
        "        <td>Santa Fe Municipal Airport (scheduled passenger service resumed 2009)</td>\n",
        "        <td>P-N</td>\n",
        "        <td>65,845</td>\n",
        "    </tr>\n",
        "    <tr>\n",
        "        <td>NEW YORK</td>\n",
        "        <td>None</td>\n",
        "        <td>None</td>\n",
        "        <td>None</td>\n",
        "        <td>None</td>\n",
        "        <td>None</td>\n",
        "        <td>None</td>\n",
        "    </tr>\n",
        "    <tr>\n",
        "        <td>Albany</td>\n",
        "        <td>ALB</td>\n",
        "        <td>ALB</td>\n",
        "        <td>KALB</td>\n",
        "        <td>Albany International Airport</td>\n",
        "        <td>P-S</td>\n",
        "        <td>1,196,753</td>\n",
        "    </tr>\n",
        "    <tr>\n",
        "        <td>Binghamton</td>\n",
        "        <td>BGM</td>\n",
        "        <td>BGM</td>\n",
        "        <td>KBGM</td>\n",
        "        <td>Greater Binghamton Airport (Edwin A. Link Field)</td>\n",
        "        <td>P-N</td>\n",
        "        <td>95,210</td>\n",
        "    </tr>\n",
        "    <tr>\n",
        "        <td>Buffalo</td>\n",
        "        <td>BUF</td>\n",
        "        <td>BUF</td>\n",
        "        <td>KBUF</td>\n",
        "        <td>Buffalo Niagara International Airport</td>\n",
        "        <td>P-M</td>\n",
        "        <td>2,568,018</td>\n",
        "    </tr>\n",
        "    <tr>\n",
        "        <td>Elmira / Corning</td>\n",
        "        <td>ELM</td>\n",
        "        <td>ELM</td>\n",
        "        <td>KELM</td>\n",
        "        <td>Elmira/Corning Regional Airport</td>\n",
        "        <td>P-N</td>\n",
        "        <td>129,749</td>\n",
        "    </tr>\n",
        "    <tr>\n",
        "        <td>Islip</td>\n",
        "        <td>ISP</td>\n",
        "        <td>ISP</td>\n",
        "        <td>KISP</td>\n",
        "        <td>Long Island MacArthur Airport</td>\n",
        "        <td>P-S</td>\n",
        "        <td>662,612</td>\n",
        "    </tr>\n",
        "    <tr>\n",
        "        <td>Ithaca</td>\n",
        "        <td>ITH</td>\n",
        "        <td>ITH</td>\n",
        "        <td>KITH</td>\n",
        "        <td>Ithaca Tompkins Regional Airport</td>\n",
        "        <td>P-N</td>\n",
        "        <td>103,722</td>\n",
        "    </tr>\n",
        "    <tr>\n",
        "        <td>New York</td>\n",
        "        <td>JFK</td>\n",
        "        <td>JFK</td>\n",
        "        <td>KJFK</td>\n",
        "        <td>John F. Kennedy International Airport</td>\n",
        "        <td>P-L</td>\n",
        "        <td>25,036,855</td>\n",
        "    </tr>\n",
        "    <tr>\n",
        "        <td>New York</td>\n",
        "        <td>LGA</td>\n",
        "        <td>LGA</td>\n",
        "        <td>KLGA</td>\n",
        "        <td>LaGuardia Airport (and Marine Air Terminal)</td>\n",
        "        <td>P-L</td>\n",
        "        <td>13,353,365</td>\n",
        "    </tr>\n",
        "    <tr>\n",
        "        <td>Newburgh</td>\n",
        "        <td>SWF</td>\n",
        "        <td>SWF</td>\n",
        "        <td>KSWF</td>\n",
        "        <td>Stewart International Airport</td>\n",
        "        <td>P-N</td>\n",
        "        <td>163,815</td>\n",
        "    </tr>\n",
        "    <tr>\n",
        "        <td>Niagara Falls</td>\n",
        "        <td>IAG</td>\n",
        "        <td>IAG</td>\n",
        "        <td>KIAG</td>\n",
        "        <td>Niagara Falls International Airport</td>\n",
        "        <td>P-N</td>\n",
        "        <td>98,958</td>\n",
        "    </tr>\n",
        "    <tr>\n",
        "        <td>Plattsburgh</td>\n",
        "        <td>PBG</td>\n",
        "        <td>PBG</td>\n",
        "        <td>KPBG</td>\n",
        "        <td>Plattsburgh International Airport</td>\n",
        "        <td>P-N</td>\n",
        "        <td>151,235</td>\n",
        "    </tr>\n",
        "    <tr>\n",
        "        <td>Rochester</td>\n",
        "        <td>ROC</td>\n",
        "        <td>ROC</td>\n",
        "        <td>KROC</td>\n",
        "        <td>Greater Rochester International Airport</td>\n",
        "        <td>P-S</td>\n",
        "        <td>1,209,532</td>\n",
        "    </tr>\n",
        "    <tr>\n",
        "        <td>Syracuse</td>\n",
        "        <td>SYR</td>\n",
        "        <td>SYR</td>\n",
        "        <td>KSYR</td>\n",
        "        <td>Syracuse Hancock International Airport</td>\n",
        "        <td>P-S</td>\n",
        "        <td>991,663</td>\n",
        "    </tr>\n",
        "    <tr>\n",
        "        <td>Watertown</td>\n",
        "        <td>ART</td>\n",
        "        <td>ART</td>\n",
        "        <td>KART</td>\n",
        "        <td>Watertown International Airport</td>\n",
        "        <td>P-N</td>\n",
        "        <td>18,818</td>\n",
        "    </tr>\n",
        "    <tr>\n",
        "        <td>White Plains</td>\n",
        "        <td>HPN</td>\n",
        "        <td>HPN</td>\n",
        "        <td>KHPN</td>\n",
        "        <td>Westchester County Airport</td>\n",
        "        <td>P-S</td>\n",
        "        <td>770,550</td>\n",
        "    </tr>\n",
        "    <tr>\n",
        "        <td>NORTH CAROLINA</td>\n",
        "        <td>None</td>\n",
        "        <td>None</td>\n",
        "        <td>None</td>\n",
        "        <td>None</td>\n",
        "        <td>None</td>\n",
        "        <td>None</td>\n",
        "    </tr>\n",
        "    <tr>\n",
        "        <td>Asheville</td>\n",
        "        <td>AVL</td>\n",
        "        <td>AVL</td>\n",
        "        <td>KAVL</td>\n",
        "        <td>Asheville Regional Airport</td>\n",
        "        <td>P-N</td>\n",
        "        <td>342,731</td>\n",
        "    </tr>\n",
        "    <tr>\n",
        "        <td>Charlotte</td>\n",
        "        <td>CLT</td>\n",
        "        <td>CLT</td>\n",
        "        <td>KCLT</td>\n",
        "        <td>Charlotte/Douglas International Airport</td>\n",
        "        <td>P-L</td>\n",
        "        <td>21,347,428</td>\n",
        "    </tr>\n",
        "    <tr>\n",
        "        <td>Fayetteville</td>\n",
        "        <td>FAY</td>\n",
        "        <td>FAY</td>\n",
        "        <td>KFAY</td>\n",
        "        <td>Fayetteville Regional Airport (Grannis Field)</td>\n",
        "        <td>P-N</td>\n",
        "        <td>244,345</td>\n",
        "    </tr>\n",
        "    <tr>\n",
        "        <td>Greensboro</td>\n",
        "        <td>GSO</td>\n",
        "        <td>GSO</td>\n",
        "        <td>KGSO</td>\n",
        "        <td>Piedmont Triad International Airport</td>\n",
        "        <td>P-S</td>\n",
        "        <td>860,124</td>\n",
        "    </tr>\n",
        "    <tr>\n",
        "        <td>Greenville</td>\n",
        "        <td>PGV</td>\n",
        "        <td>PGV</td>\n",
        "        <td>KPGV</td>\n",
        "        <td>Pitt-Greenville Airport</td>\n",
        "        <td>P-N</td>\n",
        "        <td>60,020</td>\n",
        "    </tr>\n",
        "    <tr>\n",
        "        <td>Jacksonville</td>\n",
        "        <td>OAJ</td>\n",
        "        <td>OAJ</td>\n",
        "        <td>KOAJ</td>\n",
        "        <td>Albert J. Ellis Airport</td>\n",
        "        <td>P-N</td>\n",
        "        <td>167,528</td>\n",
        "    </tr>\n",
        "    <tr>\n",
        "        <td>New Bern</td>\n",
        "        <td>EWN</td>\n",
        "        <td>EWN</td>\n",
        "        <td>KEWN</td>\n",
        "        <td>Coastal Carolina Regional Airport (was Craven County Regional)</td>\n",
        "        <td>P-N</td>\n",
        "        <td>121,479</td>\n",
        "    </tr>\n",
        "    <tr>\n",
        "        <td>Raleigh</td>\n",
        "        <td>RDU</td>\n",
        "        <td>RDU</td>\n",
        "        <td>KRDU</td>\n",
        "        <td>Raleigh-Durham International Airport</td>\n",
        "        <td>P-M</td>\n",
        "        <td>4,482,973</td>\n",
        "    </tr>\n",
        "    <tr>\n",
        "        <td>Wilmington</td>\n",
        "        <td>ILM</td>\n",
        "        <td>ILM</td>\n",
        "        <td>KILM</td>\n",
        "        <td>Wilmington International Airport</td>\n",
        "        <td>P-S</td>\n",
        "        <td>397,737</td>\n",
        "    </tr>\n",
        "    <tr>\n",
        "        <td>NORTH DAKOTA</td>\n",
        "        <td>None</td>\n",
        "        <td>None</td>\n",
        "        <td>None</td>\n",
        "        <td>None</td>\n",
        "        <td>None</td>\n",
        "        <td>None</td>\n",
        "    </tr>\n",
        "    <tr>\n",
        "        <td>Bismarck</td>\n",
        "        <td>BIS</td>\n",
        "        <td>BIS</td>\n",
        "        <td>KBIS</td>\n",
        "        <td>Bismarck Municipal Airport</td>\n",
        "        <td>P-N</td>\n",
        "        <td>238,929</td>\n",
        "    </tr>\n",
        "    <tr>\n",
        "        <td>Dickinson</td>\n",
        "        <td>DIK</td>\n",
        "        <td>DIK</td>\n",
        "        <td>KDIK</td>\n",
        "        <td>Dickinson Theodore Roosevelt Regional Airport</td>\n",
        "        <td>P-N</td>\n",
        "        <td>34,979</td>\n",
        "    </tr>\n",
        "    <tr>\n",
        "        <td>Fargo</td>\n",
        "        <td>FAR</td>\n",
        "        <td>FAR</td>\n",
        "        <td>KFAR</td>\n",
        "        <td>Hector International Airport</td>\n",
        "        <td>P-S</td>\n",
        "        <td>403,786</td>\n",
        "    </tr>\n",
        "    <tr>\n",
        "        <td>Grand Forks</td>\n",
        "        <td>GFK</td>\n",
        "        <td>GFK</td>\n",
        "        <td>KGFK</td>\n",
        "        <td>Grand Forks International Airport</td>\n",
        "        <td>P-N</td>\n",
        "        <td>148,663</td>\n",
        "    </tr>\n",
        "    <tr>\n",
        "        <td>Minot</td>\n",
        "        <td>MOT</td>\n",
        "        <td>MOT</td>\n",
        "        <td>KMOT</td>\n",
        "        <td>Minot International Airport</td>\n",
        "        <td>P-N</td>\n",
        "        <td>220,787</td>\n",
        "    </tr>\n",
        "    <tr>\n",
        "        <td>Williston</td>\n",
        "        <td>ISN</td>\n",
        "        <td>ISN</td>\n",
        "        <td>KISN</td>\n",
        "        <td>Sloulin Field International Airport</td>\n",
        "        <td>P-N</td>\n",
        "        <td>96,078</td>\n",
        "    </tr>\n",
        "    <tr>\n",
        "        <td>OHIO</td>\n",
        "        <td>None</td>\n",
        "        <td>None</td>\n",
        "        <td>None</td>\n",
        "        <td>None</td>\n",
        "        <td>None</td>\n",
        "        <td>None</td>\n",
        "    </tr>\n",
        "    <tr>\n",
        "        <td>Akron / Canton</td>\n",
        "        <td>CAK</td>\n",
        "        <td>CAK</td>\n",
        "        <td>KCAK</td>\n",
        "        <td>Akron-Canton Regional Airport</td>\n",
        "        <td>P-S</td>\n",
        "        <td>852,332</td>\n",
        "    </tr>\n",
        "    <tr>\n",
        "        <td>Cleveland</td>\n",
        "        <td>CLE</td>\n",
        "        <td>CLE</td>\n",
        "        <td>KCLE</td>\n",
        "        <td>Cleveland-Hopkins International Airport</td>\n",
        "        <td>P-M</td>\n",
        "        <td>4,375,822</td>\n",
        "    </tr>\n",
        "    <tr>\n",
        "        <td>Columbus</td>\n",
        "        <td>CMH</td>\n",
        "        <td>CMH</td>\n",
        "        <td>KCMH</td>\n",
        "        <td>Port Columbus International Airport</td>\n",
        "        <td>P-M</td>\n",
        "        <td>3,065,569</td>\n",
        "    </tr>\n",
        "    <tr>\n",
        "        <td>Columbus</td>\n",
        "        <td>LCK</td>\n",
        "        <td>LCK</td>\n",
        "        <td>KLCK</td>\n",
        "        <td>Rickenbacker International Airport</td>\n",
        "        <td>P-N</td>\n",
        "        <td>17,765</td>\n",
        "    </tr>\n",
        "    <tr>\n",
        "        <td>Dayton</td>\n",
        "        <td>DAY</td>\n",
        "        <td>DAY</td>\n",
        "        <td>KDAY</td>\n",
        "        <td>James M. Cox Dayton International Airport</td>\n",
        "        <td>P-S</td>\n",
        "        <td>1,244,841</td>\n",
        "    </tr>\n",
        "    <tr>\n",
        "        <td>Toledo</td>\n",
        "        <td>TOL</td>\n",
        "        <td>TOL</td>\n",
        "        <td>KTOL</td>\n",
        "        <td>Toledo Express Airport</td>\n",
        "        <td>P-N</td>\n",
        "        <td>86,221</td>\n",
        "    </tr>\n",
        "    <tr>\n",
        "        <td>Youngstown / Warren</td>\n",
        "        <td>YNG</td>\n",
        "        <td>YNG</td>\n",
        "        <td>KYNG</td>\n",
        "        <td>Youngstown-Warren Regional Airport / Youngstown ARS</td>\n",
        "        <td>P-N</td>\n",
        "        <td>47,518</td>\n",
        "    </tr>\n",
        "    <tr>\n",
        "        <td>OKLAHOMA</td>\n",
        "        <td>None</td>\n",
        "        <td>None</td>\n",
        "        <td>None</td>\n",
        "        <td>None</td>\n",
        "        <td>None</td>\n",
        "        <td>None</td>\n",
        "    </tr>\n",
        "    <tr>\n",
        "        <td>Lawton</td>\n",
        "        <td>LAW</td>\n",
        "        <td>LAW</td>\n",
        "        <td>KLAW</td>\n",
        "        <td>Lawton\u2013Fort Sill Regional Airport</td>\n",
        "        <td>P-N</td>\n",
        "        <td>55,526</td>\n",
        "    </tr>\n",
        "    <tr>\n",
        "        <td>Oklahoma City</td>\n",
        "        <td>OKC</td>\n",
        "        <td>OKC</td>\n",
        "        <td>KOKC</td>\n",
        "        <td>Will Rogers World Airport</td>\n",
        "        <td>P-S</td>\n",
        "        <td>1,790,407</td>\n",
        "    </tr>\n",
        "    <tr>\n",
        "        <td>Tulsa</td>\n",
        "        <td>TUL</td>\n",
        "        <td>TUL</td>\n",
        "        <td>KTUL</td>\n",
        "        <td>Tulsa International Airport</td>\n",
        "        <td>P-S</td>\n",
        "        <td>1,323,943</td>\n",
        "    </tr>\n",
        "    <tr>\n",
        "        <td>OREGON</td>\n",
        "        <td>None</td>\n",
        "        <td>None</td>\n",
        "        <td>None</td>\n",
        "        <td>None</td>\n",
        "        <td>None</td>\n",
        "        <td>None</td>\n",
        "    </tr>\n",
        "    <tr>\n",
        "        <td>Eugene</td>\n",
        "        <td>EUG</td>\n",
        "        <td>EUG</td>\n",
        "        <td>KEUG</td>\n",
        "        <td>Eugene Airport (Mahlon Sweet Field)</td>\n",
        "        <td>P-S</td>\n",
        "        <td>434,095</td>\n",
        "    </tr>\n",
        "    <tr>\n",
        "        <td>Klamath Falls</td>\n",
        "        <td>LMT</td>\n",
        "        <td>LMT</td>\n",
        "        <td>KLMT</td>\n",
        "        <td>Klamath Falls Airport (Kingsley Field)</td>\n",
        "        <td>P-N</td>\n",
        "        <td>13,433</td>\n",
        "    </tr>\n",
        "    <tr>\n",
        "        <td>Medford</td>\n",
        "        <td>MFR</td>\n",
        "        <td>MFR</td>\n",
        "        <td>KMFR</td>\n",
        "        <td>Rogue Valley International-Medford Airport</td>\n",
        "        <td>P-N</td>\n",
        "        <td>306,450</td>\n",
        "    </tr>\n",
        "    <tr>\n",
        "        <td>North Bend</td>\n",
        "        <td>OTH</td>\n",
        "        <td>OTH</td>\n",
        "        <td>KOTH</td>\n",
        "        <td>Southwest Oregon Regional Airport (was North Bend Municipal)</td>\n",
        "        <td>P-N</td>\n",
        "        <td>16,864</td>\n",
        "    </tr>\n",
        "    <tr>\n",
        "        <td>Portland</td>\n",
        "        <td>PDX</td>\n",
        "        <td>PDX</td>\n",
        "        <td>KPDX</td>\n",
        "        <td>Portland International Airport</td>\n",
        "        <td>P-L</td>\n",
        "        <td>7,453,098</td>\n",
        "    </tr>\n",
        "    <tr>\n",
        "        <td>Redmond</td>\n",
        "        <td>RDM</td>\n",
        "        <td>RDM</td>\n",
        "        <td>KRDM</td>\n",
        "        <td>Redmond Municipal Airport (Roberts Field)</td>\n",
        "        <td>P-N</td>\n",
        "        <td>236,303</td>\n",
        "    </tr>\n",
        "    <tr>\n",
        "        <td>PENNSYLVANIA</td>\n",
        "        <td>None</td>\n",
        "        <td>None</td>\n",
        "        <td>None</td>\n",
        "        <td>None</td>\n",
        "        <td>None</td>\n",
        "        <td>None</td>\n",
        "    </tr>\n",
        "    <tr>\n",
        "        <td>Allentown</td>\n",
        "        <td>ABE</td>\n",
        "        <td>ABE</td>\n",
        "        <td>KABE</td>\n",
        "        <td>Lehigh Valley International Airport</td>\n",
        "        <td>P-N</td>\n",
        "        <td>301,969</td>\n",
        "    </tr>\n",
        "    <tr>\n",
        "        <td>Erie</td>\n",
        "        <td>ERI</td>\n",
        "        <td>ERI</td>\n",
        "        <td>KERI</td>\n",
        "        <td>Erie International Airport (Tom Ridge Field)</td>\n",
        "        <td>P-N</td>\n",
        "        <td>109,520</td>\n",
        "    </tr>\n",
        "    <tr>\n",
        "        <td>Harrisburg / Middletown</td>\n",
        "        <td>MDT</td>\n",
        "        <td>MDT</td>\n",
        "        <td>KMDT</td>\n",
        "        <td>Harrisburg International Airport</td>\n",
        "        <td>P-S</td>\n",
        "        <td>657,650</td>\n",
        "    </tr>\n",
        "    <tr>\n",
        "        <td>Latrobe</td>\n",
        "        <td>LBE</td>\n",
        "        <td>LBE</td>\n",
        "        <td>KLBE</td>\n",
        "        <td>Arnold Palmer Regional Airport</td>\n",
        "        <td>P-N</td>\n",
        "        <td>127,040</td>\n",
        "    </tr>\n",
        "    <tr>\n",
        "        <td>Philadelphia</td>\n",
        "        <td>PHL</td>\n",
        "        <td>PHL</td>\n",
        "        <td>KPHL</td>\n",
        "        <td>Philadelphia International Airport</td>\n",
        "        <td>P-L</td>\n",
        "        <td>14,705,014</td>\n",
        "    </tr>\n",
        "    <tr>\n",
        "        <td>Pittsburgh</td>\n",
        "        <td>PIT</td>\n",
        "        <td>PIT</td>\n",
        "        <td>KPIT</td>\n",
        "        <td>Pittsburgh International Airport</td>\n",
        "        <td>P-M</td>\n",
        "        <td>3,813,007</td>\n",
        "    </tr>\n",
        "    <tr>\n",
        "        <td>State College</td>\n",
        "        <td>UNV</td>\n",
        "        <td>SCE</td>\n",
        "        <td>KUNV</td>\n",
        "        <td>University Park Airport</td>\n",
        "        <td>P-N</td>\n",
        "        <td>131,220</td>\n",
        "    </tr>\n",
        "    <tr>\n",
        "        <td>Wilkes-Barre / Scranton</td>\n",
        "        <td>AVP</td>\n",
        "        <td>AVP</td>\n",
        "        <td>KAVP</td>\n",
        "        <td>Wilkes-Barre/Scranton International Airport</td>\n",
        "        <td>P-N</td>\n",
        "        <td>216,536</td>\n",
        "    </tr>\n",
        "    <tr>\n",
        "        <td>Williamsport</td>\n",
        "        <td>IPT</td>\n",
        "        <td>IPT</td>\n",
        "        <td>KIPT</td>\n",
        "        <td>Williamsport Regional Airport</td>\n",
        "        <td>P-N</td>\n",
        "        <td>23,371</td>\n",
        "    </tr>\n",
        "    <tr>\n",
        "        <td>RHODE ISLAND</td>\n",
        "        <td>None</td>\n",
        "        <td>None</td>\n",
        "        <td>None</td>\n",
        "        <td>None</td>\n",
        "        <td>None</td>\n",
        "        <td>None</td>\n",
        "    </tr>\n",
        "    <tr>\n",
        "        <td>Providence / Warwick</td>\n",
        "        <td>PVD</td>\n",
        "        <td>PVD</td>\n",
        "        <td>KPVD</td>\n",
        "        <td>Theodore Francis Green State Airport</td>\n",
        "        <td>P-M</td>\n",
        "        <td>1,951,566</td>\n",
        "    </tr>\n",
        "    <tr>\n",
        "        <td>Westerly</td>\n",
        "        <td>WST</td>\n",
        "        <td>WST</td>\n",
        "        <td>KWST</td>\n",
        "        <td>Westerly State Airport</td>\n",
        "        <td>P-N</td>\n",
        "        <td>11,402</td>\n",
        "    </tr>\n",
        "    <tr>\n",
        "        <td>SOUTH CAROLINA</td>\n",
        "        <td>None</td>\n",
        "        <td>None</td>\n",
        "        <td>None</td>\n",
        "        <td>None</td>\n",
        "        <td>None</td>\n",
        "        <td>None</td>\n",
        "    </tr>\n",
        "    <tr>\n",
        "        <td>Charleston</td>\n",
        "        <td>CHS</td>\n",
        "        <td>CHS</td>\n",
        "        <td>KCHS</td>\n",
        "        <td>Charleston International Airport / Charleston AFB</td>\n",
        "        <td>P-S</td>\n",
        "        <td>1,470,901</td>\n",
        "    </tr>\n",
        "    <tr>\n",
        "        <td>Columbia</td>\n",
        "        <td>CAE</td>\n",
        "        <td>CAE</td>\n",
        "        <td>KCAE</td>\n",
        "        <td>Columbia Metropolitan Airport</td>\n",
        "        <td>P-S</td>\n",
        "        <td>487,180</td>\n",
        "    </tr>\n",
        "    <tr>\n",
        "        <td>Florence</td>\n",
        "        <td>FLO</td>\n",
        "        <td>FLO</td>\n",
        "        <td>KFLO</td>\n",
        "        <td>Florence Regional Airport</td>\n",
        "        <td>P-N</td>\n",
        "        <td>59,894</td>\n",
        "    </tr>\n",
        "    <tr>\n",
        "        <td>Greer</td>\n",
        "        <td>GSP</td>\n",
        "        <td>GSP</td>\n",
        "        <td>KGSP</td>\n",
        "        <td>Greenville-Spartanburg International Airport (Roger Milliken Field)</td>\n",
        "        <td>P-S</td>\n",
        "        <td>917,937</td>\n",
        "    </tr>\n",
        "    <tr>\n",
        "        <td>Hilton Head Island</td>\n",
        "        <td>HXD</td>\n",
        "        <td>HHH</td>\n",
        "        <td>KHXD</td>\n",
        "        <td>Hilton Head Airport</td>\n",
        "        <td>P-N</td>\n",
        "        <td>58,704</td>\n",
        "    </tr>\n",
        "    <tr>\n",
        "        <td>Myrtle Beach</td>\n",
        "        <td>MYR</td>\n",
        "        <td>MYR</td>\n",
        "        <td>KMYR</td>\n",
        "        <td>Myrtle Beach International Airport</td>\n",
        "        <td>P-S</td>\n",
        "        <td>823,294</td>\n",
        "    </tr>\n",
        "    <tr>\n",
        "        <td>SOUTH DAKOTA</td>\n",
        "        <td>None</td>\n",
        "        <td>None</td>\n",
        "        <td>None</td>\n",
        "        <td>None</td>\n",
        "        <td>None</td>\n",
        "        <td>None</td>\n",
        "    </tr>\n",
        "    <tr>\n",
        "        <td>Aberdeen</td>\n",
        "        <td>ABR</td>\n",
        "        <td>ABR</td>\n",
        "        <td>KABR</td>\n",
        "        <td>Aberdeen Regional Airport</td>\n",
        "        <td>P-N</td>\n",
        "        <td>20,089</td>\n",
        "    </tr>\n",
        "    <tr>\n",
        "        <td>Pierre</td>\n",
        "        <td>PIR</td>\n",
        "        <td>PIR</td>\n",
        "        <td>KPIR</td>\n",
        "        <td>Pierre Regional Airport</td>\n",
        "        <td>P-N</td>\n",
        "        <td>14,686</td>\n",
        "    </tr>\n",
        "    <tr>\n",
        "        <td>Rapid City</td>\n",
        "        <td>RAP</td>\n",
        "        <td>RAP</td>\n",
        "        <td>KRAP</td>\n",
        "        <td>Rapid City Regional Airport</td>\n",
        "        <td>P-N</td>\n",
        "        <td>284,126</td>\n",
        "    </tr>\n",
        "    <tr>\n",
        "        <td>Sioux Falls</td>\n",
        "        <td>FSD</td>\n",
        "        <td>FSD</td>\n",
        "        <td>KFSD</td>\n",
        "        <td>Sioux Falls Regional Airport (Joe Foss Field)</td>\n",
        "        <td>P-N</td>\n",
        "        <td>355,939</td>\n",
        "    </tr>\n",
        "    <tr>\n",
        "        <td>TENNESSEE</td>\n",
        "        <td>None</td>\n",
        "        <td>None</td>\n",
        "        <td>None</td>\n",
        "        <td>None</td>\n",
        "        <td>None</td>\n",
        "        <td>None</td>\n",
        "    </tr>\n",
        "    <tr>\n",
        "        <td>Bristol / Johnson City / Kingsport</td>\n",
        "        <td>TRI</td>\n",
        "        <td>TRI</td>\n",
        "        <td>KTRI</td>\n",
        "        <td>Tri-Cities Regional Airport (Tri-Cities Regional TN/VA)</td>\n",
        "        <td>P-N</td>\n",
        "        <td>202,114</td>\n",
        "    </tr>\n",
        "    <tr>\n",
        "        <td>Chattanooga</td>\n",
        "        <td>CHA</td>\n",
        "        <td>CHA</td>\n",
        "        <td>KCHA</td>\n",
        "        <td>Chattanooga Metropolitan Airport (Lovell Field)</td>\n",
        "        <td>P-N</td>\n",
        "        <td>292,830</td>\n",
        "    </tr>\n",
        "    <tr>\n",
        "        <td>Knoxville</td>\n",
        "        <td>TYS</td>\n",
        "        <td>TYS</td>\n",
        "        <td>KTYS</td>\n",
        "        <td>McGhee Tyson Airport</td>\n",
        "        <td>P-S</td>\n",
        "        <td>804,917</td>\n",
        "    </tr>\n",
        "    <tr>\n",
        "        <td>Memphis</td>\n",
        "        <td>MEM</td>\n",
        "        <td>MEM</td>\n",
        "        <td>KMEM</td>\n",
        "        <td>Memphis International Airport</td>\n",
        "        <td>P-M</td>\n",
        "        <td>4,930,935</td>\n",
        "    </tr>\n",
        "    <tr>\n",
        "        <td>Nashville</td>\n",
        "        <td>BNA</td>\n",
        "        <td>BNA</td>\n",
        "        <td>KBNA</td>\n",
        "        <td>Nashville International Airport (Berry Field)</td>\n",
        "        <td>P-M</td>\n",
        "        <td>4,432,527</td>\n",
        "    </tr>\n",
        "    <tr>\n",
        "        <td>TEXAS</td>\n",
        "        <td>None</td>\n",
        "        <td>None</td>\n",
        "        <td>None</td>\n",
        "        <td>None</td>\n",
        "        <td>None</td>\n",
        "        <td>None</td>\n",
        "    </tr>\n",
        "    <tr>\n",
        "        <td>Abilene</td>\n",
        "        <td>ABI</td>\n",
        "        <td>ABI</td>\n",
        "        <td>KABI</td>\n",
        "        <td>Abilene Regional Airport</td>\n",
        "        <td>P-N</td>\n",
        "        <td>73,605</td>\n",
        "    </tr>\n",
        "    <tr>\n",
        "        <td>Amarillo</td>\n",
        "        <td>AMA</td>\n",
        "        <td>AMA</td>\n",
        "        <td>KAMA</td>\n",
        "        <td>Rick Husband Amarillo International Airport</td>\n",
        "        <td>P-S</td>\n",
        "        <td>394,593</td>\n",
        "    </tr>\n",
        "    <tr>\n",
        "        <td>Austin</td>\n",
        "        <td>AUS</td>\n",
        "        <td>AUS</td>\n",
        "        <td>KAUS</td>\n",
        "        <td>Austin-Bergstrom International Airport</td>\n",
        "        <td>P-M</td>\n",
        "        <td>4,201,136</td>\n",
        "    </tr>\n",
        "    <tr>\n",
        "        <td>Beaumont / Port Arthur</td>\n",
        "        <td>BPT</td>\n",
        "        <td>BPT</td>\n",
        "        <td>KBPT</td>\n",
        "        <td>Jack Brooks Regional Airport (was Southeast Texas Regional)</td>\n",
        "        <td>P-N</td>\n",
        "        <td>17,394</td>\n",
        "    </tr>\n",
        "    <tr>\n",
        "        <td>Brownsville</td>\n",
        "        <td>BRO</td>\n",
        "        <td>BRO</td>\n",
        "        <td>KBRO</td>\n",
        "        <td>Brownsville/South Padre Island International Airport</td>\n",
        "        <td>P-N</td>\n",
        "        <td>84,401</td>\n",
        "    </tr>\n",
        "    <tr>\n",
        "        <td>College Station</td>\n",
        "        <td>CLL</td>\n",
        "        <td>CLL</td>\n",
        "        <td>KCLL</td>\n",
        "        <td>Easterwood Airport (Easterwood Field)</td>\n",
        "        <td>P-N</td>\n",
        "        <td>72,188</td>\n",
        "    </tr>\n",
        "    <tr>\n",
        "        <td>Corpus Christi / Kingsville</td>\n",
        "        <td>CRP</td>\n",
        "        <td>CRP</td>\n",
        "        <td>KCRP</td>\n",
        "        <td>Corpus Christi International Airport</td>\n",
        "        <td>P-S</td>\n",
        "        <td>339,193</td>\n",
        "    </tr>\n",
        "    <tr>\n",
        "        <td>Dallas</td>\n",
        "        <td>DAL</td>\n",
        "        <td>DAL</td>\n",
        "        <td>KDAL</td>\n",
        "        <td>Dallas Love Field</td>\n",
        "        <td>P-M</td>\n",
        "        <td>3,783,407</td>\n",
        "    </tr>\n",
        "    <tr>\n",
        "        <td>Dallas-Fort Worth</td>\n",
        "        <td>DFW</td>\n",
        "        <td>DFW</td>\n",
        "        <td>KDFW</td>\n",
        "        <td>Dallas/Fort Worth International Airport</td>\n",
        "        <td>P-L</td>\n",
        "        <td>27,100,656</td>\n",
        "    </tr>\n",
        "    <tr>\n",
        "        <td>Del Rio</td>\n",
        "        <td>DRT</td>\n",
        "        <td>DRT</td>\n",
        "        <td>KDRT</td>\n",
        "        <td>Del Rio International Airport</td>\n",
        "        <td>P-N</td>\n",
        "        <td>13,180</td>\n",
        "    </tr>\n",
        "    <tr>\n",
        "        <td>El Paso</td>\n",
        "        <td>ELP</td>\n",
        "        <td>ELP</td>\n",
        "        <td>KELP</td>\n",
        "        <td>El Paso International Airport</td>\n",
        "        <td>P-S</td>\n",
        "        <td>1,509,093</td>\n",
        "    </tr>\n",
        "    <tr>\n",
        "        <td>Fort Hood / Killeen / Temple</td>\n",
        "        <td>GRK</td>\n",
        "        <td>GRK</td>\n",
        "        <td>KGRK</td>\n",
        "        <td>Killeen-Fort Hood Regional Airport / Robert Gray Army Airfield</td>\n",
        "        <td>P-N</td>\n",
        "        <td>243,861</td>\n",
        "    </tr>\n",
        "    <tr>\n",
        "        <td>Harlingen</td>\n",
        "        <td>HRL</td>\n",
        "        <td>HRL</td>\n",
        "        <td>KHRL</td>\n",
        "        <td>Valley International Airport</td>\n",
        "        <td>P-S</td>\n",
        "        <td>373,438</td>\n",
        "    </tr>\n",
        "    <tr>\n",
        "        <td>Houston</td>\n",
        "        <td>IAH</td>\n",
        "        <td>IAH</td>\n",
        "        <td>KIAH</td>\n",
        "        <td>George Bush Intercontinental Airport</td>\n",
        "        <td>P-L</td>\n",
        "        <td>19,528,631</td>\n",
        "    </tr>\n",
        "    <tr>\n",
        "        <td>Houston</td>\n",
        "        <td>HOU</td>\n",
        "        <td>HOU</td>\n",
        "        <td>KHOU</td>\n",
        "        <td>William P. Hobby Airport</td>\n",
        "        <td>P-M</td>\n",
        "        <td>4,357,835</td>\n",
        "    </tr>\n",
        "    <tr>\n",
        "        <td>Laredo</td>\n",
        "        <td>LRD</td>\n",
        "        <td>LRD</td>\n",
        "        <td>KLRD</td>\n",
        "        <td>Laredo International Airport</td>\n",
        "        <td>P-N</td>\n",
        "        <td>112,520</td>\n",
        "    </tr>\n",
        "    <tr>\n",
        "        <td>Longview</td>\n",
        "        <td>GGG</td>\n",
        "        <td>GGG</td>\n",
        "        <td>KGGG</td>\n",
        "        <td>East Texas Regional Airport</td>\n",
        "        <td>P-N</td>\n",
        "        <td>21,830</td>\n",
        "    </tr>\n",
        "    <tr>\n",
        "        <td>Lubbock</td>\n",
        "        <td>LBB</td>\n",
        "        <td>LBB</td>\n",
        "        <td>KLBB</td>\n",
        "        <td>Lubbock Preston Smith International Airport</td>\n",
        "        <td>P-S</td>\n",
        "        <td>508,858</td>\n",
        "    </tr>\n",
        "    <tr>\n",
        "        <td>McAllen</td>\n",
        "        <td>MFE</td>\n",
        "        <td>MFE</td>\n",
        "        <td>KMFE</td>\n",
        "        <td>McAllen-Miller International Airport (McAllen Miller International)</td>\n",
        "        <td>P-S</td>\n",
        "        <td>344,302</td>\n",
        "    </tr>\n",
        "    <tr>\n",
        "        <td>Midland</td>\n",
        "        <td>MAF</td>\n",
        "        <td>MAF</td>\n",
        "        <td>KMAF</td>\n",
        "        <td>Midland International Airport</td>\n",
        "        <td>P-S</td>\n",
        "        <td>445,043</td>\n",
        "    </tr>\n",
        "    <tr>\n",
        "        <td>San Angelo</td>\n",
        "        <td>SJT</td>\n",
        "        <td>SJT</td>\n",
        "        <td>KSJT</td>\n",
        "        <td>San Angelo Regional Airport (Mathis Field)</td>\n",
        "        <td>P-N</td>\n",
        "        <td>56,021</td>\n",
        "    </tr>\n",
        "    <tr>\n",
        "        <td>San Antonio</td>\n",
        "        <td>SAT</td>\n",
        "        <td>SAT</td>\n",
        "        <td>KSAT</td>\n",
        "        <td>San Antonio International Airport</td>\n",
        "        <td>P-M</td>\n",
        "        <td>3,916,320</td>\n",
        "    </tr>\n",
        "    <tr>\n",
        "        <td>Tyler</td>\n",
        "        <td>TYR</td>\n",
        "        <td>TYR</td>\n",
        "        <td>KTYR</td>\n",
        "        <td>Tyler Pounds Regional Airport</td>\n",
        "        <td>P-N</td>\n",
        "        <td>74,357</td>\n",
        "    </tr>\n",
        "    <tr>\n",
        "        <td>Waco</td>\n",
        "        <td>ACT</td>\n",
        "        <td>ACT</td>\n",
        "        <td>KACT</td>\n",
        "        <td>Waco Regional Airport</td>\n",
        "        <td>P-N</td>\n",
        "        <td>61,401</td>\n",
        "    </tr>\n",
        "    <tr>\n",
        "        <td>Wichita Falls</td>\n",
        "        <td>SPS</td>\n",
        "        <td>SPS</td>\n",
        "        <td>KSPS</td>\n",
        "        <td>Wichita Falls Municipal Airport / Sheppard Air Force Base</td>\n",
        "        <td>P-N</td>\n",
        "        <td>44,296</td>\n",
        "    </tr>\n",
        "    <tr>\n",
        "        <td>UTAH</td>\n",
        "        <td>None</td>\n",
        "        <td>None</td>\n",
        "        <td>None</td>\n",
        "        <td>None</td>\n",
        "        <td>None</td>\n",
        "        <td>None</td>\n",
        "    </tr>\n",
        "    <tr>\n",
        "        <td>Provo</td>\n",
        "        <td>PVU</td>\n",
        "        <td>PVU</td>\n",
        "        <td>KPVU</td>\n",
        "        <td>Provo Municipal Airport (14,858 enplanements in 2011)[1]</td>\n",
        "        <td>P-N [nb 6]</td>\n",
        "        <td>1,124</td>\n",
        "    </tr>\n",
        "    <tr>\n",
        "        <td>Salt Lake City</td>\n",
        "        <td>SLC</td>\n",
        "        <td>SLC</td>\n",
        "        <td>KSLC</td>\n",
        "        <td>Salt Lake City International Airport</td>\n",
        "        <td>P-L</td>\n",
        "        <td>9,910,493</td>\n",
        "    </tr>\n",
        "    <tr>\n",
        "        <td>St. George / Beaver</td>\n",
        "        <td>SGU</td>\n",
        "        <td>SGU</td>\n",
        "        <td>KSGU</td>\n",
        "        <td>St. George Municipal Airport (opened 2011)</td>\n",
        "        <td>P-N [nb 7]</td>\n",
        "        <td>37,596</td>\n",
        "    </tr>\n",
        "    <tr>\n",
        "        <td>Wendover</td>\n",
        "        <td>ENV</td>\n",
        "        <td>ENV</td>\n",
        "        <td>KENV</td>\n",
        "        <td>Wendover Airport (charter flights)</td>\n",
        "        <td>P-N [nb 8]</td>\n",
        "        <td>50,734</td>\n",
        "    </tr>\n",
        "    <tr>\n",
        "        <td>VERMONT</td>\n",
        "        <td>None</td>\n",
        "        <td>None</td>\n",
        "        <td>None</td>\n",
        "        <td>None</td>\n",
        "        <td>None</td>\n",
        "        <td>None</td>\n",
        "    </tr>\n",
        "    <tr>\n",
        "        <td>Burlington</td>\n",
        "        <td>BTV</td>\n",
        "        <td>BTV</td>\n",
        "        <td>KBTV</td>\n",
        "        <td>Burlington International Airport</td>\n",
        "        <td>P-S</td>\n",
        "        <td>640,790</td>\n",
        "    </tr>\n",
        "    <tr>\n",
        "        <td>VIRGINIA</td>\n",
        "        <td>None</td>\n",
        "        <td>None</td>\n",
        "        <td>None</td>\n",
        "        <td>None</td>\n",
        "        <td>None</td>\n",
        "        <td>None</td>\n",
        "    </tr>\n",
        "    <tr>\n",
        "        <td>Charlottesville</td>\n",
        "        <td>CHO</td>\n",
        "        <td>CHO</td>\n",
        "        <td>KCHO</td>\n",
        "        <td>Charlottesville\u2013Albemarle Airport</td>\n",
        "        <td>P-N</td>\n",
        "        <td>197,776</td>\n",
        "    </tr>\n",
        "    <tr>\n",
        "        <td>Lynchburg</td>\n",
        "        <td>LYH</td>\n",
        "        <td>LYH</td>\n",
        "        <td>KLYH</td>\n",
        "        <td>Lynchburg Regional Airport (Preston Glenn Field)</td>\n",
        "        <td>P-N</td>\n",
        "        <td>93,772</td>\n",
        "    </tr>\n",
        "    <tr>\n",
        "        <td>Newport News</td>\n",
        "        <td>PHF</td>\n",
        "        <td>PHF</td>\n",
        "        <td>KPHF</td>\n",
        "        <td>Newport News/Williamsburg International Airport</td>\n",
        "        <td>P-S</td>\n",
        "        <td>519,906</td>\n",
        "    </tr>\n",
        "    <tr>\n",
        "        <td>Norfolk</td>\n",
        "        <td>ORF</td>\n",
        "        <td>ORF</td>\n",
        "        <td>KORF</td>\n",
        "        <td>Norfolk International Airport</td>\n",
        "        <td>P-S</td>\n",
        "        <td>1,663,294</td>\n",
        "    </tr>\n",
        "    <tr>\n",
        "        <td>Richmond</td>\n",
        "        <td>RIC</td>\n",
        "        <td>RIC</td>\n",
        "        <td>KRIC</td>\n",
        "        <td>Richmond International Airport (Byrd Field)</td>\n",
        "        <td>P-S</td>\n",
        "        <td>1,651,131</td>\n",
        "    </tr>\n",
        "    <tr>\n",
        "        <td>Roanoke</td>\n",
        "        <td>ROA</td>\n",
        "        <td>ROA</td>\n",
        "        <td>KROA</td>\n",
        "        <td>Roanoke Regional Airport (Woodrum Field)</td>\n",
        "        <td>P-N</td>\n",
        "        <td>316,478</td>\n",
        "    </tr>\n",
        "    <tr>\n",
        "        <td>Staunton / Waynesboro / Harrisonburg</td>\n",
        "        <td>SHD</td>\n",
        "        <td>SHD</td>\n",
        "        <td>KSHD</td>\n",
        "        <td>Shenandoah Valley Regional Airport</td>\n",
        "        <td>P-N [nb 9]</td>\n",
        "        <td>10,408</td>\n",
        "    </tr>\n",
        "    <tr>\n",
        "        <td>Washington, D.C. / Arlington County</td>\n",
        "        <td>DCA</td>\n",
        "        <td>DCA</td>\n",
        "        <td>KDCA</td>\n",
        "        <td>Ronald Reagan Washington National Airport</td>\n",
        "        <td>P-L</td>\n",
        "        <td>8,736,804</td>\n",
        "    </tr>\n",
        "    <tr>\n",
        "        <td>Washington, D.C. / Chantilly / Dulles</td>\n",
        "        <td>IAD</td>\n",
        "        <td>IAD</td>\n",
        "        <td>KIAD</td>\n",
        "        <td>Washington Dulles International Airport</td>\n",
        "        <td>P-L</td>\n",
        "        <td>11,276,481</td>\n",
        "    </tr>\n",
        "    <tr>\n",
        "        <td>WASHINGTON</td>\n",
        "        <td>None</td>\n",
        "        <td>None</td>\n",
        "        <td>None</td>\n",
        "        <td>None</td>\n",
        "        <td>None</td>\n",
        "        <td>None</td>\n",
        "    </tr>\n",
        "    <tr>\n",
        "        <td>Bellingham</td>\n",
        "        <td>BLI</td>\n",
        "        <td>BLI</td>\n",
        "        <td>KBLI</td>\n",
        "        <td>Bellingham International Airport</td>\n",
        "        <td>P-N</td>\n",
        "        <td>398,368</td>\n",
        "    </tr>\n",
        "    <tr>\n",
        "        <td>Friday Harbor</td>\n",
        "        <td>FHR</td>\n",
        "        <td>FRD</td>\n",
        "        <td>KFHR</td>\n",
        "        <td>Friday Harbor Airport</td>\n",
        "        <td>P-N</td>\n",
        "        <td>12,381</td>\n",
        "    </tr>\n",
        "    <tr>\n",
        "        <td>Pasco</td>\n",
        "        <td>PSC</td>\n",
        "        <td>PSC</td>\n",
        "        <td>KPSC</td>\n",
        "        <td>Tri-Cities Airport</td>\n",
        "        <td>P-N</td>\n",
        "        <td>312,915</td>\n",
        "    </tr>\n",
        "    <tr>\n",
        "        <td>Port Angeles</td>\n",
        "        <td>CLM</td>\n",
        "        <td>CLM</td>\n",
        "        <td>KCLM</td>\n",
        "        <td>William R. Fairchild International Airport</td>\n",
        "        <td>P-N</td>\n",
        "        <td>10,616</td>\n",
        "    </tr>\n",
        "    <tr>\n",
        "        <td>Pullman / Moscow, Idaho</td>\n",
        "        <td>PUW</td>\n",
        "        <td>PUW</td>\n",
        "        <td>KPUW</td>\n",
        "        <td>Pullman/Moscow Regional Airport</td>\n",
        "        <td>P-N</td>\n",
        "        <td>35,248</td>\n",
        "    </tr>\n",
        "    <tr>\n",
        "        <td>Seattle</td>\n",
        "        <td>BFI</td>\n",
        "        <td>BFI</td>\n",
        "        <td>KBFI</td>\n",
        "        <td>King County International Airport (Boeing Field)</td>\n",
        "        <td>P-N</td>\n",
        "        <td>33,656</td>\n",
        "    </tr>\n",
        "    <tr>\n",
        "        <td>Seattle / Tacoma (SeaTac)</td>\n",
        "        <td>SEA</td>\n",
        "        <td>SEA</td>\n",
        "        <td>KSEA</td>\n",
        "        <td>Seattle\u2013Tacoma International Airport</td>\n",
        "        <td>P-L</td>\n",
        "        <td>15,406,243</td>\n",
        "    </tr>\n",
        "    <tr>\n",
        "        <td>Spokane</td>\n",
        "        <td>GEG</td>\n",
        "        <td>GEG</td>\n",
        "        <td>KGEG</td>\n",
        "        <td>Spokane International Airport (Geiger Field)</td>\n",
        "        <td>P-S</td>\n",
        "        <td>1,545,115</td>\n",
        "    </tr>\n",
        "    <tr>\n",
        "        <td>Walla Walla</td>\n",
        "        <td>ALW</td>\n",
        "        <td>ALW</td>\n",
        "        <td>KALW</td>\n",
        "        <td>Walla Walla Regional Airport</td>\n",
        "        <td>P-N</td>\n",
        "        <td>29,064</td>\n",
        "    </tr>\n",
        "    <tr>\n",
        "        <td>Wenatchee</td>\n",
        "        <td>EAT</td>\n",
        "        <td>EAT</td>\n",
        "        <td>KEAT</td>\n",
        "        <td>Pangborn Memorial Airport</td>\n",
        "        <td>P-N</td>\n",
        "        <td>46,837</td>\n",
        "    </tr>\n",
        "    <tr>\n",
        "        <td>Yakima</td>\n",
        "        <td>YKM</td>\n",
        "        <td>YKM</td>\n",
        "        <td>KYKM</td>\n",
        "        <td>Yakima Air Terminal (McAllister Field)</td>\n",
        "        <td>P-N</td>\n",
        "        <td>53,832</td>\n",
        "    </tr>\n",
        "    <tr>\n",
        "        <td>WEST VIRGINIA</td>\n",
        "        <td>None</td>\n",
        "        <td>None</td>\n",
        "        <td>None</td>\n",
        "        <td>None</td>\n",
        "        <td>None</td>\n",
        "        <td>None</td>\n",
        "    </tr>\n",
        "    <tr>\n",
        "        <td>Charleston</td>\n",
        "        <td>CRW</td>\n",
        "        <td>CRW</td>\n",
        "        <td>KCRW</td>\n",
        "        <td>Yeager Airport</td>\n",
        "        <td>P-N</td>\n",
        "        <td>264,818</td>\n",
        "    </tr>\n",
        "    <tr>\n",
        "        <td>Clarksburg</td>\n",
        "        <td>CKB</td>\n",
        "        <td>CKB</td>\n",
        "        <td>KCKB</td>\n",
        "        <td>North Central West Virginia Airport (was Harrison-Marion Regional)</td>\n",
        "        <td>P-N</td>\n",
        "        <td>10,694</td>\n",
        "    </tr>\n",
        "    <tr>\n",
        "        <td>Huntington</td>\n",
        "        <td>HTS</td>\n",
        "        <td>HTS</td>\n",
        "        <td>KHTS</td>\n",
        "        <td>Tri-State Airport (Milton J. Ferguson Field)</td>\n",
        "        <td>P-N</td>\n",
        "        <td>115,263</td>\n",
        "    </tr>\n",
        "    <tr>\n",
        "        <td>Lewisburg</td>\n",
        "        <td>LWB</td>\n",
        "        <td>LWB</td>\n",
        "        <td>KLWB</td>\n",
        "        <td>Greenbrier Valley Airport</td>\n",
        "        <td>P-N [nb 10]</td>\n",
        "        <td>12,293</td>\n",
        "    </tr>\n",
        "    <tr>\n",
        "        <td>Morgantown</td>\n",
        "        <td>MGW</td>\n",
        "        <td>MGW</td>\n",
        "        <td>KMGW</td>\n",
        "        <td>Morgantown Municipal Airport (Walter L. Bill Hart Field)</td>\n",
        "        <td>P-N</td>\n",
        "        <td>11,249</td>\n",
        "    </tr>\n",
        "    <tr>\n",
        "        <td>WISCONSIN</td>\n",
        "        <td>None</td>\n",
        "        <td>None</td>\n",
        "        <td>None</td>\n",
        "        <td>None</td>\n",
        "        <td>None</td>\n",
        "        <td>None</td>\n",
        "    </tr>\n",
        "    <tr>\n",
        "        <td>Appleton</td>\n",
        "        <td>ATW</td>\n",
        "        <td>ATW</td>\n",
        "        <td>KATW</td>\n",
        "        <td>Outagamie County Regional Airport</td>\n",
        "        <td>P-N</td>\n",
        "        <td>259,340</td>\n",
        "    </tr>\n",
        "    <tr>\n",
        "        <td>Eau Claire</td>\n",
        "        <td>EAU</td>\n",
        "        <td>EAU</td>\n",
        "        <td>KEAU</td>\n",
        "        <td>Chippewa Valley Regional Airport</td>\n",
        "        <td>P-N</td>\n",
        "        <td>18,762</td>\n",
        "    </tr>\n",
        "    <tr>\n",
        "        <td>Green Bay</td>\n",
        "        <td>GRB</td>\n",
        "        <td>GRB</td>\n",
        "        <td>KGRB</td>\n",
        "        <td>Austin Straubel International Airport</td>\n",
        "        <td>P-S</td>\n",
        "        <td>410,348</td>\n",
        "    </tr>\n",
        "    <tr>\n",
        "        <td>La Crosse</td>\n",
        "        <td>LSE</td>\n",
        "        <td>LSE</td>\n",
        "        <td>KLSE</td>\n",
        "        <td>La Crosse Regional Airport</td>\n",
        "        <td>P-N</td>\n",
        "        <td>111,462</td>\n",
        "    </tr>\n",
        "    <tr>\n",
        "        <td>Madison</td>\n",
        "        <td>MSN</td>\n",
        "        <td>MSN</td>\n",
        "        <td>KMSN</td>\n",
        "        <td>Dane County Regional Airport (Truax Field)</td>\n",
        "        <td>P-S</td>\n",
        "        <td>728,075</td>\n",
        "    </tr>\n",
        "    <tr>\n",
        "        <td>Milwaukee</td>\n",
        "        <td>MKE</td>\n",
        "        <td>MKE</td>\n",
        "        <td>KMKE</td>\n",
        "        <td>General Mitchell International Airport</td>\n",
        "        <td>P-M</td>\n",
        "        <td>3,861,333</td>\n",
        "    </tr>\n",
        "    <tr>\n",
        "        <td>Wausau</td>\n",
        "        <td>CWA</td>\n",
        "        <td>CWA</td>\n",
        "        <td>KCWA</td>\n",
        "        <td>Central Wisconsin Airport</td>\n",
        "        <td>P-N</td>\n",
        "        <td>154,312</td>\n",
        "    </tr>\n",
        "    <tr>\n",
        "        <td>Rhinelander</td>\n",
        "        <td>RHI</td>\n",
        "        <td>RHI</td>\n",
        "        <td>KRHI</td>\n",
        "        <td>Rhinelander-Oneida County Airport</td>\n",
        "        <td>P-N</td>\n",
        "        <td>26,193</td>\n",
        "    </tr>\n",
        "    <tr>\n",
        "        <td>WYOMING</td>\n",
        "        <td>None</td>\n",
        "        <td>None</td>\n",
        "        <td>None</td>\n",
        "        <td>None</td>\n",
        "        <td>None</td>\n",
        "        <td>None</td>\n",
        "    </tr>\n",
        "    <tr>\n",
        "        <td>Casper</td>\n",
        "        <td>CPR</td>\n",
        "        <td>CPR</td>\n",
        "        <td>KCPR</td>\n",
        "        <td>Casper/Natrona County International Airport</td>\n",
        "        <td>P-N</td>\n",
        "        <td>74,167</td>\n",
        "    </tr>\n",
        "    <tr>\n",
        "        <td>Cheyenne</td>\n",
        "        <td>CYS</td>\n",
        "        <td>CYS</td>\n",
        "        <td>KCYS</td>\n",
        "        <td>Cheyenne Regional Airport (Jerry Olson Field)</td>\n",
        "        <td>P-N</td>\n",
        "        <td>16,697</td>\n",
        "    </tr>\n",
        "    <tr>\n",
        "        <td>Cody</td>\n",
        "        <td>COD</td>\n",
        "        <td>COD</td>\n",
        "        <td>KCOD</td>\n",
        "        <td>Yellowstone Regional Airport</td>\n",
        "        <td>P-N</td>\n",
        "        <td>25,863</td>\n",
        "    </tr>\n",
        "    <tr>\n",
        "        <td>Gillette</td>\n",
        "        <td>GCC</td>\n",
        "        <td>GCC</td>\n",
        "        <td>KGCC</td>\n",
        "        <td>Gillette-Campbell County Airport</td>\n",
        "        <td>P-N</td>\n",
        "        <td>28,232</td>\n",
        "    </tr>\n",
        "    <tr>\n",
        "        <td>Jackson</td>\n",
        "        <td>JAC</td>\n",
        "        <td>JAC</td>\n",
        "        <td>KJAC</td>\n",
        "        <td>Jackson Hole Airport</td>\n",
        "        <td>P-N</td>\n",
        "        <td>305,566</td>\n",
        "    </tr>\n",
        "    <tr>\n",
        "        <td>Laramie</td>\n",
        "        <td>LAR</td>\n",
        "        <td>LAR</td>\n",
        "        <td>KLAR</td>\n",
        "        <td>Laramie Regional Airport</td>\n",
        "        <td>P-N</td>\n",
        "        <td>10,371</td>\n",
        "    </tr>\n",
        "    <tr>\n",
        "        <td>Riverton</td>\n",
        "        <td>RIW</td>\n",
        "        <td>RIW</td>\n",
        "        <td>KRIW</td>\n",
        "        <td>Riverton Regional Airport</td>\n",
        "        <td>P-N</td>\n",
        "        <td>17,035</td>\n",
        "    </tr>\n",
        "    <tr>\n",
        "        <td>Rock Springs</td>\n",
        "        <td>RKS</td>\n",
        "        <td>RKS</td>\n",
        "        <td>KRKS</td>\n",
        "        <td>Rock Springs \u2013 Sweetwater County Airport</td>\n",
        "        <td>P-N</td>\n",
        "        <td>25,541</td>\n",
        "    </tr>\n",
        "    <tr>\n",
        "        <td>Sheridan</td>\n",
        "        <td>SHR</td>\n",
        "        <td>SHR</td>\n",
        "        <td>KSHR</td>\n",
        "        <td>Sheridan County Airport</td>\n",
        "        <td>P-N</td>\n",
        "        <td>17,710</td>\n",
        "    </tr>\n",
        "    <tr>\n",
        "        <td>AMERICAN SAMOA</td>\n",
        "        <td>None</td>\n",
        "        <td>None</td>\n",
        "        <td>None</td>\n",
        "        <td>None</td>\n",
        "        <td>None</td>\n",
        "        <td>None</td>\n",
        "    </tr>\n",
        "    <tr>\n",
        "        <td>Pago Pago, Tutuila</td>\n",
        "        <td>PPG</td>\n",
        "        <td>PPG</td>\n",
        "        <td>NSTU</td>\n",
        "        <td>Pago Pago International Airport</td>\n",
        "        <td>P-N</td>\n",
        "        <td>49,479</td>\n",
        "    </tr>\n",
        "    <tr>\n",
        "        <td>GUAM</td>\n",
        "        <td>None</td>\n",
        "        <td>None</td>\n",
        "        <td>None</td>\n",
        "        <td>None</td>\n",
        "        <td>None</td>\n",
        "        <td>None</td>\n",
        "    </tr>\n",
        "    <tr>\n",
        "        <td>Agana / Tamuning</td>\n",
        "        <td>GUM</td>\n",
        "        <td>GUM</td>\n",
        "        <td>PGUM</td>\n",
        "        <td>Antonio B. Won Pat International Airport</td>\n",
        "        <td>P-S</td>\n",
        "        <td>1,488,187</td>\n",
        "    </tr>\n",
        "    <tr>\n",
        "        <td>NORTHERN MARIANAS</td>\n",
        "        <td>None</td>\n",
        "        <td>None</td>\n",
        "        <td>None</td>\n",
        "        <td>None</td>\n",
        "        <td>None</td>\n",
        "        <td>None</td>\n",
        "    </tr>\n",
        "    <tr>\n",
        "        <td>Obyan, Saipan Island</td>\n",
        "        <td>GSN</td>\n",
        "        <td>SPN</td>\n",
        "        <td>PGSN</td>\n",
        "        <td>Saipan International Airport (Francisco C. Ada)</td>\n",
        "        <td>P-S</td>\n",
        "        <td>448,177</td>\n",
        "    </tr>\n",
        "    <tr>\n",
        "        <td>Rota Island</td>\n",
        "        <td>GRO</td>\n",
        "        <td>ROP</td>\n",
        "        <td>PGRO</td>\n",
        "        <td>Rota International Airport</td>\n",
        "        <td>P-N</td>\n",
        "        <td>10,092</td>\n",
        "    </tr>\n",
        "    <tr>\n",
        "        <td>PUERTO RICO</td>\n",
        "        <td>None</td>\n",
        "        <td>None</td>\n",
        "        <td>None</td>\n",
        "        <td>None</td>\n",
        "        <td>None</td>\n",
        "        <td>None</td>\n",
        "    </tr>\n",
        "    <tr>\n",
        "        <td>Aguadilla</td>\n",
        "        <td>BQN</td>\n",
        "        <td>BQN</td>\n",
        "        <td>TJBQ</td>\n",
        "        <td>Rafael Hern\u00e1ndez International Airport</td>\n",
        "        <td>P-N</td>\n",
        "        <td>240,270</td>\n",
        "    </tr>\n",
        "    <tr>\n",
        "        <td>Ponce</td>\n",
        "        <td>PSE</td>\n",
        "        <td>PSE</td>\n",
        "        <td>TJPS</td>\n",
        "        <td>Mercedita International Airport</td>\n",
        "        <td>P-N</td>\n",
        "        <td>110,159</td>\n",
        "    </tr>\n",
        "    <tr>\n",
        "        <td>San Juan / Carolina</td>\n",
        "        <td>SJU</td>\n",
        "        <td>SJU</td>\n",
        "        <td>TJSJ</td>\n",
        "        <td>Luis Mu\u00f1oz Mar\u00edn International Airport</td>\n",
        "        <td>P-M</td>\n",
        "        <td>4,635,798</td>\n",
        "    </tr>\n",
        "    <tr>\n",
        "        <td>San Juan / Miramar</td>\n",
        "        <td>SIG</td>\n",
        "        <td>SIG</td>\n",
        "        <td>TJIG</td>\n",
        "        <td>Fernando Luis Ribas Dominicci Airport (Isla Grande Airport)</td>\n",
        "        <td>P-N\u00a0[nb 11]</td>\n",
        "        <td>13,837</td>\n",
        "    </tr>\n",
        "    <tr>\n",
        "        <td>Vieques</td>\n",
        "        <td>VQS</td>\n",
        "        <td>VQS</td>\n",
        "        <td>TJVQ</td>\n",
        "        <td>Antonio Rivera Rodr\u00edguez Airport</td>\n",
        "        <td>P-N</td>\n",
        "        <td>21,517</td>\n",
        "    </tr>\n",
        "    <tr>\n",
        "        <td>U.S. VIRGIN ISLANDS</td>\n",
        "        <td>None</td>\n",
        "        <td>None</td>\n",
        "        <td>None</td>\n",
        "        <td>None</td>\n",
        "        <td>None</td>\n",
        "        <td>None</td>\n",
        "    </tr>\n",
        "    <tr>\n",
        "        <td>Charlotte Amalie, St. Thomas</td>\n",
        "        <td>STT</td>\n",
        "        <td>STT</td>\n",
        "        <td>TIST</td>\n",
        "        <td>Cyril E. King Airport</td>\n",
        "        <td>P-S</td>\n",
        "        <td>593,589</td>\n",
        "    </tr>\n",
        "    <tr>\n",
        "        <td>Christiansted, St. Croix</td>\n",
        "        <td>STX</td>\n",
        "        <td>STX</td>\n",
        "        <td>TISX</td>\n",
        "        <td>Henry E. Rohlsen Airport</td>\n",
        "        <td>P-N</td>\n",
        "        <td>169,665</td>\n",
        "    </tr>\n",
        "</table>"
       ],
       "metadata": {},
       "output_type": "pyout",
       "prompt_number": 28,
       "text": [
        "[('ALABAMA', None, None, None, None, None, None),\n",
        " ('Birmingham', 'BHM', 'BHM', 'KBHM', 'Birmingham\u2013Shuttlesworth International Airport', 'P-S', '1,335,014'),\n",
        " ('Dothan', 'DHN', 'DHN', 'KDHN', 'Dothan Regional Airport', 'P-N', '48,423'),\n",
        " ('Huntsville', 'HSV', 'HSV', 'KHSV', 'Huntsville International Airport (Carl T. Jones Field)', 'P-S', '505,541'),\n",
        " ('Mobile', 'MOB', 'MOB', 'KMOB', 'Mobile Regional Airport', 'P-N', '287,661'),\n",
        " ('Montgomery', 'MGM', 'MGM', 'KMGM', 'Montgomery Regional Airport (Dannelly Field)', 'P-N', '157,958'),\n",
        " ('ALASKA', None, None, None, None, None, None),\n",
        " ('Anchorage', 'ANC', 'ANC', 'PANC', 'Ted Stevens Anchorage International Airport', 'P-M', '2,325,030'),\n",
        " ('Aniak', 'ANI', 'ANI', 'PANI', 'Aniak Airport', 'P-N', '14,334'),\n",
        " ('Barrow', 'BRW', 'BRW', 'PABR', 'Wiley Post\u2013Will Rogers Memorial Airport', 'P-N', '51,568'),\n",
        " ('Bethel', 'BET', 'BET', 'PABE', 'Bethel Airport (also see Bethel Seaplane Base)', 'P-N', '152,084'),\n",
        " ('Cordova', 'CDV', 'CDV', 'PACV', 'Merle K. (Mudhole) Smith Airport', 'P-N', '15,772'),\n",
        " ('Deadhorse / Prudhoe Bay', 'SCC', 'SCC', 'PASC', 'Deadhorse Airport (Prudhoe Bay Airport)', 'P-N', '48,588'),\n",
        " ('Dillingham', 'DLG', 'DLG', 'PADL', 'Dillingham Airport', 'P-N', '26,632'),\n",
        " ('Fairbanks', 'FAI', 'FAI', 'PAFA', 'Fairbanks International Airport', 'P-S', '457,372'),\n",
        " ('Galena', 'GAL', 'GAL', 'PAGA', 'Edward G. Pitka Sr. Airport', 'P-N [nb 1]', '14,141'),\n",
        " ('Gustavus', 'GST', 'GST', 'PGST', 'Gustavus Airport', 'P-N [nb 2]', '14,141'),\n",
        " ('Haines', 'HNS', 'HNS', 'PAHN', 'Haines Airport (also see Haines Seaplane Base)', 'P-N', '10,106'),\n",
        " ('Homer', 'HOM', 'HOM', 'PAHO', 'Homer Airport', 'P-N', '37,705'),\n",
        " ('Hoonah', 'HNH', 'HNH', 'PAOH', 'Hoonah Airport (also see Hoonah Seaplane Base)', 'P-N [nb 3]', '10,468'),\n",
        " ('Juneau', 'JNU', 'JNU', 'PAJN', 'Juneau International Airport', 'P-N', '321,573'),\n",
        " ('Kenai', 'ENA', 'ENA', 'PAEN', 'Kenai Municipal Airport', 'P-N', '99,821'),\n",
        " ('Ketchikan', 'KTN', 'KTN', 'PAKT', 'Ketchikan International Airport', 'P-N', '109,433'),\n",
        " ('King Salmon', 'AKN', 'AKN', 'PAKN', 'King Salmon Airport', 'P-N', '35,450'),\n",
        " ('Kodiak', 'ADQ', 'ADQ', 'PADQ', 'Kodiak Airport', 'P-N', '79,930'),\n",
        " ('Kotzebue', 'OTZ', 'OTZ', 'PAOT', 'Ralph Wien Memorial Airport', 'P-N', '61,274'),\n",
        " ('Nome', 'OME', 'OME', 'PAOM', 'Nome Airport', 'P-N', '58,020'),\n",
        " ('Petersburg', 'PSG', 'PSG', 'PAPG', 'Petersburg James A. Johnson Airport', 'P-N', '20,046'),\n",
        " ('Sitka', 'SIT', 'SIT', 'PASI', 'Sitka Rocky Gutierrez Airport', 'P-N', '67,989'),\n",
        " (\"St. Mary's\", 'KSM', 'KSM', 'PASM', \"St. Mary's Airport\", 'P-N', '13,949'),\n",
        " ('Unalakleet', 'UNK', 'UNK', 'PAUN', 'Unalakleet Airport', 'P-N', '14,011'),\n",
        " ('Unalaska', 'DUT', 'DUT', 'PADU', 'Unalaska Airport (Tom Madsen Airport)', 'P-N', '28,556'),\n",
        " ('Valdez', 'VDZ', 'VDZ', 'PAVD', 'Valdez Airport (Pioneer Field)', 'P-N', '13,318'),\n",
        " ('Wrangell', 'WRG', 'WRG', 'PAWG', 'Wrangell Airport (also see Wrangell Seaplane Base)', 'P-N', '11,807'),\n",
        " ('Yakutat', 'YAK', 'YAK', 'PAYA', 'Yakutat Airport (also see Yakutat Seaplane Base)', 'P-N', '10,135'),\n",
        " ('ARIZONA', None, None, None, None, None, None),\n",
        " ('Bullhead City', 'IFP', 'IFP', 'KIFP', 'Laughlin/Bullhead International Airport', 'P-N', '109,647'),\n",
        " ('Flagstaff', 'FLG', 'FLG', 'KFLG', 'Flagstaff Pulliam Airport', 'P-N', '58,323'),\n",
        " ('Grand Canyon / Tusayan', 'GCN', 'GCN', 'KGCN', 'Grand Canyon National Park Airport', 'P-N', '126,364'),\n",
        " ('Mesa', 'IWA', 'AZA', 'KIWA', 'Phoenix\u2013Mesa Gateway Airport', 'P-N', '725,048'),\n",
        " ('Page', 'PGA', 'PGA', 'KPGA', 'Page Municipal Airport', 'P-N', '25,260'),\n",
        " ('Peach Springs', '1G4', 'GCW', None, 'Grand Canyon West Airport', 'P-N', '59,846'),\n",
        " ('Phoenix', 'PHX', 'PHX', 'KPHX', 'Phoenix Sky Harbor International Airport', 'P-L', '19,525,829'),\n",
        " ('Tucson', 'TUS', 'TUS', 'KTUS', 'Tucson International Airport', 'P-M', '1,570,329'),\n",
        " ('Yuma', 'NYL', 'YUM', 'KNYL', 'Yuma International Airport / MCAS Yuma', 'P-N', '78,395'),\n",
        " ('ARKANSAS', None, None, None, None, None, None),\n",
        " ('Fayetteville', 'XNA', 'XNA', 'KXNA', 'Northwest Arkansas Regional Airport', 'P-S', '558,218'),\n",
        " ('Fort Smith', 'FSM', 'FSM', 'KFSM', 'Fort Smith Regional Airport', 'P-N', '82,742'),\n",
        " ('Little Rock', 'LIT', 'LIT', 'KLIT', 'Bill and Hillary Clinton National Airport (Adams Field) (was Little Rock National)', 'P-S', '1,055,608'),\n",
        " ('Texarkana', 'TXK', 'TXK', 'KTXK', 'Texarkana Regional Airport (Webb Field)', 'P-N', '32,882'),\n",
        " ('CALIFORNIA', None, None, None, None, None, None),\n",
        " ('Arcata / Eureka', 'ACV', 'ACV', 'KACV', 'Arcata Airport', 'P-N', '56,682'),\n",
        " ('Bakersfield', 'BFL', 'BFL', 'KBFL', 'Meadows Field', 'P-N', '143,175'),\n",
        " ('Burbank', 'BUR', 'BUR', 'KBUR', 'Bob Hope Airport', 'P-M', '1,919,005'),\n",
        " ('Carlsbad', 'CRQ', 'CLD', 'KCRQ', 'McClellan\u2013Palomar Airport', 'P-N', '52,561'),\n",
        " ('Chico', 'CIC', 'CIC', 'KCIC', 'Chico Municipal Airport', 'P-N', '16,835'),\n",
        " ('Crescent City', 'CEC', 'CEC', 'KCEC', 'Del Norte County Airport (Jack McNamara Field)', 'P-N', '12,136'),\n",
        " ('Fresno', 'FAT', 'FAT', 'KFAT', 'Fresno Yosemite International Airport', 'P-S', '684,849'),\n",
        " ('Long Beach', 'LGB', 'LGB', 'KLGB', 'Long Beach Airport (Daugherty Field)', 'P-S', '1,438,948'),\n",
        " ('Los Angeles', 'LAX', 'LAX', 'KLAX', 'Los Angeles International Airport', 'P-L', '32,427,115'),\n",
        " ('Mammoth Lakes', 'MMH', 'MMH', 'KMMH', 'Mammoth Yosemite Airport', 'P-N [nb 4]', '30,970'),\n",
        " ('Modesto', 'MOD', 'MOD', 'KMOD', 'Modesto City\u2013County Airport (Harry Sham Field)', 'P-N', '11,310'),\n",
        " ('Monterey', 'MRY', 'MRY', 'KMRY', 'Monterey Regional Airport (was Monterey Peninsula Airport)', 'P-N', '205,838'),\n",
        " ('Oakland', 'OAK', 'OAK', 'KOAK', 'Oakland International Airport', 'P-M', '4,771,830'),\n",
        " ('Ontario', 'ONT', 'ONT', 'KONT', 'Ontario International Airport', 'P-M', '1,970,538'),\n",
        " ('Palm Springs', 'PSP', 'PSP', 'KPSP', 'Palm Springs International Airport', 'P-S', '876,428'),\n",
        " ('Redding', 'RDD', 'RDD', 'KRDD', 'Redding Municipal Airport', 'P-N', '24,875'),\n",
        " ('Sacramento', 'SMF', 'SMF', 'KSMF', 'Sacramento International Airport', 'P-M', '4,255,145'),\n",
        " ('San Diego', 'SAN', 'SAN', 'KSAN', 'San Diego International Airport', 'P-L', '8,876,777'),\n",
        " ('San Francisco', 'SFO', 'SFO', 'KSFO', 'San Francisco International Airport', 'P-L', '21,706,567'),\n",
        " ('San Jose', 'SJC', 'SJC', 'KSJC', 'Norman Y. Mineta San Jos\u00e9 International Airport', 'P-M', '4,317,896'),\n",
        " ('San Luis Obispo', 'SBP', 'SBP', 'KSBP', 'San Luis Obispo County Regional Airport (McChesney Field)', 'P-N', '135,844'),\n",
        " ('Santa Ana', 'SNA', 'SNA', 'KSNA', 'John Wayne Airport \u2013 Orange County (was Orange County Airport)', 'P-M', '4,542,376'),\n",
        " ('Santa Barbara', 'SBA', 'SBA', 'KSBA', 'Santa Barbara Municipal Airport (Santa Barbara Airport)', 'P-N', '365,036'),\n",
        " ('Santa Maria', 'SMX', 'SMX', 'KSMX', 'Santa Maria Public Airport (Capt G. Allan Hancock Field)', 'P-N', '51,395'),\n",
        " ('Santa Rosa', 'STS', 'STS', 'KSTS', 'Charles M. Schulz\u2013Sonoma County Airport', 'P-N', '113,083'),\n",
        " ('Stockton', 'SCK', 'SCK', 'KSCK', 'Stockton Metropolitan Airport', 'P-N', '71,757'),\n",
        " ('COLORADO', None, None, None, None, None, None),\n",
        " ('Aspen', 'ASE', 'ASE', 'KASE', 'Aspen-Pitkin County Airport (Sardy Field)', 'P-N', '208,682'),\n",
        " ('Colorado Springs', 'COS', 'COS', 'KCOS', 'City of Colorado Springs Municipal Airport', 'P-S', '658,318'),\n",
        " ('Denver', 'DEN', 'DEN', 'KDEN', 'Denver International Airport', 'P-L', '25,497,348'),\n",
        " ('Durango', 'DRO', 'DRO', 'KDRO', 'Durango-La Plata County Airport', 'P-N', '192,797'),\n",
        " ('Eagle', 'EGE', 'EGE', 'KEGE', 'Eagle County Regional Airport', 'P-N', '168,535'),\n",
        " ('Grand Junction', 'GJT', 'GJT', 'KGJT', 'Grand Junction Regional Airport (Walker Field)', 'P-N', '211,270'),\n",
        " ('Gunnison', 'GUC', 'GUC', 'KGUC', 'Gunnison-Crested Butte Regional Airport', 'P-N', '30,780'),\n",
        " ('Hayden', 'HDN', 'HDN', 'KHDN', 'Yampa Valley Airport (Yampa Valley Regional)', 'P-N', '92,184'),\n",
        " ('Montrose', 'MTJ', 'MTJ', 'KMTJ', 'Montrose Regional Airport', 'P-N', '84,579'),\n",
        " ('CONNECTICUT', None, None, None, None, None, None),\n",
        " ('Hartford', 'BDL', 'BDL', 'KBDL', 'Bradley International Airport', 'P-M', '2,681,718'),\n",
        " ('New Haven', 'HVN', 'HVN', 'KHVN', 'Tweed New Haven Regional Airport', 'P-N', '37,434'),\n",
        " ('FLORIDA', None, None, None, None, None, None),\n",
        " ('Daytona Beach', 'DAB', 'DAB', 'KDAB', 'Daytona Beach International Airport', 'P-N', '293,843'),\n",
        " ('Fort Lauderdale', 'FLL', 'FLL', 'KFLL', 'Fort Lauderdale\u2013Hollywood International Airport', 'P-L', '11,509,361'),\n",
        " ('Fort Myers', 'RSW', 'RSW', 'KRSW', 'Southwest Florida International Airport', 'P-M', '3,789,386'),\n",
        " ('Gainesville', 'GNV', 'GNV', 'KGNV', 'Gainesville Regional Airport', 'P-N', '198,388'),\n",
        " ('Jacksonville', 'JAX', 'JAX', 'KJAX', 'Jacksonville International Airport', 'P-M', '2,549,712'),\n",
        " ('Key West', 'EYW', 'EYW', 'KEYW', 'Key West International Airport', 'P-S', '403,021'),\n",
        " ('Melbourne', 'MLB', 'MLB', 'KMLB', 'Melbourne International Airport', 'P-N', '211,702'),\n",
        " ('Miami', 'MIA', 'MIA', 'KMIA', 'Miami International Airport', 'P-L', '19,422,275'),\n",
        " ('Orlando', 'MCO', 'MCO', 'KMCO', 'Orlando International Airport', 'P-L', '16,885,160'),\n",
        " ('Orlando', 'SFB', 'SFB', 'KSFB', 'Orlando Sanford International Airport', 'P-S', '971,522'),\n",
        " ('Panama City Beach', 'ECP', 'ECP', 'KECP', 'Northwest Florida Beaches International Airport [nb 5]', 'P-S', '391,893'),\n",
        " ('Pensacola', 'PNS', 'PNS', 'KPNS', 'Pensacola International Airport (Pensacola Gulf Coast Regional Airport)', 'P-S', '744,259'),\n",
        " ('Punta Gorda', 'PGD', 'PGD', 'KPGD', 'Punta Gorda Airport (was Charlotte County Airport)', 'P-N', '171,121'),\n",
        " ('Sarasota / Bradenton', 'SRQ', 'SRQ', 'KSRQ', 'Sarasota\u2013Bradenton International Airport', 'P-S', '595,423'),\n",
        " ('St. Petersburg', 'PIE', 'PIE', 'KPIE', 'St. Petersburg\u2013Clearwater International Airport', 'P-S', '514,595'),\n",
        " ('Tallahassee', 'TLH', 'TLH', 'KTLH', 'Tallahassee Regional Airport', 'P-N', '336,129'),\n",
        " ('Tampa', 'TPA', 'TPA', 'KTPA', 'Tampa International Airport', 'P-L', '8,268,207'),\n",
        " ('Valparaiso', 'VPS', 'VPS', 'KVPS', 'Northwest Florida Regional Airport / Eglin Air Force Base', 'P-N', '353,953'),\n",
        " ('West Palm Beach', 'PBI', 'PBI', 'KPBI', 'Palm Beach International Airport', 'P-M', '2,848,901'),\n",
        " ('GEORGIA', None, None, None, None, None, None),\n",
        " ('Albany', 'ABY', 'ABY', 'KABY', 'Southwest Georgia Regional Airport', 'P-N', '31,276'),\n",
        " ('Atlanta', 'ATL', 'ATL', 'KATL', 'Hartsfield-Jackson Atlanta International Airport', 'P-L', '45,308,685'),\n",
        " ('Augusta', 'AGS', 'AGS', 'KAGS', 'Augusta Regional Airport (Bush Field)', 'P-N', '261,079'),\n",
        " ('Brunswick', 'BQK', 'BQK', 'KBQK', 'Brunswick Golden Isles Airport', 'P-N', '32,450'),\n",
        " ('Columbus', 'CSG', 'CSG', 'KCSG', 'Columbus Metropolitan Airport', 'P-N', '59,675'),\n",
        " ('Savannah', 'SAV', 'SAV', 'KSAV', 'Savannah/Hilton Head International Airport', 'P-S', '798,970'),\n",
        " ('Valdosta', 'VLD', 'VLD', 'KVLD', 'Valdosta Regional Airport', 'P-N', '36,814'),\n",
        " ('HAWAII', None, None, None, None, None, None),\n",
        " ('Hilo', 'ITO', 'ITO', 'PHTO', 'Hilo International Airport', 'P-S', '640,411'),\n",
        " ('Honolulu', 'HNL', 'HNL', 'PHNL', 'Honolulu International Airport / Hickam AFB', 'P-L', '9,466,995'),\n",
        " ('Kahului', 'OGG', 'OGG', 'PHOG', 'Kahului Airport', 'P-M', '2,955,304'),\n",
        " ('Kailua/Kona', 'KOA', 'KOA', 'PHKO', 'Kona International Airport at Keahole', 'P-S', '1,376,641'),\n",
        " ('Kaunakakai', 'MKK', 'MKK', 'PHMK', 'Molokai Airport (Moloka\u02bbi Airport)', 'P-N', '63,879'),\n",
        " ('Lanai City (L\u0101na\u02bbi City)', 'LNY', 'LNY', 'PHNY', 'Lanai Airport (L\u0101na\u02bbi Airport)', 'P-N', '47,323'),\n",
        " ('Lihue (L\u012bhu\u02bbe)', 'LIH', 'LIH', 'PHLI', 'Lihue Airport (L\u012bhu\u02bbe Airport)', 'P-S', '1,315,141'),\n",
        " ('IDAHO', None, None, None, None, None, None),\n",
        " ('Boise', 'BOI', 'BOI', 'KBOI', 'Boise Airport (Boise Air Terminal) (Gowen Field)', 'P-S', '1,313,741'),\n",
        " ('Hailey', 'SUN', 'SUN', 'KSUN', 'Friedman Memorial Airport', 'P-N', '52,393'),\n",
        " ('Idaho Falls', 'IDA', 'IDA', 'KIDA', 'Idaho Falls Regional Airport (Fanning Field)', 'P-N', '147,073'),\n",
        " ('Lewiston', 'LWS', 'LWS', 'KLWS', 'Lewiston-Nez Perce County Airport', 'P-N', '62,209'),\n",
        " ('Pocatello / Arbon Valley', 'PIH', 'PIH', 'KPIH', 'Pocatello Regional Airport', 'P-N', '23,775'),\n",
        " ('Twin Falls', 'TWF', 'TWF', 'KTWF', 'Magic Valley Regional Airport (Joslin Field)', 'P-N', '28,601'),\n",
        " ('ILLINOIS', None, None, None, None, None, None),\n",
        " ('Belleville', 'BLV', 'BLV', 'KBLV', 'MidAmerica St. Louis Airport / Scott Air Force Base', 'P-N', '13,542'),\n",
        " ('Bloomington / Normal', 'BMI', 'BMI', 'KBMI', 'Central Illinois Regional Airport at Bloomington-Normal', 'P-N', '211,957'),\n",
        " ('Champaign / Urbana', 'CMI', 'CMI', 'KCMI', 'University of Illinois - Willard Airport', 'P-N', '84,853'),\n",
        " ('Chicago', 'ORD', 'ORD', 'KORD', \"Chicago O'Hare International Airport\", 'P-L', '32,278,906'),\n",
        " ('Chicago', 'MDW', 'MDW', 'KMDW', 'Chicago Midway International Airport', 'P-L', '9,919,985'),\n",
        " ('Marion', 'MWA', 'MWA', 'KMWA', 'Williamson County Regional Airport', 'P-N', '11,241'),\n",
        " ('Moline', 'MLI', 'MLI', 'KMLI', 'Quad City International Airport', 'P-N', '384,198'),\n",
        " ('Peoria', 'PIA', 'PIA', 'KPIA', 'General Downing - Peoria International Airport', 'P-M', '491,000'),\n",
        " ('Quincy', 'UIN', 'UIN', 'KUIN', 'Quincy Regional Airport (Baldwin Field)', 'P-N', '10,679'),\n",
        " ('Rockford', 'RFD', 'RFD', 'KRFD', 'Chicago Rockford International Airport', 'P-N', '109,384'),\n",
        " ('Springfield', 'SPI', 'SPI', 'KSPI', 'Abraham Lincoln Capital Airport', 'P-N', '70,685'),\n",
        " ('INDIANA', None, None, None, None, None, None),\n",
        " ('Evansville', 'EVV', 'EVV', 'KEVV', 'Evansville Regional Airport', 'P-N', '161,279'),\n",
        " ('Fort Wayne', 'FWA', 'FWA', 'KFWA', 'Fort Wayne International Airport', 'P-N', '294,968'),\n",
        " ('Indianapolis', 'IND', 'IND', 'KIND', 'Indianapolis International Airport', 'P-M', '3,535,579'),\n",
        " ('South Bend', 'SBN', 'SBN', 'KSBN', 'South Bend International Airport (was South Bend Regional)', 'P-N', '329,403'),\n",
        " ('IOWA', None, None, None, None, None, None),\n",
        " ('Cedar Rapids', 'CID', 'CID', 'KCID', 'The Eastern Iowa Airport', 'P-S', '520,360'),\n",
        " ('Des Moines', 'DSM', 'DSM', 'KDSM', 'Des Moines International Airport', 'P-S', '1,079,189'),\n",
        " ('Dubuque', 'DBQ', 'DBQ', 'KDBQ', 'Dubuque Regional Airport', 'P-N', '33,465'),\n",
        " ('Sioux City', 'SUX', 'SUX', 'KSUX', 'Sioux Gateway Airport (Col. Bud Day Field)', 'P-N', '25,313'),\n",
        " ('Waterloo', 'ALO', 'ALO', 'KALO', 'Waterloo Regional Airport', 'P-N', '20,984'),\n",
        " ('KANSAS', None, None, None, None, None, None),\n",
        " ('Garden City', 'GCK', 'GCK', 'KGCK', 'Garden City Regional Airport', 'P-N', '24,456'),\n",
        " ('Manhattan', 'MHK', 'MHK', 'KMHK', 'Manhattan Regional Airport', 'P-N', '65,683'),\n",
        " ('Wichita', 'ICT', 'ICT', 'KICT', 'Wichita Dwight D. Eisenhower National Airport (formerly Wichita Mid-Continent Airport)', 'P-S', '736,220'),\n",
        " ('KENTUCKY', None, None, None, None, None, None),\n",
        " ('Covington', 'CVG', 'CVG', 'KCVG', 'Cincinnati/Northern Kentucky International Airport', 'P-M', '2,776,377'),\n",
        " ('Lexington', 'LEX', 'LEX', 'KLEX', 'Blue Grass Airport', 'P-S', '539,879'),\n",
        " ('Louisville', 'SDF', 'SDF', 'KSDF', 'Louisville International Airport (Standiford Field)', 'P-S', '1,669,470'),\n",
        " ('Owensboro', 'OWB', 'OWB', 'KOWB', 'Owensboro-Daviess County Regional Airport', 'P-N', '21,751'),\n",
        " ('Paducah', 'PAH', 'PAH', 'KPAH', 'Barkley Regional Airport', 'P-N', '20,523'),\n",
        " ('LOUISIANA', None, None, None, None, None, None),\n",
        " ('Alexandria', 'AEX', 'AEX', 'KAEX', 'Alexandria International Airport', 'P-N', '183,899'),\n",
        " ('Baton Rouge', 'BTR', 'BTR', 'KBTR', 'Baton Rouge Metropolitan Airport (Ryan Field)', 'P-S', '401,035'),\n",
        " ('Lafayette', 'LFT', 'LFT', 'KLFT', 'Lafayette Regional Airport', 'P-N', '233,498'),\n",
        " ('Lake Charles', 'LCH', 'LCH', 'KLCH', 'Lake Charles Regional Airport', 'P-N', '65,281'),\n",
        " ('Monroe', 'MLU', 'MLU', 'KMLU', 'Monroe Regional Airport', 'P-N', '115,757'),\n",
        " ('New Orleans', 'MSY', 'MSY', 'KMSY', 'Louis Armstrong New Orleans International Airport', 'P-M', '4,577,498'),\n",
        " ('Shreveport', 'SHV', 'SHV', 'KSHV', 'Shreveport Regional Airport', 'P-N', '279,897'),\n",
        " ('MAINE', None, None, None, None, None, None),\n",
        " ('Bangor', 'BGR', 'BGR', 'KBGR', 'Bangor International Airport', 'P-N', '265,245'),\n",
        " ('Bar Harbor', 'BHB', 'BHB', 'KBHB', 'Hancock County-Bar Harbor Airport', 'P-N', '10,625'),\n",
        " ('Portland', 'PWM', 'PWM', 'KPWM', 'Portland International Jetport', 'P-S', '837,335'),\n",
        " ('Presque Isle', 'PQI', 'PQI', 'KPQI', 'Northern Maine Regional Airport at Presque Isle', 'P-N', '11,488'),\n",
        " ('Rockland', 'RKD', 'RKD', 'KRKD', 'Knox County Regional Airport', 'P-N', '15,724'),\n",
        " ('MARYLAND', None, None, None, None, None, None),\n",
        " ('Baltimore / Glen Burnie', 'BWI', 'BWI', 'KBWI', 'Baltimore/Washington International Thurgood Marshall Airport', 'P-L', '11,134,130'),\n",
        " ('Salisbury', 'SBY', 'SBY', 'KSBY', 'Salisbury-Ocean City Wicomico Regional Airport', 'P-N', '62,670'),\n",
        " ('Hagerstown', 'HGR', 'HGR', 'KHGR', 'Hagerstown Regional Airport (Richard A. Henson Field)', 'P-N', '12,941'),\n",
        " ('MASSACHUSETTS', None, None, None, None, None, None),\n",
        " ('Boston', 'BOS', 'BOS', 'KBOS', 'Gen. Edward Lawrence Logan International Airport', 'P-L', '14,721,693'),\n",
        " ('Hyannis', 'HYA', 'HYA', 'KHYA', 'Barnstable Municipal Airport (Boardman/Polando Field)', 'P-N', '88,055'),\n",
        " ('Nantucket', 'ACK', 'ACK', 'KACK', 'Nantucket Memorial Airport', 'P-N', '184,618'),\n",
        " ('New Bedford', 'EWB', 'EWB', 'KEWB', 'New Bedford Regional Airport', 'P-N', '10,604'),\n",
        " ('Provincetown', 'PVC', 'PVC', 'KPVC', 'Provincetown Municipal Airport', 'P-N', '11,288'),\n",
        " ('Vineyard Haven', 'MVY', 'MVY', 'KMVY', \"Martha's Vineyard Airport\", 'P-N', '56,763'),\n",
        " ('MICHIGAN', None, None, None, None, None, None),\n",
        " ('Alpena', 'APN', 'APN', 'KAPN', 'Alpena County Regional Airport', 'P-N', '15,914'),\n",
        " ('Charlevoix', 'CVX', 'CVX', 'KCVX', 'Charlevoix Municipal Airport', 'P-N', '16,929'),\n",
        " ('Detroit / Romulus', 'DTW', 'DTW', 'KDTW', 'Detroit Metropolitan Wayne County Airport', 'P-L', '15,683,787'),\n",
        " ('Escanaba', 'ESC', 'ESC', 'KESC', 'Delta County Airport', 'P-N', '15,110'),\n",
        " ('Flint', 'FNT', 'FNT', 'KFNT', 'Bishop International Airport', 'P-S', '398,132'),\n",
        " ('Grand Rapids', 'GRR', 'GRR', 'KGRR', 'Gerald R. Ford International Airport', 'P-S', '1,123,257'),\n",
        " ('Hancock / Calumet', 'CMX', 'CMX', 'KCMX', 'Houghton County Memorial Airport', 'P-N', '25,312'),\n",
        " ('Iron Mountain / Kingsford', 'IMT', 'IMT', 'KIMT', 'Ford Airport', 'P-N', '11,271'),\n",
        " ('Kalamazoo / Battle Creek', 'AZO', 'AZO', 'KAZO', 'Kalamazoo/Battle Creek International Airport', 'P-N', '129,211'),\n",
        " ('Lansing', 'LAN', 'LAN', 'KLAN', 'Capital Region International Airport (was Lansing Capital City)', 'P-N', '216,925'),\n",
        " ('Marquette / Gwinn', 'SAW', 'MQT', 'KSAW', 'Sawyer International Airport', 'P-N', '42,355'),\n",
        " ('Muskegon', 'MKG', 'MKG', 'KMKG', 'Muskegon County Airport', 'P-N', '18,020'),\n",
        " ('Pellston', 'PLN', 'PLN', 'KPLN', 'Pellston Regional Airport of Emmet County', 'P-N', '27,281'),\n",
        " ('Saginaw', 'MBS', 'MBS', 'KMBS', 'MBS International Airport', 'P-N', '120,689'),\n",
        " ('Sault Ste. Marie', 'CIU', 'CIU', 'KCIU', 'Chippewa County International Airport', 'P-N', '21,827'),\n",
        " ('Traverse City', 'TVC', 'TVC', 'KTVC', 'Cherry Capital Airport', 'P-N', '189,644'),\n",
        " ('MINNESOTA', None, None, None, None, None, None),\n",
        " ('Bemidji', 'BJI', 'BJI', 'KBJI', 'Bemidji Regional Airport', 'P-N', '22,819'),\n",
        " ('Brainerd', 'BRD', 'BRD', 'KBRD', 'Brainerd Lakes Regional Airport', 'P-N', '15,654'),\n",
        " ('Duluth', 'DLH', 'DLH', 'KDLH', 'Duluth International Airport', 'P-N', '155,455'),\n",
        " ('Hibbing', 'HIB', 'HIB', 'KHIB', 'Range Regional Airport (was Chisholm\u2013Hibbing Airport)', 'P-N', '11,669'),\n",
        " ('International Falls', 'INL', 'INL', 'KINL', 'Falls International Airport', 'P-N', '15,796'),\n",
        " ('Minneapolis', 'MSP', 'MSP', 'KMSP', 'Minneapolis\u2013St. Paul International Airport (Wold\u2013Chamberlain Field)', 'P-L', '16,282,038'),\n",
        " ('Rochester', 'RST', 'RST', 'KRST', 'Rochester International Airport', 'P-N', '110,104'),\n",
        " ('St. Cloud', 'STC', 'STC', 'KSTC', 'St. Cloud Regional Airport (scheduled passenger service resumed Dec. 2012)', 'P-N', '15,842'),\n",
        " ('MISSISSIPPI', None, None, None, None, None, None),\n",
        " ('Columbus / West Point / Starkville', 'GTR', 'GTR', 'KGTR', 'Golden Triangle Regional Airport', 'P-N', '41,140'),\n",
        " ('Gulfport / Biloxi', 'GPT', 'GPT', 'KGPT', 'Gulfport-Biloxi International Airport', 'P-N', '369,597'),\n",
        " ('Hattiesburg / Laurel', 'PIB', 'PIB', 'KPIB', 'Hattiesburg-Laurel Regional Airport', 'P-N', '10,633'),\n",
        " ('Jackson', 'JAN', 'JAN', 'KJAN', 'Jackson-Evers International Airport', 'P-S', '596,045'),\n",
        " ('MISSOURI', None, None, None, None, None, None),\n",
        " ('Columbia', 'COU', 'COU', 'KCOU', 'Columbia Regional Airport', 'P-N', '45,714'),\n",
        " ('Joplin', 'JLN', 'JLN', 'KJLN', 'Joplin Regional Airport', 'P-N', '23,329'),\n",
        " ('Kansas City', 'MCI', 'MCI', 'KMCI', 'Kansas City International Airport', 'P-M', '4,836,221'),\n",
        " ('Springfield', 'SGF', 'SGF', 'KSGF', 'Springfield-Branson National Airport', 'P-N', '368,752'),\n",
        " ('St. Louis', 'STL', 'STL', 'KSTL', 'Lambert-St. Louis International Airport', 'P-M', '6,213,972'),\n",
        " ('MONTANA', None, None, None, None, None, None),\n",
        " ('Billings', 'BIL', 'BIL', 'KBIL', 'Billings Logan International Airport', 'P-S', '387,368'),\n",
        " ('Bozeman', 'BZN', 'BZN', 'KBZN', 'Bozeman Yellowstone International Airport (was Gallatin Field Airport)', 'P-S', '442,788'),\n",
        " ('Butte', 'BTM', 'BTM', 'KBTM', 'Bert Mooney Airport', 'P-N', '29,490'),\n",
        " ('Great Falls', 'GTF', 'GTF', 'KGTF', 'Great Falls International Airport', 'P-N', '182,390'),\n",
        " ('Helena', 'HLN', 'HLN', 'KHLN', 'Helena Regional Airport', 'P-N', '97,310'),\n",
        " ('Kalispell', 'GPI', 'FCA', 'KGPI', 'Glacier Park International Airport', 'P-N', '199,701'),\n",
        " ('Missoula', 'MSO', 'MSO', 'KMSO', 'Missoula International Airport', 'P-N', '298,253'),\n",
        " ('NEBRASKA', None, None, None, None, None, None),\n",
        " ('Grand Island', 'GRI', 'GRI', 'KGRI', 'Central Nebraska Regional Airport', 'P-N', '57,165'),\n",
        " ('Kearney', 'EAR', 'EAR', 'KEAR', 'Kearney Regional Airport (was Kearney Municipal)', 'P-N', '13,096'),\n",
        " ('Lincoln', 'LNK', 'LNK', 'KLNK', 'Lincoln Airport (was Lincoln Municipal)', 'P-N', '138,787'),\n",
        " ('Omaha', 'OMA', 'OMA', 'KOMA', 'Eppley Airfield', 'P-M', '1,977,480'),\n",
        " ('Scottsbluff', 'BFF', 'BFF', 'KBFF', 'Western Nebraska Regional Airport (William B. Heilig Field)', 'P-N', '10,155'),\n",
        " ('NEVADA', None, None, None, None, None, None),\n",
        " ('Boulder City', 'BVU', 'BLD', 'KBVU', 'Boulder City Municipal Airport', 'P-N', '103,972'),\n",
        " ('Elko', 'EKO', 'EKO', 'KEKO', 'Elko Regional Airport (J.C. Harris Field)', 'P-N', '19,510'),\n",
        " ('Las Vegas', 'LAS', 'LAS', 'KLAS', 'McCarran International Airport', 'P-L', '19,923,594'),\n",
        " ('Reno', 'RNO', 'RNO', 'KRNO', 'Reno/Tahoe International Airport', 'P-S', '1,672,139'),\n",
        " ('NEW HAMPSHIRE', None, None, None, None, None, None),\n",
        " ('Lebanon', 'LEB', 'LEB', 'KLEB', 'Lebanon Municipal Airport', 'P-N', '10,953'),\n",
        " ('Manchester', 'MHT', 'MHT', 'KMHT', 'Manchester-Boston Regional Airport', 'P-S', '1,190,082'),\n",
        " ('NEW JERSEY', None, None, None, None, None, None),\n",
        " ('Atlantic City', 'ACY', 'ACY', 'KACY', 'Atlantic City International Airport', 'P-S', '534,204'),\n",
        " ('Trenton', 'TTN', 'TTN', 'KTTN', 'Trenton Mercer Airport', 'P-N', '148,256'),\n",
        " ('Newark', 'EWR', 'EWR', 'KEWR', 'Newark Liberty International Airport', 'P-L', '17,514,139'),\n",
        " ('NEW MEXICO', None, None, None, None, None, None),\n",
        " ('Albuquerque', 'ABQ', 'ABQ', 'KABQ', 'Albuquerque International Sunport', 'P-M', '2,477,960'),\n",
        " ('Farmington', 'FMN', 'FMN', 'KFMN', 'Four Corners Regional Airport', 'P-N', '14,263'),\n",
        " ('Hobbs', 'HOB', 'HOB', 'KHOB', 'Lea County Regional Airport', 'P-N', '17,246'),\n",
        " ('Roswell', 'ROW', 'ROW', 'KROW', 'Roswell International Air Center', 'P-N', '32,616'),\n",
        " ('Santa Fe', 'SAF', 'SAF', 'KSAF', 'Santa Fe Municipal Airport (scheduled passenger service resumed 2009)', 'P-N', '65,845'),\n",
        " ('NEW YORK', None, None, None, None, None, None),\n",
        " ('Albany', 'ALB', 'ALB', 'KALB', 'Albany International Airport', 'P-S', '1,196,753'),\n",
        " ('Binghamton', 'BGM', 'BGM', 'KBGM', 'Greater Binghamton Airport (Edwin A. Link Field)', 'P-N', '95,210'),\n",
        " ('Buffalo', 'BUF', 'BUF', 'KBUF', 'Buffalo Niagara International Airport', 'P-M', '2,568,018'),\n",
        " ('Elmira / Corning', 'ELM', 'ELM', 'KELM', 'Elmira/Corning Regional Airport', 'P-N', '129,749'),\n",
        " ('Islip', 'ISP', 'ISP', 'KISP', 'Long Island MacArthur Airport', 'P-S', '662,612'),\n",
        " ('Ithaca', 'ITH', 'ITH', 'KITH', 'Ithaca Tompkins Regional Airport', 'P-N', '103,722'),\n",
        " ('New York', 'JFK', 'JFK', 'KJFK', 'John F. Kennedy International Airport', 'P-L', '25,036,855'),\n",
        " ('New York', 'LGA', 'LGA', 'KLGA', 'LaGuardia Airport (and Marine Air Terminal)', 'P-L', '13,353,365'),\n",
        " ('Newburgh', 'SWF', 'SWF', 'KSWF', 'Stewart International Airport', 'P-N', '163,815'),\n",
        " ('Niagara Falls', 'IAG', 'IAG', 'KIAG', 'Niagara Falls International Airport', 'P-N', '98,958'),\n",
        " ('Plattsburgh', 'PBG', 'PBG', 'KPBG', 'Plattsburgh International Airport', 'P-N', '151,235'),\n",
        " ('Rochester', 'ROC', 'ROC', 'KROC', 'Greater Rochester International Airport', 'P-S', '1,209,532'),\n",
        " ('Syracuse', 'SYR', 'SYR', 'KSYR', 'Syracuse Hancock International Airport', 'P-S', '991,663'),\n",
        " ('Watertown', 'ART', 'ART', 'KART', 'Watertown International Airport', 'P-N', '18,818'),\n",
        " ('White Plains', 'HPN', 'HPN', 'KHPN', 'Westchester County Airport', 'P-S', '770,550'),\n",
        " ('NORTH CAROLINA', None, None, None, None, None, None),\n",
        " ('Asheville', 'AVL', 'AVL', 'KAVL', 'Asheville Regional Airport', 'P-N', '342,731'),\n",
        " ('Charlotte', 'CLT', 'CLT', 'KCLT', 'Charlotte/Douglas International Airport', 'P-L', '21,347,428'),\n",
        " ('Fayetteville', 'FAY', 'FAY', 'KFAY', 'Fayetteville Regional Airport (Grannis Field)', 'P-N', '244,345'),\n",
        " ('Greensboro', 'GSO', 'GSO', 'KGSO', 'Piedmont Triad International Airport', 'P-S', '860,124'),\n",
        " ('Greenville', 'PGV', 'PGV', 'KPGV', 'Pitt-Greenville Airport', 'P-N', '60,020'),\n",
        " ('Jacksonville', 'OAJ', 'OAJ', 'KOAJ', 'Albert J. Ellis Airport', 'P-N', '167,528'),\n",
        " ('New Bern', 'EWN', 'EWN', 'KEWN', 'Coastal Carolina Regional Airport (was Craven County Regional)', 'P-N', '121,479'),\n",
        " ('Raleigh', 'RDU', 'RDU', 'KRDU', 'Raleigh-Durham International Airport', 'P-M', '4,482,973'),\n",
        " ('Wilmington', 'ILM', 'ILM', 'KILM', 'Wilmington International Airport', 'P-S', '397,737'),\n",
        " ('NORTH DAKOTA', None, None, None, None, None, None),\n",
        " ('Bismarck', 'BIS', 'BIS', 'KBIS', 'Bismarck Municipal Airport', 'P-N', '238,929'),\n",
        " ('Dickinson', 'DIK', 'DIK', 'KDIK', 'Dickinson Theodore Roosevelt Regional Airport', 'P-N', '34,979'),\n",
        " ('Fargo', 'FAR', 'FAR', 'KFAR', 'Hector International Airport', 'P-S', '403,786'),\n",
        " ('Grand Forks', 'GFK', 'GFK', 'KGFK', 'Grand Forks International Airport', 'P-N', '148,663'),\n",
        " ('Minot', 'MOT', 'MOT', 'KMOT', 'Minot International Airport', 'P-N', '220,787'),\n",
        " ('Williston', 'ISN', 'ISN', 'KISN', 'Sloulin Field International Airport', 'P-N', '96,078'),\n",
        " ('OHIO', None, None, None, None, None, None),\n",
        " ('Akron / Canton', 'CAK', 'CAK', 'KCAK', 'Akron-Canton Regional Airport', 'P-S', '852,332'),\n",
        " ('Cleveland', 'CLE', 'CLE', 'KCLE', 'Cleveland-Hopkins International Airport', 'P-M', '4,375,822'),\n",
        " ('Columbus', 'CMH', 'CMH', 'KCMH', 'Port Columbus International Airport', 'P-M', '3,065,569'),\n",
        " ('Columbus', 'LCK', 'LCK', 'KLCK', 'Rickenbacker International Airport', 'P-N', '17,765'),\n",
        " ('Dayton', 'DAY', 'DAY', 'KDAY', 'James M. Cox Dayton International Airport', 'P-S', '1,244,841'),\n",
        " ('Toledo', 'TOL', 'TOL', 'KTOL', 'Toledo Express Airport', 'P-N', '86,221'),\n",
        " ('Youngstown / Warren', 'YNG', 'YNG', 'KYNG', 'Youngstown-Warren Regional Airport / Youngstown ARS', 'P-N', '47,518'),\n",
        " ('OKLAHOMA', None, None, None, None, None, None),\n",
        " ('Lawton', 'LAW', 'LAW', 'KLAW', 'Lawton\u2013Fort Sill Regional Airport', 'P-N', '55,526'),\n",
        " ('Oklahoma City', 'OKC', 'OKC', 'KOKC', 'Will Rogers World Airport', 'P-S', '1,790,407'),\n",
        " ('Tulsa', 'TUL', 'TUL', 'KTUL', 'Tulsa International Airport', 'P-S', '1,323,943'),\n",
        " ('OREGON', None, None, None, None, None, None),\n",
        " ('Eugene', 'EUG', 'EUG', 'KEUG', 'Eugene Airport (Mahlon Sweet Field)', 'P-S', '434,095'),\n",
        " ('Klamath Falls', 'LMT', 'LMT', 'KLMT', 'Klamath Falls Airport (Kingsley Field)', 'P-N', '13,433'),\n",
        " ('Medford', 'MFR', 'MFR', 'KMFR', 'Rogue Valley International-Medford Airport', 'P-N', '306,450'),\n",
        " ('North Bend', 'OTH', 'OTH', 'KOTH', 'Southwest Oregon Regional Airport (was North Bend Municipal)', 'P-N', '16,864'),\n",
        " ('Portland', 'PDX', 'PDX', 'KPDX', 'Portland International Airport', 'P-L', '7,453,098'),\n",
        " ('Redmond', 'RDM', 'RDM', 'KRDM', 'Redmond Municipal Airport (Roberts Field)', 'P-N', '236,303'),\n",
        " ('PENNSYLVANIA', None, None, None, None, None, None),\n",
        " ('Allentown', 'ABE', 'ABE', 'KABE', 'Lehigh Valley International Airport', 'P-N', '301,969'),\n",
        " ('Erie', 'ERI', 'ERI', 'KERI', 'Erie International Airport (Tom Ridge Field)', 'P-N', '109,520'),\n",
        " ('Harrisburg / Middletown', 'MDT', 'MDT', 'KMDT', 'Harrisburg International Airport', 'P-S', '657,650'),\n",
        " ('Latrobe', 'LBE', 'LBE', 'KLBE', 'Arnold Palmer Regional Airport', 'P-N', '127,040'),\n",
        " ('Philadelphia', 'PHL', 'PHL', 'KPHL', 'Philadelphia International Airport', 'P-L', '14,705,014'),\n",
        " ('Pittsburgh', 'PIT', 'PIT', 'KPIT', 'Pittsburgh International Airport', 'P-M', '3,813,007'),\n",
        " ('State College', 'UNV', 'SCE', 'KUNV', 'University Park Airport', 'P-N', '131,220'),\n",
        " ('Wilkes-Barre / Scranton', 'AVP', 'AVP', 'KAVP', 'Wilkes-Barre/Scranton International Airport', 'P-N', '216,536'),\n",
        " ('Williamsport', 'IPT', 'IPT', 'KIPT', 'Williamsport Regional Airport', 'P-N', '23,371'),\n",
        " ('RHODE ISLAND', None, None, None, None, None, None),\n",
        " ('Providence / Warwick', 'PVD', 'PVD', 'KPVD', 'Theodore Francis Green State Airport', 'P-M', '1,951,566'),\n",
        " ('Westerly', 'WST', 'WST', 'KWST', 'Westerly State Airport', 'P-N', '11,402'),\n",
        " ('SOUTH CAROLINA', None, None, None, None, None, None),\n",
        " ('Charleston', 'CHS', 'CHS', 'KCHS', 'Charleston International Airport / Charleston AFB', 'P-S', '1,470,901'),\n",
        " ('Columbia', 'CAE', 'CAE', 'KCAE', 'Columbia Metropolitan Airport', 'P-S', '487,180'),\n",
        " ('Florence', 'FLO', 'FLO', 'KFLO', 'Florence Regional Airport', 'P-N', '59,894'),\n",
        " ('Greer', 'GSP', 'GSP', 'KGSP', 'Greenville-Spartanburg International Airport (Roger Milliken Field)', 'P-S', '917,937'),\n",
        " ('Hilton Head Island', 'HXD', 'HHH', 'KHXD', 'Hilton Head Airport', 'P-N', '58,704'),\n",
        " ('Myrtle Beach', 'MYR', 'MYR', 'KMYR', 'Myrtle Beach International Airport', 'P-S', '823,294'),\n",
        " ('SOUTH DAKOTA', None, None, None, None, None, None),\n",
        " ('Aberdeen', 'ABR', 'ABR', 'KABR', 'Aberdeen Regional Airport', 'P-N', '20,089'),\n",
        " ('Pierre', 'PIR', 'PIR', 'KPIR', 'Pierre Regional Airport', 'P-N', '14,686'),\n",
        " ('Rapid City', 'RAP', 'RAP', 'KRAP', 'Rapid City Regional Airport', 'P-N', '284,126'),\n",
        " ('Sioux Falls', 'FSD', 'FSD', 'KFSD', 'Sioux Falls Regional Airport (Joe Foss Field)', 'P-N', '355,939'),\n",
        " ('TENNESSEE', None, None, None, None, None, None),\n",
        " ('Bristol / Johnson City / Kingsport', 'TRI', 'TRI', 'KTRI', 'Tri-Cities Regional Airport (Tri-Cities Regional TN/VA)', 'P-N', '202,114'),\n",
        " ('Chattanooga', 'CHA', 'CHA', 'KCHA', 'Chattanooga Metropolitan Airport (Lovell Field)', 'P-N', '292,830'),\n",
        " ('Knoxville', 'TYS', 'TYS', 'KTYS', 'McGhee Tyson Airport', 'P-S', '804,917'),\n",
        " ('Memphis', 'MEM', 'MEM', 'KMEM', 'Memphis International Airport', 'P-M', '4,930,935'),\n",
        " ('Nashville', 'BNA', 'BNA', 'KBNA', 'Nashville International Airport (Berry Field)', 'P-M', '4,432,527'),\n",
        " ('TEXAS', None, None, None, None, None, None),\n",
        " ('Abilene', 'ABI', 'ABI', 'KABI', 'Abilene Regional Airport', 'P-N', '73,605'),\n",
        " ('Amarillo', 'AMA', 'AMA', 'KAMA', 'Rick Husband Amarillo International Airport', 'P-S', '394,593'),\n",
        " ('Austin', 'AUS', 'AUS', 'KAUS', 'Austin-Bergstrom International Airport', 'P-M', '4,201,136'),\n",
        " ('Beaumont / Port Arthur', 'BPT', 'BPT', 'KBPT', 'Jack Brooks Regional Airport (was Southeast Texas Regional)', 'P-N', '17,394'),\n",
        " ('Brownsville', 'BRO', 'BRO', 'KBRO', 'Brownsville/South Padre Island International Airport', 'P-N', '84,401'),\n",
        " ('College Station', 'CLL', 'CLL', 'KCLL', 'Easterwood Airport (Easterwood Field)', 'P-N', '72,188'),\n",
        " ('Corpus Christi / Kingsville', 'CRP', 'CRP', 'KCRP', 'Corpus Christi International Airport', 'P-S', '339,193'),\n",
        " ('Dallas', 'DAL', 'DAL', 'KDAL', 'Dallas Love Field', 'P-M', '3,783,407'),\n",
        " ('Dallas-Fort Worth', 'DFW', 'DFW', 'KDFW', 'Dallas/Fort Worth International Airport', 'P-L', '27,100,656'),\n",
        " ('Del Rio', 'DRT', 'DRT', 'KDRT', 'Del Rio International Airport', 'P-N', '13,180'),\n",
        " ('El Paso', 'ELP', 'ELP', 'KELP', 'El Paso International Airport', 'P-S', '1,509,093'),\n",
        " ('Fort Hood / Killeen / Temple', 'GRK', 'GRK', 'KGRK', 'Killeen-Fort Hood Regional Airport / Robert Gray Army Airfield', 'P-N', '243,861'),\n",
        " ('Harlingen', 'HRL', 'HRL', 'KHRL', 'Valley International Airport', 'P-S', '373,438'),\n",
        " ('Houston', 'IAH', 'IAH', 'KIAH', 'George Bush Intercontinental Airport', 'P-L', '19,528,631'),\n",
        " ('Houston', 'HOU', 'HOU', 'KHOU', 'William P. Hobby Airport', 'P-M', '4,357,835'),\n",
        " ('Laredo', 'LRD', 'LRD', 'KLRD', 'Laredo International Airport', 'P-N', '112,520'),\n",
        " ('Longview', 'GGG', 'GGG', 'KGGG', 'East Texas Regional Airport', 'P-N', '21,830'),\n",
        " ('Lubbock', 'LBB', 'LBB', 'KLBB', 'Lubbock Preston Smith International Airport', 'P-S', '508,858'),\n",
        " ('McAllen', 'MFE', 'MFE', 'KMFE', 'McAllen-Miller International Airport (McAllen Miller International)', 'P-S', '344,302'),\n",
        " ('Midland', 'MAF', 'MAF', 'KMAF', 'Midland International Airport', 'P-S', '445,043'),\n",
        " ('San Angelo', 'SJT', 'SJT', 'KSJT', 'San Angelo Regional Airport (Mathis Field)', 'P-N', '56,021'),\n",
        " ('San Antonio', 'SAT', 'SAT', 'KSAT', 'San Antonio International Airport', 'P-M', '3,916,320'),\n",
        " ('Tyler', 'TYR', 'TYR', 'KTYR', 'Tyler Pounds Regional Airport', 'P-N', '74,357'),\n",
        " ('Waco', 'ACT', 'ACT', 'KACT', 'Waco Regional Airport', 'P-N', '61,401'),\n",
        " ('Wichita Falls', 'SPS', 'SPS', 'KSPS', 'Wichita Falls Municipal Airport / Sheppard Air Force Base', 'P-N', '44,296'),\n",
        " ('UTAH', None, None, None, None, None, None),\n",
        " ('Provo', 'PVU', 'PVU', 'KPVU', 'Provo Municipal Airport (14,858 enplanements in 2011)[1]', 'P-N [nb 6]', '1,124'),\n",
        " ('Salt Lake City', 'SLC', 'SLC', 'KSLC', 'Salt Lake City International Airport', 'P-L', '9,910,493'),\n",
        " ('St. George / Beaver', 'SGU', 'SGU', 'KSGU', 'St. George Municipal Airport (opened 2011)', 'P-N [nb 7]', '37,596'),\n",
        " ('Wendover', 'ENV', 'ENV', 'KENV', 'Wendover Airport (charter flights)', 'P-N [nb 8]', '50,734'),\n",
        " ('VERMONT', None, None, None, None, None, None),\n",
        " ('Burlington', 'BTV', 'BTV', 'KBTV', 'Burlington International Airport', 'P-S', '640,790'),\n",
        " ('VIRGINIA', None, None, None, None, None, None),\n",
        " ('Charlottesville', 'CHO', 'CHO', 'KCHO', 'Charlottesville\u2013Albemarle Airport', 'P-N', '197,776'),\n",
        " ('Lynchburg', 'LYH', 'LYH', 'KLYH', 'Lynchburg Regional Airport (Preston Glenn Field)', 'P-N', '93,772'),\n",
        " ('Newport News', 'PHF', 'PHF', 'KPHF', 'Newport News/Williamsburg International Airport', 'P-S', '519,906'),\n",
        " ('Norfolk', 'ORF', 'ORF', 'KORF', 'Norfolk International Airport', 'P-S', '1,663,294'),\n",
        " ('Richmond', 'RIC', 'RIC', 'KRIC', 'Richmond International Airport (Byrd Field)', 'P-S', '1,651,131'),\n",
        " ('Roanoke', 'ROA', 'ROA', 'KROA', 'Roanoke Regional Airport (Woodrum Field)', 'P-N', '316,478'),\n",
        " ('Staunton / Waynesboro / Harrisonburg', 'SHD', 'SHD', 'KSHD', 'Shenandoah Valley Regional Airport', 'P-N [nb 9]', '10,408'),\n",
        " ('Washington, D.C. / Arlington County', 'DCA', 'DCA', 'KDCA', 'Ronald Reagan Washington National Airport', 'P-L', '8,736,804'),\n",
        " ('Washington, D.C. / Chantilly / Dulles', 'IAD', 'IAD', 'KIAD', 'Washington Dulles International Airport', 'P-L', '11,276,481'),\n",
        " ('WASHINGTON', None, None, None, None, None, None),\n",
        " ('Bellingham', 'BLI', 'BLI', 'KBLI', 'Bellingham International Airport', 'P-N', '398,368'),\n",
        " ('Friday Harbor', 'FHR', 'FRD', 'KFHR', 'Friday Harbor Airport', 'P-N', '12,381'),\n",
        " ('Pasco', 'PSC', 'PSC', 'KPSC', 'Tri-Cities Airport', 'P-N', '312,915'),\n",
        " ('Port Angeles', 'CLM', 'CLM', 'KCLM', 'William R. Fairchild International Airport', 'P-N', '10,616'),\n",
        " ('Pullman / Moscow, Idaho', 'PUW', 'PUW', 'KPUW', 'Pullman/Moscow Regional Airport', 'P-N', '35,248'),\n",
        " ('Seattle', 'BFI', 'BFI', 'KBFI', 'King County International Airport (Boeing Field)', 'P-N', '33,656'),\n",
        " ('Seattle / Tacoma (SeaTac)', 'SEA', 'SEA', 'KSEA', 'Seattle\u2013Tacoma International Airport', 'P-L', '15,406,243'),\n",
        " ('Spokane', 'GEG', 'GEG', 'KGEG', 'Spokane International Airport (Geiger Field)', 'P-S', '1,545,115'),\n",
        " ('Walla Walla', 'ALW', 'ALW', 'KALW', 'Walla Walla Regional Airport', 'P-N', '29,064'),\n",
        " ('Wenatchee', 'EAT', 'EAT', 'KEAT', 'Pangborn Memorial Airport', 'P-N', '46,837'),\n",
        " ('Yakima', 'YKM', 'YKM', 'KYKM', 'Yakima Air Terminal (McAllister Field)', 'P-N', '53,832'),\n",
        " ('WEST VIRGINIA', None, None, None, None, None, None),\n",
        " ('Charleston', 'CRW', 'CRW', 'KCRW', 'Yeager Airport', 'P-N', '264,818'),\n",
        " ('Clarksburg', 'CKB', 'CKB', 'KCKB', 'North Central West Virginia Airport (was Harrison-Marion Regional)', 'P-N', '10,694'),\n",
        " ('Huntington', 'HTS', 'HTS', 'KHTS', 'Tri-State Airport (Milton J. Ferguson Field)', 'P-N', '115,263'),\n",
        " ('Lewisburg', 'LWB', 'LWB', 'KLWB', 'Greenbrier Valley Airport', 'P-N [nb 10]', '12,293'),\n",
        " ('Morgantown', 'MGW', 'MGW', 'KMGW', 'Morgantown Municipal Airport (Walter L. Bill Hart Field)', 'P-N', '11,249'),\n",
        " ('WISCONSIN', None, None, None, None, None, None),\n",
        " ('Appleton', 'ATW', 'ATW', 'KATW', 'Outagamie County Regional Airport', 'P-N', '259,340'),\n",
        " ('Eau Claire', 'EAU', 'EAU', 'KEAU', 'Chippewa Valley Regional Airport', 'P-N', '18,762'),\n",
        " ('Green Bay', 'GRB', 'GRB', 'KGRB', 'Austin Straubel International Airport', 'P-S', '410,348'),\n",
        " ('La Crosse', 'LSE', 'LSE', 'KLSE', 'La Crosse Regional Airport', 'P-N', '111,462'),\n",
        " ('Madison', 'MSN', 'MSN', 'KMSN', 'Dane County Regional Airport (Truax Field)', 'P-S', '728,075'),\n",
        " ('Milwaukee', 'MKE', 'MKE', 'KMKE', 'General Mitchell International Airport', 'P-M', '3,861,333'),\n",
        " ('Wausau', 'CWA', 'CWA', 'KCWA', 'Central Wisconsin Airport', 'P-N', '154,312'),\n",
        " ('Rhinelander', 'RHI', 'RHI', 'KRHI', 'Rhinelander-Oneida County Airport', 'P-N', '26,193'),\n",
        " ('WYOMING', None, None, None, None, None, None),\n",
        " ('Casper', 'CPR', 'CPR', 'KCPR', 'Casper/Natrona County International Airport', 'P-N', '74,167'),\n",
        " ('Cheyenne', 'CYS', 'CYS', 'KCYS', 'Cheyenne Regional Airport (Jerry Olson Field)', 'P-N', '16,697'),\n",
        " ('Cody', 'COD', 'COD', 'KCOD', 'Yellowstone Regional Airport', 'P-N', '25,863'),\n",
        " ('Gillette', 'GCC', 'GCC', 'KGCC', 'Gillette-Campbell County Airport', 'P-N', '28,232'),\n",
        " ('Jackson', 'JAC', 'JAC', 'KJAC', 'Jackson Hole Airport', 'P-N', '305,566'),\n",
        " ('Laramie', 'LAR', 'LAR', 'KLAR', 'Laramie Regional Airport', 'P-N', '10,371'),\n",
        " ('Riverton', 'RIW', 'RIW', 'KRIW', 'Riverton Regional Airport', 'P-N', '17,035'),\n",
        " ('Rock Springs', 'RKS', 'RKS', 'KRKS', 'Rock Springs \u2013 Sweetwater County Airport', 'P-N', '25,541'),\n",
        " ('Sheridan', 'SHR', 'SHR', 'KSHR', 'Sheridan County Airport', 'P-N', '17,710'),\n",
        " ('AMERICAN SAMOA', None, None, None, None, None, None),\n",
        " ('Pago Pago, Tutuila', 'PPG', 'PPG', 'NSTU', 'Pago Pago International Airport', 'P-N', '49,479'),\n",
        " ('GUAM', None, None, None, None, None, None),\n",
        " ('Agana / Tamuning', 'GUM', 'GUM', 'PGUM', 'Antonio B. Won Pat International Airport', 'P-S', '1,488,187'),\n",
        " ('NORTHERN MARIANAS', None, None, None, None, None, None),\n",
        " ('Obyan, Saipan Island', 'GSN', 'SPN', 'PGSN', 'Saipan International Airport (Francisco C. Ada)', 'P-S', '448,177'),\n",
        " ('Rota Island', 'GRO', 'ROP', 'PGRO', 'Rota International Airport', 'P-N', '10,092'),\n",
        " ('PUERTO RICO', None, None, None, None, None, None),\n",
        " ('Aguadilla', 'BQN', 'BQN', 'TJBQ', 'Rafael Hern\u00e1ndez International Airport', 'P-N', '240,270'),\n",
        " ('Ponce', 'PSE', 'PSE', 'TJPS', 'Mercedita International Airport', 'P-N', '110,159'),\n",
        " ('San Juan / Carolina', 'SJU', 'SJU', 'TJSJ', 'Luis Mu\u00f1oz Mar\u00edn International Airport', 'P-M', '4,635,798'),\n",
        " ('San Juan / Miramar', 'SIG', 'SIG', 'TJIG', 'Fernando Luis Ribas Dominicci Airport (Isla Grande Airport)', 'P-N\\xa0[nb 11]', '13,837'),\n",
        " ('Vieques', 'VQS', 'VQS', 'TJVQ', 'Antonio Rivera Rodr\u00edguez Airport', 'P-N', '21,517'),\n",
        " ('U.S. VIRGIN ISLANDS', None, None, None, None, None, None),\n",
        " ('Charlotte Amalie, St. Thomas', 'STT', 'STT', 'TIST', 'Cyril E. King Airport', 'P-S', '593,589'),\n",
        " ('Christiansted, St. Croix', 'STX', 'STX', 'TISX', 'Henry E. Rohlsen Airport', 'P-N', '169,665')]"
       ]
      }
     ],
     "prompt_number": 28
    },
    {
     "cell_type": "code",
     "collapsed": false,
     "input": [],
     "language": "python",
     "metadata": {},
     "outputs": []
    }
   ],
   "metadata": {}
  }
 ]
}