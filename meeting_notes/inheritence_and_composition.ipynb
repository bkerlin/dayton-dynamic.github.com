{
 "cells": [
  {
   "cell_type": "markdown",
   "metadata": {},
   "source": [
    "Credit to [Sid Burn](http://blogs.perl.org/users/sid_burn/2014/03/inheritance-is-bad-code-reuse-part-1.html)"
   ]
  },
  {
   "cell_type": "markdown",
   "metadata": {},
   "source": [
    "# Life Without Inheritence"
   ]
  },
  {
   "cell_type": "code",
   "execution_count": 11,
   "metadata": {
    "collapsed": true
   },
   "outputs": [],
   "source": [
    "class Cat:\n",
    "    def __init__(self, name):\n",
    "        self.name = name\n",
    "    \n",
    "    def walk(self):\n",
    "        return '{} goes strut, strut, strut'.format(self.name)"
   ]
  },
  {
   "cell_type": "code",
   "execution_count": 12,
   "metadata": {
    "collapsed": false
   },
   "outputs": [],
   "source": [
    "class Pigeon:\n",
    "    def __init__(self, name='nameless pigeon'):\n",
    "        self.name = name    \n",
    "    \n",
    "    def walk(self):\n",
    "        return '{} goes strut, strut, strut'.format(self.name)\n",
    "    \n",
    "    def fly(self):\n",
    "        return '{} goes flap, flap, flap'.format(self.name)"
   ]
  },
  {
   "cell_type": "code",
   "execution_count": 8,
   "metadata": {
    "collapsed": false
   },
   "outputs": [
    {
     "data": {
      "text/plain": [
       "'Rascal goes strut, strut, strut'"
      ]
     },
     "execution_count": 8,
     "metadata": {},
     "output_type": "execute_result"
    }
   ],
   "source": [
    "c1 = Cat('Rascal')\n",
    "p1 = Pigeon()\n",
    "c1.walk()"
   ]
  },
  {
   "cell_type": "code",
   "execution_count": 9,
   "metadata": {
    "collapsed": false
   },
   "outputs": [
    {
     "data": {
      "text/plain": [
       "'nameless pigeon goes strut, strut, strut'"
      ]
     },
     "execution_count": 9,
     "metadata": {},
     "output_type": "execute_result"
    }
   ],
   "source": [
    "p1.walk()"
   ]
  },
  {
   "cell_type": "code",
   "execution_count": 10,
   "metadata": {
    "collapsed": false
   },
   "outputs": [
    {
     "data": {
      "text/plain": [
       "'nameless pigeon goes flap, flap, flap'"
      ]
     },
     "execution_count": 10,
     "metadata": {},
     "output_type": "execute_result"
    }
   ],
   "source": [
    "p1.fly()"
   ]
  },
  {
   "cell_type": "markdown",
   "metadata": {},
   "source": [
    "# Inheritence"
   ]
  },
  {
   "cell_type": "code",
   "execution_count": 19,
   "metadata": {
    "collapsed": true
   },
   "outputs": [],
   "source": [
    "class Animal:\n",
    "    \n",
    "    species = 'animal'\n",
    "    \n",
    "    def __init__(self, name=None):\n",
    "        self.name = name or 'nameless {}'.format(self.species)\n",
    "    \n",
    "    def walk(self):\n",
    "        return '{} goes strut, strut, strut'.format(self.name)\n",
    "    \n",
    "class Cat(Animal):\n",
    "    pass\n",
    "    \n",
    "class Pigeon(Animal):\n",
    "    \n",
    "    def fly(self):\n",
    "        return '{} goes flap, flap, flap'.format(self.name)"
   ]
  },
  {
   "cell_type": "code",
   "execution_count": 20,
   "metadata": {
    "collapsed": false
   },
   "outputs": [
    {
     "data": {
      "text/plain": [
       "'Rascal goes strut, strut, strut'"
      ]
     },
     "execution_count": 20,
     "metadata": {},
     "output_type": "execute_result"
    }
   ],
   "source": [
    "c1 = Cat('Rascal')\n",
    "p1 = Pigeon()\n",
    "c1.walk()"
   ]
  },
  {
   "cell_type": "code",
   "execution_count": 21,
   "metadata": {
    "collapsed": false
   },
   "outputs": [
    {
     "data": {
      "text/plain": [
       "'nameless animal goes strut, strut, strut'"
      ]
     },
     "execution_count": 21,
     "metadata": {},
     "output_type": "execute_result"
    }
   ],
   "source": [
    "p1.walk()"
   ]
  },
  {
   "cell_type": "markdown",
   "metadata": {},
   "source": [
    "#### oops"
   ]
  },
  {
   "cell_type": "code",
   "execution_count": 23,
   "metadata": {
    "collapsed": false
   },
   "outputs": [
    {
     "name": "stdout",
     "output_type": "stream",
     "text": [
      "nameless pigeon goes strut, strut, strut\n",
      "nameless pigeon goes flap, flap, flap\n"
     ]
    }
   ],
   "source": [
    "class Pigeon(Animal):\n",
    "    \n",
    "    species = 'pigeon'\n",
    "    \n",
    "    def fly(self):\n",
    "        return '{} goes flap, flap, flap'.format(self.name)\n",
    "    \n",
    "p2 = Pigeon()\n",
    "print(p2.walk())\n",
    "print(p2.fly())"
   ]
  },
  {
   "cell_type": "code",
   "execution_count": 33,
   "metadata": {
    "collapsed": true
   },
   "outputs": [],
   "source": [
    "class Animal:\n",
    "    \n",
    "    species = 'animal'\n",
    "    \n",
    "    def __init__(self, name=None):\n",
    "        self.name = name or 'nameless {}'.format(self.species)\n",
    "    \n",
    "    def walk(self):\n",
    "        return '{} goes strut, strut, strut'.format(self.name)\n",
    "    \n",
    "class Bird(Animal):\n",
    "\n",
    "    def fly(self):\n",
    "        return '{} goes flap, flap, flap'.format(self.name)\n",
    "    \n",
    "class Mammal(Animal):\n",
    "    \n",
    "    def give_milk(self):\n",
    "        return 'Does a body good!'"
   ]
  },
  {
   "cell_type": "code",
   "execution_count": 34,
   "metadata": {
    "collapsed": false
   },
   "outputs": [],
   "source": [
    "class Pigeon(Bird):\n",
    "    pass\n",
    "\n",
    "class Eagle(Bird):\n",
    "    is_national_symbol = True"
   ]
  },
  {
   "cell_type": "code",
   "execution_count": 42,
   "metadata": {
    "collapsed": false
   },
   "outputs": [
    {
     "name": "stdout",
     "output_type": "stream",
     "text": [
      "Petunia goes flap, flap, flap\n",
      "Sam goes strut, strut, strut\n",
      "Sam goes flap, flap, flap\n",
      "True\n"
     ]
    }
   ],
   "source": [
    "p1 = Pigeon('Petunia')\n",
    "e1 = Eagle('Sam')\n",
    "print(p1.fly())\n",
    "print(e1.walk())\n",
    "print(e1.fly())\n",
    "print(e1.is_national_symbol)"
   ]
  },
  {
   "cell_type": "code",
   "execution_count": 39,
   "metadata": {
    "collapsed": true
   },
   "outputs": [],
   "source": [
    "class Cow(Mammal):\n",
    "    pass"
   ]
  },
  {
   "cell_type": "code",
   "execution_count": 41,
   "metadata": {
    "collapsed": false
   },
   "outputs": [
    {
     "name": "stdout",
     "output_type": "stream",
     "text": [
      "Bessie goes strut, strut, strut\n",
      "Does a body good!\n"
     ]
    }
   ],
   "source": [
    "bessie = Cow('Bessie')\n",
    "print(bessie.walk())\n",
    "print(bessie.give_milk())"
   ]
  },
  {
   "cell_type": "code",
   "execution_count": 43,
   "metadata": {
    "collapsed": true
   },
   "outputs": [],
   "source": [
    "class Cat(Mammal):\n",
    "    \n",
    "    def give_milk(self):\n",
    "        result = super(Cat, self).give_milk()\n",
    "        result += '\\nRoll 1d6 damage.'\n",
    "        return result"
   ]
  },
  {
   "cell_type": "code",
   "execution_count": 45,
   "metadata": {
    "collapsed": false
   },
   "outputs": [
    {
     "name": "stdout",
     "output_type": "stream",
     "text": [
      "Rascal goes strut, strut, strut\n",
      "Does a body good!\n",
      "Roll 1d6 damage.\n"
     ]
    }
   ],
   "source": [
    "rascal = Cat('Rascal')\n",
    "print(rascal.walk())\n",
    "print(rascal.give_milk())"
   ]
  },
  {
   "cell_type": "markdown",
   "metadata": {},
   "source": [
    "### Uh-oh"
   ]
  },
  {
   "cell_type": "markdown",
   "metadata": {},
   "source": [
    "    Animal\n",
    "      Mammal\n",
    "        FemaleMammal\n",
    "          FemaleCat\n",
    "          FemaleCow\n",
    "        MaleMammal\n",
    "          MaleCat\n",
    "          Bull\n",
    "      Bird\n",
    "        Pigeon\n",
    "        Eagle\n",
    "        \n",
    "Now do we put `give_milk` separately in `FemaleCat` and `FemaleCow`?\n",
    "\n",
    "What do we do about bats?  Fish?  Turtles?  Penguins?  \n",
    "\n",
    "Flying, swimming, walking, giving milk: these behaviors don't fall into a clean hierarchy."
   ]
  },
  {
   "cell_type": "markdown",
   "metadata": {},
   "source": [
    "## Multiple Inheritence"
   ]
  },
  {
   "cell_type": "code",
   "execution_count": 2,
   "metadata": {
    "collapsed": true
   },
   "outputs": [],
   "source": [
    "class Animal:\n",
    "    \n",
    "    species = 'animal'\n",
    "    female = True\n",
    "    \n",
    "    def __init__(self, name=None, female=True):\n",
    "        self.name = name or 'nameless {}'.format(self.species)\n",
    "        \n",
    "class WalkMixin:\n",
    "    \n",
    "    def walk(self):\n",
    "        return '{} goes strut, strut, strut'.format(self.name)\n",
    "    \n",
    "class FlyMixin:\n",
    "\n",
    "    def fly(self):\n",
    "        return '{} goes flap, flap, flap'.format(self.name)\n",
    "    \n",
    "class MilkMixin:\n",
    "\n",
    "    def give_milk(self):\n",
    "        if self.female:\n",
    "            return 'Does a body good!'"
   ]
  },
  {
   "cell_type": "code",
   "execution_count": 3,
   "metadata": {
    "collapsed": false
   },
   "outputs": [],
   "source": [
    "class Cow(Animal, WalkMixin, MilkMixin):\n",
    "    pass\n",
    "\n",
    "class Pigeon(Animal, WalkMixin, FlyMixin):\n",
    "    pass\n",
    "\n",
    "class Eagle(Animal, WalkMixin, FlyMixin):\n",
    "    is_national_symbol=True\n",
    "\n",
    "class Bat(Animal, WalkMixin, FlyMixin, MilkMixin):\n",
    "    pass\n",
    "\n",
    "class Mosquito(Animal, FlyMixin):\n",
    "    pass\n",
    "\n",
    "class Cat(Animal, WalkMixin, MilkMixin):\n",
    "    def give_milk(self):\n",
    "        result = super(Cat, self).give_milk()\n",
    "        result += '\\nRoll 1d6 damage.'\n",
    "        return result"
   ]
  },
  {
   "cell_type": "code",
   "execution_count": 5,
   "metadata": {
    "collapsed": true
   },
   "outputs": [],
   "source": [
    "rascal = Cat('Rascal')"
   ]
  },
  {
   "cell_type": "code",
   "execution_count": 6,
   "metadata": {
    "collapsed": false
   },
   "outputs": [
    {
     "name": "stdout",
     "output_type": "stream",
     "text": [
      "Does a body good!\n",
      "Roll 1d6 damage.\n"
     ]
    }
   ],
   "source": [
    "print(rascal.give_milk())"
   ]
  },
  {
   "cell_type": "markdown",
   "metadata": {},
   "source": [
    "### Diamond problem"
   ]
  },
  {
   "cell_type": "code",
   "execution_count": 7,
   "metadata": {
    "collapsed": true
   },
   "outputs": [],
   "source": [
    "class Animal:\n",
    "    \n",
    "    species = 'animal'\n",
    "    female = True\n",
    "    \n",
    "    def __init__(self, name=None, female=True):\n",
    "        self.name = name or 'nameless {}'.format(self.species)\n",
    "        \n",
    "class AquaticAnimal(Animal):\n",
    "    \n",
    "    def move(self):\n",
    "        return '{} goes swim, swim, swim'.format(self.name)\n",
    "    \n",
    "class Mammal(Animal):\n",
    "    \n",
    "    def give_milk(self):\n",
    "        if self.female:\n",
    "            return 'Does a body good!'\n",
    "        \n",
    "    def move(self):\n",
    "        return '{} goes step, step, step'.format(self.name)\n",
    "\n",
    "class Dolphin(Mammal, AquaticAnimal):\n",
    "    \n",
    "    pass\n",
    "\n",
    "class Seal(AquaticAnimal, Mammal):\n",
    "    \n",
    "    pass"
   ]
  },
  {
   "cell_type": "code",
   "execution_count": 11,
   "metadata": {
    "collapsed": false
   },
   "outputs": [
    {
     "data": {
      "text/plain": [
       "'Flipper goes step, step, step'"
      ]
     },
     "execution_count": 11,
     "metadata": {},
     "output_type": "execute_result"
    }
   ],
   "source": [
    "Dolphin('Flipper').move()"
   ]
  },
  {
   "cell_type": "code",
   "execution_count": 12,
   "metadata": {
    "collapsed": false
   },
   "outputs": [
    {
     "data": {
      "text/plain": [
       "'Sally goes swim, swim, swim'"
      ]
     },
     "execution_count": 12,
     "metadata": {},
     "output_type": "execute_result"
    }
   ],
   "source": [
    "Seal('Sally').move()"
   ]
  },
  {
   "cell_type": "markdown",
   "metadata": {},
   "source": [
    "# Composition: has-a"
   ]
  },
  {
   "cell_type": "code",
   "execution_count": 13,
   "metadata": {
    "collapsed": true
   },
   "outputs": [],
   "source": [
    "## *uses* other classes"
   ]
  },
  {
   "cell_type": "code",
   "execution_count": 23,
   "metadata": {
    "collapsed": true
   },
   "outputs": [],
   "source": [
    "class NamedThing:\n",
    "    species = 'thing'\n",
    "    \n",
    "    def __init__(self, name=None):\n",
    "        self.name = name or 'nameless {}'.format(self.species)\n",
    "\n",
    "class Animal(NamedThing):\n",
    "    \n",
    "    species = 'animal'\n",
    "            \n",
    "class Swimmer(NamedThing):\n",
    "    \n",
    "    def move(self):\n",
    "        return '{} goes swim, swim, swim'.format(self.name)\n",
    "\n",
    "class Walker(NamedThing):\n",
    "    \n",
    "    def move(self):\n",
    "        return '{} goes step, step, step'.format(self.name)\n",
    "\n",
    "class MilkGiver:\n",
    "\n",
    "    def __init__(self, female=True):\n",
    "        self.female = female\n",
    "    \n",
    "    def give_milk(self):\n",
    "        if self.female:\n",
    "            return 'Does a body good!'\n",
    "        \n",
    "class NonMilkGiver:\n",
    "    def give_milk(self):\n",
    "        pass"
   ]
  },
  {
   "cell_type": "code",
   "execution_count": 33,
   "metadata": {
    "collapsed": true
   },
   "outputs": [],
   "source": [
    "class Dolphin(Animal):\n",
    "    \n",
    "    species = 'dolphin'\n",
    "    def __init__(self, name=None, female=True):\n",
    "        super(Dolphin, self).__init__(name)\n",
    "        self.locomotor = Swimmer(name=self.name)\n",
    "        self.lactator = MilkGiver(female=female)\n",
    "        \n",
    "class Salmon(Animal):\n",
    "    species = 'salmon'\n",
    "    def __init__(self, name=None, female=True):\n",
    "        super(Salmon, self).__init__(name)\n",
    "        self.locomotor = Swimmer(name=self.name)\n",
    "        self.lactator = NonMilkGiver()\n",
    "        \n",
    "class Cow(Animal):\n",
    "    species = 'cow'\n",
    "    def __init__(self, name=None, female=True):\n",
    "        super(Cow, self).__init__(name)\n",
    "        self.locomotor = Walker(name=self.name)\n",
    "        self.lactator = MilkGiver(female=female)"
   ]
  },
  {
   "cell_type": "code",
   "execution_count": 34,
   "metadata": {
    "collapsed": false
   },
   "outputs": [
    {
     "name": "stdout",
     "output_type": "stream",
     "text": [
      "Bessie goes step, step, step\n",
      "Does a body good!\n"
     ]
    }
   ],
   "source": [
    "bessie = Cow('Bessie')\n",
    "print(bessie.locomotor.move())\n",
    "print(bessie.lactator.give_milk())"
   ]
  },
  {
   "cell_type": "code",
   "execution_count": 35,
   "metadata": {
    "collapsed": false
   },
   "outputs": [
    {
     "name": "stdout",
     "output_type": "stream",
     "text": [
      "Bernie goes step, step, step\n",
      "None\n"
     ]
    }
   ],
   "source": [
    "bessie = Cow('Bernie', female=False)\n",
    "print(bessie.locomotor.move())\n",
    "print(bessie.lactator.give_milk())"
   ]
  },
  {
   "cell_type": "code",
   "execution_count": 36,
   "metadata": {
    "collapsed": false
   },
   "outputs": [
    {
     "name": "stdout",
     "output_type": "stream",
     "text": [
      "Desdemona goes swim, swim, swim\n",
      "Does a body good!\n"
     ]
    }
   ],
   "source": [
    "desdemona = Dolphin('Desdemona')\n",
    "print(desdemona.locomotor.move())\n",
    "print(desdemona.lactator.give_milk())"
   ]
  },
  {
   "cell_type": "code",
   "execution_count": null,
   "metadata": {
    "collapsed": true
   },
   "outputs": [],
   "source": []
  }
 ],
 "metadata": {
  "kernelspec": {
   "display_name": "Python 3",
   "language": "python",
   "name": "python3"
  },
  "language_info": {
   "codemirror_mode": {
    "name": "ipython",
    "version": 3
   },
   "file_extension": ".py",
   "mimetype": "text/x-python",
   "name": "python",
   "nbconvert_exporter": "python",
   "pygments_lexer": "ipython3",
   "version": "3.5.1"
  }
 },
 "nbformat": 4,
 "nbformat_minor": 0
}
